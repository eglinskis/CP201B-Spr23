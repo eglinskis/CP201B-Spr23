{
 "cells": [
  {
   "cell_type": "markdown",
   "metadata": {},
   "source": [
    "**Complete the following steps before Lab 1.**"
   ]
  },
  {
   "cell_type": "markdown",
   "metadata": {},
   "source": [
    "## Step 1: Install Anaconda\n",
    "\n",
    "You may have Python pre-installed. \n",
    "\n",
    "1. Go to the [Anaconda homepage](https://www.anaconda.com/products/individual).\n",
    "2. Download the 64-bit Graphical Installer for your corresponding OS. \n",
    "3. Open the downloaded file and install the program.\n",
    "4. \"Anaconda Navigator\" will now be an application on your computer.\n",
    "\n",
    "## Step 2: Download the Lab Materials\n",
    "\n",
    "Go to the [GitHub page](https://github.com/meiqingli/CP201B-Spr23) for the lab materials. On this page:\n",
    "   \n",
    "1. Click the green \"Code\" button in the top right.\n",
    "2. In the dropdown, click \"Download Zip\".\n",
    "3. Extract the downloaded files someplace familiar (we recommend your Desktop).\n",
    "\n",
    "## Step 3: Open the Jupyter Notebook\n",
    "\n",
    "1. Open the Anaconda Navigator program on your computer.\n",
    "2. Open \"Jupyter Notebook\" from there.\n",
    "3. Navigate to the C201B-Spr23 folder. \n",
    "4. Click on `C201B-Spr23-main`.\n",
    "5. Navigate to `Lab1`."
   ]
  }
 ],
 "metadata": {
  "kernelspec": {
   "display_name": "Python 3",
   "language": "python",
   "name": "python3"
  },
  "language_info": {
   "codemirror_mode": {
    "name": "ipython",
    "version": 3
   },
   "file_extension": ".py",
   "mimetype": "text/x-python",
   "name": "python",
   "nbconvert_exporter": "python",
   "pygments_lexer": "ipython3",
   "version": "3.8.5"
  }
 },
 "nbformat": 4,
 "nbformat_minor": 4
}
