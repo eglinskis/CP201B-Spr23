{
 "cells": [
  {
   "cell_type": "markdown",
   "metadata": {},
   "source": [
    "# Planning Methods: Part II, Spring 2023\n",
    "\n",
    "# Lab 5: Logistic Regressions\n",
    "\n",
    "**About This Lab**\n",
    "* This lab uses the following file in the same directory with this notebook:\n",
    "    * `model_property_data.csv`\n",
    "* This data includes properties that were sold through a real estate site (like Zillow) between 2001 and 2006 in Bogota. There are apartments and houses, characteristics of the structure like area and bathrooms, and characteristics of the neighborhood like density and a proxy for neighborhood income which is called SES."
   ]
  },
  {
   "cell_type": "markdown",
   "metadata": {},
   "source": [
    "## Objectives\n",
    "\n",
    "You will also learn how to:\n",
    ">1. Run a logistic regression and compare results with linear regression\n",
    ">2. Analyze odds ratios\n",
    ">3. Plot predicted probabilities"
   ]
  },
  {
   "cell_type": "markdown",
   "metadata": {},
   "source": [
    "## 1 Import packages, load & clean data"
   ]
  },
  {
   "cell_type": "code",
   "execution_count": 1,
   "metadata": {},
   "outputs": [],
   "source": [
    "import numpy as np\n",
    "import pandas as pd\n",
    "\n",
    "import seaborn as sns\n",
    "import matplotlib.pyplot as plt\n",
    "\n",
    "import statsmodels.api as sm\n",
    "from statsmodels.stats.outliers_influence import variance_inflation_factor\n",
    "from statsmodels.discrete.discrete_model import Logit  "
   ]
  },
  {
   "cell_type": "code",
   "execution_count": 2,
   "metadata": {},
   "outputs": [
    {
     "data": {
      "text/html": [
       "<div>\n",
       "<style scoped>\n",
       "    .dataframe tbody tr th:only-of-type {\n",
       "        vertical-align: middle;\n",
       "    }\n",
       "\n",
       "    .dataframe tbody tr th {\n",
       "        vertical-align: top;\n",
       "    }\n",
       "\n",
       "    .dataframe thead th {\n",
       "        text-align: right;\n",
       "    }\n",
       "</style>\n",
       "<table border=\"1\" class=\"dataframe\">\n",
       "  <thead>\n",
       "    <tr style=\"text-align: right;\">\n",
       "      <th></th>\n",
       "      <th>Unnamed: 0</th>\n",
       "      <th>price_000</th>\n",
       "      <th>pop_dens</th>\n",
       "      <th>ses</th>\n",
       "      <th>house</th>\n",
       "      <th>area_m2</th>\n",
       "      <th>num_bath</th>\n",
       "      <th>pcn_green</th>\n",
       "      <th>thefts</th>\n",
       "      <th>year</th>\n",
       "      <th>high_ses</th>\n",
       "      <th>yr_2001</th>\n",
       "      <th>yr_2002</th>\n",
       "      <th>yr_2003</th>\n",
       "      <th>yr_2004</th>\n",
       "      <th>yr_2005</th>\n",
       "      <th>yr_2006</th>\n",
       "    </tr>\n",
       "  </thead>\n",
       "  <tbody>\n",
       "    <tr>\n",
       "      <th>0</th>\n",
       "      <td>0</td>\n",
       "      <td>60000</td>\n",
       "      <td>830.78</td>\n",
       "      <td>4</td>\n",
       "      <td>0</td>\n",
       "      <td>70</td>\n",
       "      <td>2</td>\n",
       "      <td>1.74</td>\n",
       "      <td>39.92</td>\n",
       "      <td>2001</td>\n",
       "      <td>0</td>\n",
       "      <td>1</td>\n",
       "      <td>0</td>\n",
       "      <td>0</td>\n",
       "      <td>0</td>\n",
       "      <td>0</td>\n",
       "      <td>0</td>\n",
       "    </tr>\n",
       "    <tr>\n",
       "      <th>1</th>\n",
       "      <td>1</td>\n",
       "      <td>140000</td>\n",
       "      <td>826.75</td>\n",
       "      <td>4</td>\n",
       "      <td>1</td>\n",
       "      <td>257</td>\n",
       "      <td>4</td>\n",
       "      <td>0.54</td>\n",
       "      <td>46.00</td>\n",
       "      <td>2002</td>\n",
       "      <td>0</td>\n",
       "      <td>0</td>\n",
       "      <td>1</td>\n",
       "      <td>0</td>\n",
       "      <td>0</td>\n",
       "      <td>0</td>\n",
       "      <td>0</td>\n",
       "    </tr>\n",
       "    <tr>\n",
       "      <th>2</th>\n",
       "      <td>2</td>\n",
       "      <td>38000</td>\n",
       "      <td>914.15</td>\n",
       "      <td>4</td>\n",
       "      <td>0</td>\n",
       "      <td>115</td>\n",
       "      <td>4</td>\n",
       "      <td>1.55</td>\n",
       "      <td>45.87</td>\n",
       "      <td>2002</td>\n",
       "      <td>0</td>\n",
       "      <td>0</td>\n",
       "      <td>1</td>\n",
       "      <td>0</td>\n",
       "      <td>0</td>\n",
       "      <td>0</td>\n",
       "      <td>0</td>\n",
       "    </tr>\n",
       "    <tr>\n",
       "      <th>3</th>\n",
       "      <td>3</td>\n",
       "      <td>110000</td>\n",
       "      <td>911.25</td>\n",
       "      <td>4</td>\n",
       "      <td>1</td>\n",
       "      <td>270</td>\n",
       "      <td>4</td>\n",
       "      <td>1.58</td>\n",
       "      <td>45.88</td>\n",
       "      <td>2002</td>\n",
       "      <td>0</td>\n",
       "      <td>0</td>\n",
       "      <td>1</td>\n",
       "      <td>0</td>\n",
       "      <td>0</td>\n",
       "      <td>0</td>\n",
       "      <td>0</td>\n",
       "    </tr>\n",
       "    <tr>\n",
       "      <th>4</th>\n",
       "      <td>4</td>\n",
       "      <td>120000</td>\n",
       "      <td>757.37</td>\n",
       "      <td>4</td>\n",
       "      <td>1</td>\n",
       "      <td>268</td>\n",
       "      <td>2</td>\n",
       "      <td>0.40</td>\n",
       "      <td>46.00</td>\n",
       "      <td>2002</td>\n",
       "      <td>0</td>\n",
       "      <td>0</td>\n",
       "      <td>1</td>\n",
       "      <td>0</td>\n",
       "      <td>0</td>\n",
       "      <td>0</td>\n",
       "      <td>0</td>\n",
       "    </tr>\n",
       "  </tbody>\n",
       "</table>\n",
       "</div>"
      ],
      "text/plain": [
       "   Unnamed: 0  price_000  pop_dens  ses  house  area_m2  num_bath  pcn_green  \\\n",
       "0           0      60000    830.78    4      0       70         2       1.74   \n",
       "1           1     140000    826.75    4      1      257         4       0.54   \n",
       "2           2      38000    914.15    4      0      115         4       1.55   \n",
       "3           3     110000    911.25    4      1      270         4       1.58   \n",
       "4           4     120000    757.37    4      1      268         2       0.40   \n",
       "\n",
       "   thefts  year  high_ses  yr_2001  yr_2002  yr_2003  yr_2004  yr_2005  \\\n",
       "0   39.92  2001         0        1        0        0        0        0   \n",
       "1   46.00  2002         0        0        1        0        0        0   \n",
       "2   45.87  2002         0        0        1        0        0        0   \n",
       "3   45.88  2002         0        0        1        0        0        0   \n",
       "4   46.00  2002         0        0        1        0        0        0   \n",
       "\n",
       "   yr_2006  \n",
       "0        0  \n",
       "1        0  \n",
       "2        0  \n",
       "3        0  \n",
       "4        0  "
      ]
     },
     "execution_count": 2,
     "metadata": {},
     "output_type": "execute_result"
    }
   ],
   "source": [
    "data = pd.read_csv('model_property_data.csv')\n",
    "\n",
    "data.head()"
   ]
  },
  {
   "cell_type": "markdown",
   "metadata": {},
   "source": [
    "Remember - logistic regressions are used when the **dependent** variable is a dummy variable (0 or 1). In this case, we are going to transform our price into a dummy variable, using the median as cutoff."
   ]
  },
  {
   "cell_type": "markdown",
   "metadata": {},
   "source": [
    "## 2 Create dependent variable"
   ]
  },
  {
   "cell_type": "code",
   "execution_count": 3,
   "metadata": {},
   "outputs": [
    {
     "name": "stdout",
     "output_type": "stream",
     "text": [
      "72000.0\n"
     ]
    },
    {
     "data": {
      "text/html": [
       "<div>\n",
       "<style scoped>\n",
       "    .dataframe tbody tr th:only-of-type {\n",
       "        vertical-align: middle;\n",
       "    }\n",
       "\n",
       "    .dataframe tbody tr th {\n",
       "        vertical-align: top;\n",
       "    }\n",
       "\n",
       "    .dataframe thead th {\n",
       "        text-align: right;\n",
       "    }\n",
       "</style>\n",
       "<table border=\"1\" class=\"dataframe\">\n",
       "  <thead>\n",
       "    <tr style=\"text-align: right;\">\n",
       "      <th></th>\n",
       "      <th>Unnamed: 0</th>\n",
       "      <th>price_000</th>\n",
       "      <th>pop_dens</th>\n",
       "      <th>ses</th>\n",
       "      <th>house</th>\n",
       "      <th>area_m2</th>\n",
       "      <th>num_bath</th>\n",
       "      <th>pcn_green</th>\n",
       "      <th>thefts</th>\n",
       "      <th>year</th>\n",
       "      <th>high_ses</th>\n",
       "      <th>yr_2001</th>\n",
       "      <th>yr_2002</th>\n",
       "      <th>yr_2003</th>\n",
       "      <th>yr_2004</th>\n",
       "      <th>yr_2005</th>\n",
       "      <th>yr_2006</th>\n",
       "      <th>high_price</th>\n",
       "    </tr>\n",
       "  </thead>\n",
       "  <tbody>\n",
       "    <tr>\n",
       "      <th>0</th>\n",
       "      <td>0</td>\n",
       "      <td>60000</td>\n",
       "      <td>830.78</td>\n",
       "      <td>4</td>\n",
       "      <td>0</td>\n",
       "      <td>70</td>\n",
       "      <td>2</td>\n",
       "      <td>1.74</td>\n",
       "      <td>39.92</td>\n",
       "      <td>2001</td>\n",
       "      <td>0</td>\n",
       "      <td>1</td>\n",
       "      <td>0</td>\n",
       "      <td>0</td>\n",
       "      <td>0</td>\n",
       "      <td>0</td>\n",
       "      <td>0</td>\n",
       "      <td>0</td>\n",
       "    </tr>\n",
       "    <tr>\n",
       "      <th>1</th>\n",
       "      <td>1</td>\n",
       "      <td>140000</td>\n",
       "      <td>826.75</td>\n",
       "      <td>4</td>\n",
       "      <td>1</td>\n",
       "      <td>257</td>\n",
       "      <td>4</td>\n",
       "      <td>0.54</td>\n",
       "      <td>46.00</td>\n",
       "      <td>2002</td>\n",
       "      <td>0</td>\n",
       "      <td>0</td>\n",
       "      <td>1</td>\n",
       "      <td>0</td>\n",
       "      <td>0</td>\n",
       "      <td>0</td>\n",
       "      <td>0</td>\n",
       "      <td>1</td>\n",
       "    </tr>\n",
       "    <tr>\n",
       "      <th>2</th>\n",
       "      <td>2</td>\n",
       "      <td>38000</td>\n",
       "      <td>914.15</td>\n",
       "      <td>4</td>\n",
       "      <td>0</td>\n",
       "      <td>115</td>\n",
       "      <td>4</td>\n",
       "      <td>1.55</td>\n",
       "      <td>45.87</td>\n",
       "      <td>2002</td>\n",
       "      <td>0</td>\n",
       "      <td>0</td>\n",
       "      <td>1</td>\n",
       "      <td>0</td>\n",
       "      <td>0</td>\n",
       "      <td>0</td>\n",
       "      <td>0</td>\n",
       "      <td>0</td>\n",
       "    </tr>\n",
       "    <tr>\n",
       "      <th>3</th>\n",
       "      <td>3</td>\n",
       "      <td>110000</td>\n",
       "      <td>911.25</td>\n",
       "      <td>4</td>\n",
       "      <td>1</td>\n",
       "      <td>270</td>\n",
       "      <td>4</td>\n",
       "      <td>1.58</td>\n",
       "      <td>45.88</td>\n",
       "      <td>2002</td>\n",
       "      <td>0</td>\n",
       "      <td>0</td>\n",
       "      <td>1</td>\n",
       "      <td>0</td>\n",
       "      <td>0</td>\n",
       "      <td>0</td>\n",
       "      <td>0</td>\n",
       "      <td>1</td>\n",
       "    </tr>\n",
       "    <tr>\n",
       "      <th>4</th>\n",
       "      <td>4</td>\n",
       "      <td>120000</td>\n",
       "      <td>757.37</td>\n",
       "      <td>4</td>\n",
       "      <td>1</td>\n",
       "      <td>268</td>\n",
       "      <td>2</td>\n",
       "      <td>0.40</td>\n",
       "      <td>46.00</td>\n",
       "      <td>2002</td>\n",
       "      <td>0</td>\n",
       "      <td>0</td>\n",
       "      <td>1</td>\n",
       "      <td>0</td>\n",
       "      <td>0</td>\n",
       "      <td>0</td>\n",
       "      <td>0</td>\n",
       "      <td>1</td>\n",
       "    </tr>\n",
       "  </tbody>\n",
       "</table>\n",
       "</div>"
      ],
      "text/plain": [
       "   Unnamed: 0  price_000  pop_dens  ses  house  area_m2  num_bath  pcn_green  \\\n",
       "0           0      60000    830.78    4      0       70         2       1.74   \n",
       "1           1     140000    826.75    4      1      257         4       0.54   \n",
       "2           2      38000    914.15    4      0      115         4       1.55   \n",
       "3           3     110000    911.25    4      1      270         4       1.58   \n",
       "4           4     120000    757.37    4      1      268         2       0.40   \n",
       "\n",
       "   thefts  year  high_ses  yr_2001  yr_2002  yr_2003  yr_2004  yr_2005  \\\n",
       "0   39.92  2001         0        1        0        0        0        0   \n",
       "1   46.00  2002         0        0        1        0        0        0   \n",
       "2   45.87  2002         0        0        1        0        0        0   \n",
       "3   45.88  2002         0        0        1        0        0        0   \n",
       "4   46.00  2002         0        0        1        0        0        0   \n",
       "\n",
       "   yr_2006  high_price  \n",
       "0        0           0  \n",
       "1        0           1  \n",
       "2        0           0  \n",
       "3        0           1  \n",
       "4        0           1  "
      ]
     },
     "execution_count": 3,
     "metadata": {},
     "output_type": "execute_result"
    }
   ],
   "source": [
    "# identify dummy threshold\n",
    "price_median = data['price_000'].median()\n",
    "print(price_median)\n",
    "\n",
    "# create dummy dependent variable\n",
    "data['high_price'] = np.where(data['price_000']>price_median, 1, 0)\n",
    "data.head()"
   ]
  },
  {
   "cell_type": "code",
   "execution_count": 4,
   "metadata": {},
   "outputs": [
    {
     "data": {
      "text/plain": [
       "0    2003\n",
       "1    1973\n",
       "Name: high_price, dtype: int64"
      ]
     },
     "execution_count": 4,
     "metadata": {},
     "output_type": "execute_result"
    }
   ],
   "source": [
    "data['high_price'].value_counts()"
   ]
  },
  {
   "cell_type": "markdown",
   "metadata": {},
   "source": [
    "### 2.1 Run Multivariable regression\n",
    "First, let's run a multivariable regression with high_price dummy variable. "
   ]
  },
  {
   "cell_type": "code",
   "execution_count": 5,
   "metadata": {},
   "outputs": [
    {
     "data": {
      "text/html": [
       "<table class=\"simpletable\">\n",
       "<tr>\n",
       "        <td>Model:</td>               <td>OLS</td>         <td>Adj. R-squared:</td>     <td>0.393</td>  \n",
       "</tr>\n",
       "<tr>\n",
       "  <td>Dependent Variable:</td>    <td>high_price</td>           <td>AIC:</td>         <td>3802.0099</td>\n",
       "</tr>\n",
       "<tr>\n",
       "         <td>Date:</td>        <td>2023-02-23 14:20</td>        <td>BIC:</td>         <td>3877.4663</td>\n",
       "</tr>\n",
       "<tr>\n",
       "   <td>No. Observations:</td>        <td>3976</td>         <td>Log-Likelihood:</td>    <td>-1889.0</td> \n",
       "</tr>\n",
       "<tr>\n",
       "       <td>Df Model:</td>             <td>11</td>           <td>F-statistic:</td>       <td>234.6</td>  \n",
       "</tr>\n",
       "<tr>\n",
       "     <td>Df Residuals:</td>          <td>3964</td>       <td>Prob (F-statistic):</td>   <td>0.00</td>   \n",
       "</tr>\n",
       "<tr>\n",
       "      <td>R-squared:</td>            <td>0.394</td>            <td>Scale:</td>         <td>0.15188</td> \n",
       "</tr>\n",
       "</table>\n",
       "<table class=\"simpletable\">\n",
       "<tr>\n",
       "      <td></td>       <th>Coef.</th>  <th>Std.Err.</th>    <th>t</th>     <th>P>|t|</th> <th>[0.025</th>  <th>0.975]</th> \n",
       "</tr>\n",
       "<tr>\n",
       "  <th>high_ses</th>  <td>0.2636</td>   <td>0.0236</td>  <td>11.1555</td> <td>0.0000</td> <td>0.2173</td>  <td>0.3099</td> \n",
       "</tr>\n",
       "<tr>\n",
       "  <th>house</th>     <td>0.0712</td>   <td>0.0183</td>  <td>3.8911</td>  <td>0.0001</td> <td>0.0353</td>  <td>0.1070</td> \n",
       "</tr>\n",
       "<tr>\n",
       "  <th>area_m2</th>   <td>0.0024</td>   <td>0.0001</td>  <td>22.3542</td> <td>0.0000</td> <td>0.0022</td>  <td>0.0026</td> \n",
       "</tr>\n",
       "<tr>\n",
       "  <th>num_bath</th>  <td>0.0901</td>   <td>0.0072</td>  <td>12.5483</td> <td>0.0000</td> <td>0.0760</td>  <td>0.1042</td> \n",
       "</tr>\n",
       "<tr>\n",
       "  <th>pcn_green</th> <td>0.0075</td>   <td>0.0009</td>  <td>8.7190</td>  <td>0.0000</td> <td>0.0059</td>  <td>0.0092</td> \n",
       "</tr>\n",
       "<tr>\n",
       "  <th>thefts</th>    <td>-0.0010</td>  <td>0.0001</td>  <td>-7.9428</td> <td>0.0000</td> <td>-0.0012</td> <td>-0.0007</td>\n",
       "</tr>\n",
       "<tr>\n",
       "  <th>yr_2002</th>   <td>-0.0406</td>  <td>0.0239</td>  <td>-1.6993</td> <td>0.0893</td> <td>-0.0874</td> <td>0.0062</td> \n",
       "</tr>\n",
       "<tr>\n",
       "  <th>yr_2003</th>   <td>0.0502</td>   <td>0.0229</td>  <td>2.1916</td>  <td>0.0285</td> <td>0.0053</td>  <td>0.0951</td> \n",
       "</tr>\n",
       "<tr>\n",
       "  <th>yr_2004</th>   <td>0.0546</td>   <td>0.0206</td>  <td>2.6475</td>  <td>0.0081</td> <td>0.0142</td>  <td>0.0950</td> \n",
       "</tr>\n",
       "<tr>\n",
       "  <th>yr_2005</th>   <td>0.0929</td>   <td>0.0215</td>  <td>4.3271</td>  <td>0.0000</td> <td>0.0508</td>  <td>0.1350</td> \n",
       "</tr>\n",
       "<tr>\n",
       "  <th>yr_2006</th>   <td>0.1897</td>   <td>0.0241</td>  <td>7.8743</td>  <td>0.0000</td> <td>0.1425</td>  <td>0.2369</td> \n",
       "</tr>\n",
       "<tr>\n",
       "  <th>Intercept</th> <td>-0.0387</td>  <td>0.0245</td>  <td>-1.5765</td> <td>0.1150</td> <td>-0.0868</td> <td>0.0094</td> \n",
       "</tr>\n",
       "</table>\n",
       "<table class=\"simpletable\">\n",
       "<tr>\n",
       "     <td>Omnibus:</td>    <td>569.409</td>  <td>Durbin-Watson:</td>    <td>0.694</td> \n",
       "</tr>\n",
       "<tr>\n",
       "  <td>Prob(Omnibus):</td>  <td>0.000</td>  <td>Jarque-Bera (JB):</td> <td>186.836</td>\n",
       "</tr>\n",
       "<tr>\n",
       "       <td>Skew:</td>      <td>0.289</td>      <td>Prob(JB):</td>      <td>0.000</td> \n",
       "</tr>\n",
       "<tr>\n",
       "     <td>Kurtosis:</td>    <td>2.109</td>   <td>Condition No.:</td>    <td>1182</td>  \n",
       "</tr>\n",
       "</table>"
      ],
      "text/plain": [
       "<class 'statsmodels.iolib.summary2.Summary'>\n",
       "\"\"\"\n",
       "                 Results: Ordinary least squares\n",
       "==================================================================\n",
       "Model:              OLS              Adj. R-squared:     0.393    \n",
       "Dependent Variable: high_price       AIC:                3802.0099\n",
       "Date:               2023-02-23 14:20 BIC:                3877.4663\n",
       "No. Observations:   3976             Log-Likelihood:     -1889.0  \n",
       "Df Model:           11               F-statistic:        234.6    \n",
       "Df Residuals:       3964             Prob (F-statistic): 0.00     \n",
       "R-squared:          0.394            Scale:              0.15188  \n",
       "-------------------------------------------------------------------\n",
       "                Coef.   Std.Err.     t     P>|t|    [0.025   0.975]\n",
       "-------------------------------------------------------------------\n",
       "high_ses        0.2636    0.0236  11.1555  0.0000   0.2173   0.3099\n",
       "house           0.0712    0.0183   3.8911  0.0001   0.0353   0.1070\n",
       "area_m2         0.0024    0.0001  22.3542  0.0000   0.0022   0.0026\n",
       "num_bath        0.0901    0.0072  12.5483  0.0000   0.0760   0.1042\n",
       "pcn_green       0.0075    0.0009   8.7190  0.0000   0.0059   0.0092\n",
       "thefts         -0.0010    0.0001  -7.9428  0.0000  -0.0012  -0.0007\n",
       "yr_2002        -0.0406    0.0239  -1.6993  0.0893  -0.0874   0.0062\n",
       "yr_2003         0.0502    0.0229   2.1916  0.0285   0.0053   0.0951\n",
       "yr_2004         0.0546    0.0206   2.6475  0.0081   0.0142   0.0950\n",
       "yr_2005         0.0929    0.0215   4.3271  0.0000   0.0508   0.1350\n",
       "yr_2006         0.1897    0.0241   7.8743  0.0000   0.1425   0.2369\n",
       "Intercept      -0.0387    0.0245  -1.5765  0.1150  -0.0868   0.0094\n",
       "------------------------------------------------------------------\n",
       "Omnibus:             569.409       Durbin-Watson:          0.694  \n",
       "Prob(Omnibus):       0.000         Jarque-Bera (JB):       186.836\n",
       "Skew:                0.289         Prob(JB):               0.000  \n",
       "Kurtosis:            2.109         Condition No.:          1182   \n",
       "==================================================================\n",
       "* The condition number is large (1e+03). This might indicate\n",
       "strong multicollinearity or other numerical problems.\n",
       "\"\"\""
      ]
     },
     "execution_count": 5,
     "metadata": {},
     "output_type": "execute_result"
    }
   ],
   "source": [
    "# define independent variables\n",
    "ind_var = ['high_ses', 'house', 'area_m2', 'num_bath', 'pcn_green', \n",
    "           'thefts','yr_2002','yr_2003','yr_2004','yr_2005','yr_2006'] \n",
    "# note that the year variable is categorical so we need to exclude one to prevent collinearity \n",
    "# within our model - we will exclude year 2001 - we chose to have the earlier year be our base year\n",
    "\n",
    "x = data[ind_var].assign(Intercept = 1) # independent variables\n",
    "y = data['high_price'] # dependent variable\n",
    "\n",
    "model = sm.OLS(y, x).fit()\n",
    "# save the results as \"model\" - this will be useful for other functions below.\n",
    "\n",
    "model.summary2()"
   ]
  },
  {
   "cell_type": "markdown",
   "metadata": {},
   "source": [
    "## 3 Logistic regression (aka logit model)"
   ]
  },
  {
   "cell_type": "markdown",
   "metadata": {},
   "source": [
    "Logistics regression equation (1): $$ln(P_i/1-P_i) = \\beta_0 + \\beta_1 x_1 + \\beta_2 x_2 + \\cdots + \\beta_n x_n$$"
   ]
  },
  {
   "cell_type": "markdown",
   "metadata": {},
   "source": [
    "$$P(y = 1|x) = P_i = \\frac{1}{1 + e^{-(\\beta_0 + \\beta_1 x_1 + \\beta_2 x_2 + \\cdots + \\beta_n x_n)}}$$ <br>"
   ]
  },
  {
   "cell_type": "markdown",
   "metadata": {},
   "source": [
    "### 3.1 Run logit model"
   ]
  },
  {
   "cell_type": "code",
   "execution_count": 6,
   "metadata": {},
   "outputs": [
    {
     "name": "stdout",
     "output_type": "stream",
     "text": [
      "Optimization terminated successfully.\n",
      "         Current function value: 0.410658\n",
      "         Iterations 7\n"
     ]
    },
    {
     "data": {
      "text/html": [
       "<table class=\"simpletable\">\n",
       "<tr>\n",
       "        <td>Model:</td>              <td>Logit</td>      <td>Pseudo R-squared:</td>   <td>0.408</td>  \n",
       "</tr>\n",
       "<tr>\n",
       "  <td>Dependent Variable:</td>    <td>high_price</td>          <td>AIC:</td>        <td>3289.5511</td>\n",
       "</tr>\n",
       "<tr>\n",
       "         <td>Date:</td>        <td>2023-02-23 14:27</td>       <td>BIC:</td>        <td>3365.0074</td>\n",
       "</tr>\n",
       "<tr>\n",
       "   <td>No. Observations:</td>        <td>3976</td>        <td>Log-Likelihood:</td>   <td>-1632.8</td> \n",
       "</tr>\n",
       "<tr>\n",
       "       <td>Df Model:</td>             <td>11</td>            <td>LL-Null:</td>       <td>-2755.8</td> \n",
       "</tr>\n",
       "<tr>\n",
       "     <td>Df Residuals:</td>          <td>3964</td>         <td>LLR p-value:</td>     <td>0.0000</td>  \n",
       "</tr>\n",
       "<tr>\n",
       "      <td>Converged:</td>           <td>1.0000</td>           <td>Scale:</td>        <td>1.0000</td>  \n",
       "</tr>\n",
       "<tr>\n",
       "    <td>No. Iterations:</td>        <td>7.0000</td>              <td></td>              <td></td>     \n",
       "</tr>\n",
       "</table>\n",
       "<table class=\"simpletable\">\n",
       "<tr>\n",
       "      <td></td>       <th>Coef.</th>  <th>Std.Err.</th>     <th>z</th>     <th>P>|z|</th> <th>[0.025</th>  <th>0.975]</th> \n",
       "</tr>\n",
       "<tr>\n",
       "  <th>high_ses</th>  <td>1.7720</td>   <td>0.1970</td>   <td>8.9932</td>  <td>0.0000</td> <td>1.3858</td>  <td>2.1582</td> \n",
       "</tr>\n",
       "<tr>\n",
       "  <th>house</th>     <td>-0.3467</td>  <td>0.1312</td>   <td>-2.6433</td> <td>0.0082</td> <td>-0.6039</td> <td>-0.0896</td>\n",
       "</tr>\n",
       "<tr>\n",
       "  <th>area_m2</th>   <td>0.0289</td>   <td>0.0014</td>   <td>20.8734</td> <td>0.0000</td> <td>0.0262</td>  <td>0.0316</td> \n",
       "</tr>\n",
       "<tr>\n",
       "  <th>num_bath</th>  <td>0.6346</td>   <td>0.0571</td>   <td>11.1054</td> <td>0.0000</td> <td>0.5226</td>  <td>0.7465</td> \n",
       "</tr>\n",
       "<tr>\n",
       "  <th>pcn_green</th> <td>0.0426</td>   <td>0.0056</td>   <td>7.5450</td>  <td>0.0000</td> <td>0.0315</td>  <td>0.0537</td> \n",
       "</tr>\n",
       "<tr>\n",
       "  <th>thefts</th>    <td>-0.0059</td>  <td>0.0009</td>   <td>-6.2730</td> <td>0.0000</td> <td>-0.0077</td> <td>-0.0041</td>\n",
       "</tr>\n",
       "<tr>\n",
       "  <th>yr_2002</th>   <td>-0.1936</td>  <td>0.1786</td>   <td>-1.0842</td> <td>0.2783</td> <td>-0.5436</td> <td>0.1564</td> \n",
       "</tr>\n",
       "<tr>\n",
       "  <th>yr_2003</th>   <td>0.5769</td>   <td>0.1704</td>   <td>3.3855</td>  <td>0.0007</td> <td>0.2429</td>  <td>0.9108</td> \n",
       "</tr>\n",
       "<tr>\n",
       "  <th>yr_2004</th>   <td>0.5040</td>   <td>0.1507</td>   <td>3.3441</td>  <td>0.0008</td> <td>0.2086</td>  <td>0.7995</td> \n",
       "</tr>\n",
       "<tr>\n",
       "  <th>yr_2005</th>   <td>0.9488</td>   <td>0.1555</td>   <td>6.1027</td>  <td>0.0000</td> <td>0.6441</td>  <td>1.2535</td> \n",
       "</tr>\n",
       "<tr>\n",
       "  <th>yr_2006</th>   <td>1.5429</td>   <td>0.1697</td>   <td>9.0942</td>  <td>0.0000</td> <td>1.2103</td>  <td>1.8754</td> \n",
       "</tr>\n",
       "<tr>\n",
       "  <th>Intercept</th> <td>-4.6274</td>  <td>0.2231</td>  <td>-20.7368</td> <td>0.0000</td> <td>-5.0647</td> <td>-4.1900</td>\n",
       "</tr>\n",
       "</table>"
      ],
      "text/plain": [
       "<class 'statsmodels.iolib.summary2.Summary'>\n",
       "\"\"\"\n",
       "                         Results: Logit\n",
       "================================================================\n",
       "Model:              Logit            Pseudo R-squared: 0.408    \n",
       "Dependent Variable: high_price       AIC:              3289.5511\n",
       "Date:               2023-02-23 14:27 BIC:              3365.0074\n",
       "No. Observations:   3976             Log-Likelihood:   -1632.8  \n",
       "Df Model:           11               LL-Null:          -2755.8  \n",
       "Df Residuals:       3964             LLR p-value:      0.0000   \n",
       "Converged:          1.0000           Scale:            1.0000   \n",
       "No. Iterations:     7.0000                                      \n",
       "-----------------------------------------------------------------\n",
       "             Coef.   Std.Err.     z      P>|z|    [0.025   0.975]\n",
       "-----------------------------------------------------------------\n",
       "high_ses     1.7720    0.1970    8.9932  0.0000   1.3858   2.1582\n",
       "house       -0.3467    0.1312   -2.6433  0.0082  -0.6039  -0.0896\n",
       "area_m2      0.0289    0.0014   20.8734  0.0000   0.0262   0.0316\n",
       "num_bath     0.6346    0.0571   11.1054  0.0000   0.5226   0.7465\n",
       "pcn_green    0.0426    0.0056    7.5450  0.0000   0.0315   0.0537\n",
       "thefts      -0.0059    0.0009   -6.2730  0.0000  -0.0077  -0.0041\n",
       "yr_2002     -0.1936    0.1786   -1.0842  0.2783  -0.5436   0.1564\n",
       "yr_2003      0.5769    0.1704    3.3855  0.0007   0.2429   0.9108\n",
       "yr_2004      0.5040    0.1507    3.3441  0.0008   0.2086   0.7995\n",
       "yr_2005      0.9488    0.1555    6.1027  0.0000   0.6441   1.2535\n",
       "yr_2006      1.5429    0.1697    9.0942  0.0000   1.2103   1.8754\n",
       "Intercept   -4.6274    0.2231  -20.7368  0.0000  -5.0647  -4.1900\n",
       "================================================================\n",
       "\n",
       "\"\"\""
      ]
     },
     "execution_count": 6,
     "metadata": {},
     "output_type": "execute_result"
    }
   ],
   "source": [
    "y = data['high_price'] # dependent variable - it's a dummy!\n",
    "x = data[ind_var].assign(Intercept = 1) # independent variables - same list as before\n",
    "\n",
    "# define and run logit model\n",
    "logit_model = Logit(y, x).fit()\n",
    "logit_model.summary2()"
   ]
  },
  {
   "cell_type": "markdown",
   "metadata": {},
   "source": [
    "In logistic regression the coefficients derived from the model (e.g., $\\beta_1$) indicate the change in the expected log odds relative to a one unit change in $x_1$, holding all other predictors constant. Therefore, the antilog of an estimated regression coefficient, $\\exp(\\beta_i)$, produces an odds ratio.\n",
    "\n",
    "log transformation of equation (1): $$P_i/(1-P_i) = e^{ \\beta_0 + \\beta_1 x_1 + \\beta_2 x_2 + \\cdots + \\beta_n x_n} = e^{\\beta_0} * e^{\\beta_1*x_1} * e^{\\beta_2*x_2}* \\cdots  *e^{\\beta_n*x_n}$$\n",
    "\n",
    "\n",
    "Therefore, we have odds ratio \n",
    "$$OR = e^{\\beta_i}$$\n"
   ]
  },
  {
   "cell_type": "markdown",
   "metadata": {},
   "source": [
    "### 3.2 Display odds ratios"
   ]
  },
  {
   "cell_type": "code",
   "execution_count": 9,
   "metadata": {},
   "outputs": [
    {
     "data": {
      "text/html": [
       "<div>\n",
       "<style scoped>\n",
       "    .dataframe tbody tr th:only-of-type {\n",
       "        vertical-align: middle;\n",
       "    }\n",
       "\n",
       "    .dataframe tbody tr th {\n",
       "        vertical-align: top;\n",
       "    }\n",
       "\n",
       "    .dataframe thead th {\n",
       "        text-align: right;\n",
       "    }\n",
       "</style>\n",
       "<table border=\"1\" class=\"dataframe\">\n",
       "  <thead>\n",
       "    <tr style=\"text-align: right;\">\n",
       "      <th></th>\n",
       "      <th>2.5%</th>\n",
       "      <th>97.5%</th>\n",
       "      <th>Odds Ratio</th>\n",
       "    </tr>\n",
       "  </thead>\n",
       "  <tbody>\n",
       "    <tr>\n",
       "      <th>high_ses</th>\n",
       "      <td>3.998069</td>\n",
       "      <td>8.655421</td>\n",
       "      <td>5.882599</td>\n",
       "    </tr>\n",
       "    <tr>\n",
       "      <th>house</th>\n",
       "      <td>0.546701</td>\n",
       "      <td>0.914263</td>\n",
       "      <td>0.706985</td>\n",
       "    </tr>\n",
       "    <tr>\n",
       "      <th>area_m2</th>\n",
       "      <td>1.026550</td>\n",
       "      <td>1.032140</td>\n",
       "      <td>1.029341</td>\n",
       "    </tr>\n",
       "    <tr>\n",
       "      <th>num_bath</th>\n",
       "      <td>1.686351</td>\n",
       "      <td>2.109708</td>\n",
       "      <td>1.886189</td>\n",
       "    </tr>\n",
       "    <tr>\n",
       "      <th>pcn_green</th>\n",
       "      <td>1.032034</td>\n",
       "      <td>1.055128</td>\n",
       "      <td>1.043517</td>\n",
       "    </tr>\n",
       "    <tr>\n",
       "      <th>thefts</th>\n",
       "      <td>0.992298</td>\n",
       "      <td>0.995958</td>\n",
       "      <td>0.994126</td>\n",
       "    </tr>\n",
       "    <tr>\n",
       "      <th>yr_2002</th>\n",
       "      <td>0.580653</td>\n",
       "      <td>1.169267</td>\n",
       "      <td>0.823977</td>\n",
       "    </tr>\n",
       "    <tr>\n",
       "      <th>yr_2003</th>\n",
       "      <td>1.274952</td>\n",
       "      <td>2.486408</td>\n",
       "      <td>1.780463</td>\n",
       "    </tr>\n",
       "    <tr>\n",
       "      <th>yr_2004</th>\n",
       "      <td>1.231980</td>\n",
       "      <td>2.224358</td>\n",
       "      <td>1.655405</td>\n",
       "    </tr>\n",
       "    <tr>\n",
       "      <th>yr_2005</th>\n",
       "      <td>1.904214</td>\n",
       "      <td>3.502556</td>\n",
       "      <td>2.582560</td>\n",
       "    </tr>\n",
       "    <tr>\n",
       "      <th>yr_2006</th>\n",
       "      <td>3.354632</td>\n",
       "      <td>6.523208</td>\n",
       "      <td>4.677923</td>\n",
       "    </tr>\n",
       "    <tr>\n",
       "      <th>Intercept</th>\n",
       "      <td>0.006316</td>\n",
       "      <td>0.015146</td>\n",
       "      <td>0.009780</td>\n",
       "    </tr>\n",
       "  </tbody>\n",
       "</table>\n",
       "</div>"
      ],
      "text/plain": [
       "               2.5%     97.5%  Odds Ratio\n",
       "high_ses   3.998069  8.655421    5.882599\n",
       "house      0.546701  0.914263    0.706985\n",
       "area_m2    1.026550  1.032140    1.029341\n",
       "num_bath   1.686351  2.109708    1.886189\n",
       "pcn_green  1.032034  1.055128    1.043517\n",
       "thefts     0.992298  0.995958    0.994126\n",
       "yr_2002    0.580653  1.169267    0.823977\n",
       "yr_2003    1.274952  2.486408    1.780463\n",
       "yr_2004    1.231980  2.224358    1.655405\n",
       "yr_2005    1.904214  3.502556    2.582560\n",
       "yr_2006    3.354632  6.523208    4.677923\n",
       "Intercept  0.006316  0.015146    0.009780"
      ]
     },
     "execution_count": 9,
     "metadata": {},
     "output_type": "execute_result"
    }
   ],
   "source": [
    "# odds ratios\n",
    "or_table = np.exp(logit_model.conf_int()) # exponentiate confidence intervals\n",
    "or_table['Odds Ratio'] = np.exp(logit_model.params) # exponentiate coefficients\n",
    "\n",
    "or_table.columns = ['2.5%', '97.5%', 'Odds Ratio'] # name columns\n",
    "or_table"
   ]
  },
  {
   "cell_type": "markdown",
   "metadata": {},
   "source": [
    "## 4 Plot predicted probabilities"
   ]
  },
  {
   "cell_type": "code",
   "execution_count": 10,
   "metadata": {
    "scrolled": true
   },
   "outputs": [
    {
     "data": {
      "text/plain": [
       "array([2, 4, 3, 1, 5])"
      ]
     },
     "execution_count": 10,
     "metadata": {},
     "output_type": "execute_result"
    }
   ],
   "source": [
    "data['num_bath'].unique()"
   ]
  },
  {
   "cell_type": "code",
   "execution_count": 11,
   "metadata": {},
   "outputs": [
    {
     "data": {
      "text/plain": [
       "0       0.183173\n",
       "1       0.989591\n",
       "2       0.698192\n",
       "3       0.993143\n",
       "4       0.973342\n",
       "          ...   \n",
       "3971    0.999763\n",
       "3972    0.994266\n",
       "3973    0.367966\n",
       "3974    0.964960\n",
       "3975    0.848230\n",
       "Name: pred_high_price, Length: 3976, dtype: float64"
      ]
     },
     "execution_count": 11,
     "metadata": {},
     "output_type": "execute_result"
    }
   ],
   "source": [
    "# predicted probabilities\n",
    "df_predict = data.copy()\n",
    "df_predict['pred_high_price'] = logit_model.predict(x)\n",
    "\n",
    "df_predict['pred_high_price']"
   ]
  },
  {
   "cell_type": "code",
   "execution_count": 12,
   "metadata": {},
   "outputs": [
    {
     "data": {
      "image/png": "[encoded data removed]",
      "text/plain": [
       "<Figure size 640x480 with 1 Axes>"
      ]
     },
     "metadata": {},
     "output_type": "display_data"
    }
   ],
   "source": [
    "# plot probabilities by key independent variable\n",
    "df_predict2 = df_predict.groupby(by = 'num_bath').agg(np.mean)[['pred_high_price']]\n",
    "df_predict2.plot();\n",
    "\n",
    "# plot with labels\n",
    "plt.title('Predicted Probability of High Price Based on Number of Bathrooms')\n",
    "plt.xlabel('Number of Bathrooms'),\n",
    "plt.ylabel('Probability'),\n",
    "positions = (1, 2, 3, 4, 5)\n",
    "labels = ('1', '2', '3', '4', '5')\n",
    "plt.xticks(positions, labels)\n",
    "legend = ['Pr(High Price)']\n",
    "plt.legend(legend);"
   ]
  },
  {
   "cell_type": "code",
   "execution_count": 13,
   "metadata": {
    "scrolled": true
   },
   "outputs": [
    {
     "data": {
      "text/html": [
       "<div>\n",
       "<style scoped>\n",
       "    .dataframe tbody tr th:only-of-type {\n",
       "        vertical-align: middle;\n",
       "    }\n",
       "\n",
       "    .dataframe tbody tr th {\n",
       "        vertical-align: top;\n",
       "    }\n",
       "\n",
       "    .dataframe thead th {\n",
       "        text-align: right;\n",
       "    }\n",
       "</style>\n",
       "<table border=\"1\" class=\"dataframe\">\n",
       "  <thead>\n",
       "    <tr style=\"text-align: right;\">\n",
       "      <th></th>\n",
       "      <th>pred_high_price</th>\n",
       "    </tr>\n",
       "    <tr>\n",
       "      <th>num_bath</th>\n",
       "      <th></th>\n",
       "    </tr>\n",
       "  </thead>\n",
       "  <tbody>\n",
       "    <tr>\n",
       "      <th>1</th>\n",
       "      <td>0.236431</td>\n",
       "    </tr>\n",
       "    <tr>\n",
       "      <th>2</th>\n",
       "      <td>0.440390</td>\n",
       "    </tr>\n",
       "    <tr>\n",
       "      <th>3</th>\n",
       "      <td>0.746484</td>\n",
       "    </tr>\n",
       "    <tr>\n",
       "      <th>4</th>\n",
       "      <td>0.846621</td>\n",
       "    </tr>\n",
       "    <tr>\n",
       "      <th>5</th>\n",
       "      <td>0.968861</td>\n",
       "    </tr>\n",
       "  </tbody>\n",
       "</table>\n",
       "</div>"
      ],
      "text/plain": [
       "          pred_high_price\n",
       "num_bath                 \n",
       "1                0.236431\n",
       "2                0.440390\n",
       "3                0.746484\n",
       "4                0.846621\n",
       "5                0.968861"
      ]
     },
     "execution_count": 13,
     "metadata": {},
     "output_type": "execute_result"
    }
   ],
   "source": [
    "df_predict2"
   ]
  },
  {
   "cell_type": "code",
   "execution_count": 14,
   "metadata": {},
   "outputs": [
    {
     "data": {
      "image/png": "[encoded data removed]",
      "text/plain": [
       "<Figure size 640x480 with 1 Axes>"
      ]
     },
     "metadata": {},
     "output_type": "display_data"
    }
   ],
   "source": [
    "# plot probabilities by key independent variable\n",
    "df_predict2 = df_predict.groupby(by = 'high_ses').agg(np.mean)[['pred_high_price']]\n",
    "df_predict2.plot();\n",
    "\n",
    "# plot with labels\n",
    "plt.title('Predicted Probability of High Price Based on ses dummy')\n",
    "plt.xlabel('high ses'),\n",
    "plt.ylabel('Probability'),\n",
    "positions = (0, 1)\n",
    "labels = ('0', '1')\n",
    "plt.xticks(positions, labels)\n",
    "legend = ['Pr(High Price)']\n",
    "plt.legend(legend);"
   ]
  },
  {
   "cell_type": "code",
   "execution_count": 15,
   "metadata": {},
   "outputs": [
    {
     "data": {
      "image/png": "[encoded data removed]",
      "text/plain": [
       "<Figure size 640x480 with 1 Axes>"
      ]
     },
     "metadata": {},
     "output_type": "display_data"
    }
   ],
   "source": [
    "# plot probabilities by key independent variable\n",
    "df_predict2 = df_predict.groupby(by = 'area_m2').agg(np.mean)[['pred_high_price']]\n",
    "df_predict2.plot();\n",
    "\n",
    "# plot with labels\n",
    "plt.title('Predicted Probability of High Price Based on area')\n",
    "plt.xlabel('Area'),\n",
    "plt.ylabel('Probability'),\n",
    "# positions = (1, 2, 3, 4, 5)\n",
    "# labels = ('1', '2', '3', '4', '5')\n",
    "# plt.xticks(positions, labels)\n",
    "legend = ['Pr(High Price)']\n",
    "plt.legend(legend);"
   ]
  },
  {
   "cell_type": "code",
   "execution_count": 16,
   "metadata": {},
   "outputs": [
    {
     "data": {
      "image/png": "[encoded data removed]",
      "text/plain": [
       "<Figure size 640x480 with 1 Axes>"
      ]
     },
     "metadata": {},
     "output_type": "display_data"
    }
   ],
   "source": [
    "# plot probabilities by key independent variable\n",
    "df_predict2 = df_predict.groupby(by = 'year').agg(np.mean)[['pred_high_price']]\n",
    "df_predict2.plot();\n",
    "\n",
    "# plot with labels\n",
    "plt.title('Predicted Probability of High Price Based on year')\n",
    "plt.xlabel('year'),\n",
    "plt.ylabel('Probability'),\n",
    "# positions = (1, 2, 3, 4, 5)\n",
    "# labels = ('1', '2', '3', '4', '5')\n",
    "# plt.xticks(positions, labels)\n",
    "legend = ['Pr(High Price)']\n",
    "plt.legend(legend);"
   ]
  }
 ],
 "metadata": {
  "kernelspec": {
   "display_name": "Python 3 (ipykernel)",
   "language": "python",
   "name": "python3"
  },
  "language_info": {
   "codemirror_mode": {
    "name": "ipython",
    "version": 3
   },
   "file_extension": ".py",
   "mimetype": "text/x-python",
   "name": "python",
   "nbconvert_exporter": "python",
   "pygments_lexer": "ipython3",
   "version": "3.9.15"
  }
 },
 "nbformat": 4,
 "nbformat_minor": 2
}
