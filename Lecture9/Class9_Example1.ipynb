{
 "cells": [
  {
   "cell_type": "markdown",
   "metadata": {},
   "source": [
    "#### Import libraries"
   ]
  },
  {
   "cell_type": "code",
   "execution_count": 12,
   "metadata": {},
   "outputs": [],
   "source": [
    "import numpy as np\n",
    "import pandas as pd\n",
    "\n",
    "from statsmodels.discrete.discrete_model import Logit"
   ]
  },
  {
   "cell_type": "markdown",
   "metadata": {},
   "source": [
    "#### Read data"
   ]
  },
  {
   "cell_type": "code",
   "execution_count": 46,
   "metadata": {},
   "outputs": [
    {
     "data": {
      "text/html": [
       "<div>\n",
       "<style scoped>\n",
       "    .dataframe tbody tr th:only-of-type {\n",
       "        vertical-align: middle;\n",
       "    }\n",
       "\n",
       "    .dataframe tbody tr th {\n",
       "        vertical-align: top;\n",
       "    }\n",
       "\n",
       "    .dataframe thead th {\n",
       "        text-align: right;\n",
       "    }\n",
       "</style>\n",
       "<table border=\"1\" class=\"dataframe\">\n",
       "  <thead>\n",
       "    <tr style=\"text-align: right;\">\n",
       "      <th></th>\n",
       "      <th>id</th>\n",
       "      <th>housing</th>\n",
       "      <th>influence</th>\n",
       "      <th>contact</th>\n",
       "      <th>satisfaction</th>\n",
       "    </tr>\n",
       "  </thead>\n",
       "  <tbody>\n",
       "    <tr>\n",
       "      <td>0</td>\n",
       "      <td>1</td>\n",
       "      <td>1</td>\n",
       "      <td>1</td>\n",
       "      <td>1</td>\n",
       "      <td>1</td>\n",
       "    </tr>\n",
       "    <tr>\n",
       "      <td>1</td>\n",
       "      <td>2</td>\n",
       "      <td>1</td>\n",
       "      <td>1</td>\n",
       "      <td>1</td>\n",
       "      <td>1</td>\n",
       "    </tr>\n",
       "    <tr>\n",
       "      <td>2</td>\n",
       "      <td>3</td>\n",
       "      <td>1</td>\n",
       "      <td>1</td>\n",
       "      <td>1</td>\n",
       "      <td>1</td>\n",
       "    </tr>\n",
       "    <tr>\n",
       "      <td>3</td>\n",
       "      <td>4</td>\n",
       "      <td>1</td>\n",
       "      <td>1</td>\n",
       "      <td>1</td>\n",
       "      <td>1</td>\n",
       "    </tr>\n",
       "    <tr>\n",
       "      <td>4</td>\n",
       "      <td>5</td>\n",
       "      <td>1</td>\n",
       "      <td>1</td>\n",
       "      <td>1</td>\n",
       "      <td>1</td>\n",
       "    </tr>\n",
       "  </tbody>\n",
       "</table>\n",
       "</div>"
      ],
      "text/plain": [
       "   id  housing  influence  contact  satisfaction\n",
       "0   1        1          1        1             1\n",
       "1   2        1          1        1             1\n",
       "2   3        1          1        1             1\n",
       "3   4        1          1        1             1\n",
       "4   5        1          1        1             1"
      ]
     },
     "execution_count": 46,
     "metadata": {},
     "output_type": "execute_result"
    }
   ],
   "source": [
    "data = pd.read_csv ('data.csv')\n",
    "data.head()"
   ]
  },
  {
   "cell_type": "markdown",
   "metadata": {},
   "source": [
    "#### Logit Regression"
   ]
  },
  {
   "cell_type": "markdown",
   "metadata": {},
   "source": [
    "1. Creates DEPENDENT dummy variable - Satisfaction: 1-low, 2-medium, 3-high\n",
    "\n",
    "    1 = high statisfaction\n",
    "    \n",
    "    0 = non-high satifacation"
   ]
  },
  {
   "cell_type": "code",
   "execution_count": 51,
   "metadata": {},
   "outputs": [],
   "source": [
    "data['high_satisfaction'] = np.where(data['satisfaction']==3,1,0)"
   ]
  },
  {
   "cell_type": "markdown",
   "metadata": {},
   "source": [
    "2. Define independent variables - Recodes housing to dummy variable where:\n",
    "\n",
    "    1 = apartment\n",
    "    \n",
    "    0 = non-apartment"
   ]
  },
  {
   "cell_type": "code",
   "execution_count": 54,
   "metadata": {},
   "outputs": [],
   "source": [
    "data['apartment'] = np.where(data['housing']==2,1,0) ### Category 2 is apartment\n",
    "\n",
    "ind_var = ['apartment', 'influence', 'contact']"
   ]
  },
  {
   "cell_type": "markdown",
   "metadata": {},
   "source": [
    "3. Run Regression"
   ]
  },
  {
   "cell_type": "code",
   "execution_count": 55,
   "metadata": {},
   "outputs": [
    {
     "name": "stdout",
     "output_type": "stream",
     "text": [
      "Optimization terminated successfully.\n",
      "         Current function value: 0.643389\n",
      "         Iterations 5\n"
     ]
    },
    {
     "data": {
      "text/html": [
       "<table class=\"simpletable\">\n",
       "<tr>\n",
       "        <td>Model:</td>              <td>Logit</td>       <td>Pseudo R-squared:</td>    <td>0.042</td>  \n",
       "</tr>\n",
       "<tr>\n",
       "  <td>Dependent Variable:</td> <td>high_satisfaction</td>       <td>AIC:</td>         <td>2171.0754</td>\n",
       "</tr>\n",
       "<tr>\n",
       "         <td>Date:</td>        <td>2020-02-23 22:31</td>        <td>BIC:</td>         <td>2192.7840</td>\n",
       "</tr>\n",
       "<tr>\n",
       "   <td>No. Observations:</td>        <td>1681</td>         <td>Log-Likelihood:</td>    <td>-1081.5</td> \n",
       "</tr>\n",
       "<tr>\n",
       "       <td>Df Model:</td>              <td>3</td>             <td>LL-Null:</td>        <td>-1129.5</td> \n",
       "</tr>\n",
       "<tr>\n",
       "     <td>Df Residuals:</td>          <td>1677</td>          <td>LLR p-value:</td>    <td>1.1404e-20</td>\n",
       "</tr>\n",
       "<tr>\n",
       "      <td>Converged:</td>           <td>1.0000</td>            <td>Scale:</td>         <td>1.0000</td>  \n",
       "</tr>\n",
       "<tr>\n",
       "    <td>No. Iterations:</td>        <td>5.0000</td>               <td></td>               <td></td>     \n",
       "</tr>\n",
       "</table>\n",
       "<table class=\"simpletable\">\n",
       "<tr>\n",
       "      <td></td>       <th>Coef.</th>  <th>Std.Err.</th>    <th>z</th>     <th>P>|z|</th> <th>[0.025</th>  <th>0.975]</th> \n",
       "</tr>\n",
       "<tr>\n",
       "  <th>apartment</th> <td>-0.0867</td>  <td>0.1034</td>  <td>-0.8388</td> <td>0.4016</td> <td>-0.2893</td> <td>0.1159</td> \n",
       "</tr>\n",
       "<tr>\n",
       "  <th>influence</th> <td>0.6502</td>   <td>0.0684</td>  <td>9.5107</td>  <td>0.0000</td> <td>0.5162</td>  <td>0.7842</td> \n",
       "</tr>\n",
       "<tr>\n",
       "  <th>contact</th>   <td>0.2193</td>   <td>0.1049</td>  <td>2.0910</td>  <td>0.0365</td> <td>0.0137</td>  <td>0.4249</td> \n",
       "</tr>\n",
       "<tr>\n",
       "  <th>Intercept</th> <td>-1.9565</td>  <td>0.2322</td>  <td>-8.4248</td> <td>0.0000</td> <td>-2.4117</td> <td>-1.5013</td>\n",
       "</tr>\n",
       "</table>"
      ],
      "text/plain": [
       "<class 'statsmodels.iolib.summary2.Summary'>\n",
       "\"\"\"\n",
       "                          Results: Logit\n",
       "==================================================================\n",
       "Model:              Logit             Pseudo R-squared: 0.042     \n",
       "Dependent Variable: high_satisfaction AIC:              2171.0754 \n",
       "Date:               2020-02-23 22:31  BIC:              2192.7840 \n",
       "No. Observations:   1681              Log-Likelihood:   -1081.5   \n",
       "Df Model:           3                 LL-Null:          -1129.5   \n",
       "Df Residuals:       1677              LLR p-value:      1.1404e-20\n",
       "Converged:          1.0000            Scale:            1.0000    \n",
       "No. Iterations:     5.0000                                        \n",
       "-------------------------------------------------------------------\n",
       "                Coef.   Std.Err.     z     P>|z|    [0.025   0.975]\n",
       "-------------------------------------------------------------------\n",
       "apartment      -0.0867    0.1034  -0.8388  0.4016  -0.2893   0.1159\n",
       "influence       0.6502    0.0684   9.5107  0.0000   0.5162   0.7842\n",
       "contact         0.2193    0.1049   2.0910  0.0365   0.0137   0.4249\n",
       "Intercept      -1.9565    0.2322  -8.4248  0.0000  -2.4117  -1.5013\n",
       "==================================================================\n",
       "\n",
       "\"\"\""
      ]
     },
     "execution_count": 55,
     "metadata": {},
     "output_type": "execute_result"
    }
   ],
   "source": [
    "y = data['high_satisfaction'] #Dependent Variable - it's a dummy!\n",
    "x = data[ind_var].assign(Intercept = 1) #Independent Variables\n",
    "\n",
    "logit_model = Logit(y, x).fit()\n",
    "logit_model.summary2()"
   ]
  },
  {
   "cell_type": "code",
   "execution_count": 56,
   "metadata": {},
   "outputs": [
    {
     "data": {
      "text/html": [
       "<div>\n",
       "<style scoped>\n",
       "    .dataframe tbody tr th:only-of-type {\n",
       "        vertical-align: middle;\n",
       "    }\n",
       "\n",
       "    .dataframe tbody tr th {\n",
       "        vertical-align: top;\n",
       "    }\n",
       "\n",
       "    .dataframe thead th {\n",
       "        text-align: right;\n",
       "    }\n",
       "</style>\n",
       "<table border=\"1\" class=\"dataframe\">\n",
       "  <thead>\n",
       "    <tr style=\"text-align: right;\">\n",
       "      <th></th>\n",
       "      <th>2.5%</th>\n",
       "      <th>97.5%</th>\n",
       "      <th>Odds Ratio</th>\n",
       "    </tr>\n",
       "  </thead>\n",
       "  <tbody>\n",
       "    <tr>\n",
       "      <td>apartment</td>\n",
       "      <td>0.748808</td>\n",
       "      <td>1.122864</td>\n",
       "      <td>0.916956</td>\n",
       "    </tr>\n",
       "    <tr>\n",
       "      <td>influence</td>\n",
       "      <td>1.675616</td>\n",
       "      <td>2.190549</td>\n",
       "      <td>1.915860</td>\n",
       "    </tr>\n",
       "    <tr>\n",
       "      <td>contact</td>\n",
       "      <td>1.013837</td>\n",
       "      <td>1.529419</td>\n",
       "      <td>1.245223</td>\n",
       "    </tr>\n",
       "    <tr>\n",
       "      <td>Intercept</td>\n",
       "      <td>0.089665</td>\n",
       "      <td>0.222830</td>\n",
       "      <td>0.141351</td>\n",
       "    </tr>\n",
       "  </tbody>\n",
       "</table>\n",
       "</div>"
      ],
      "text/plain": [
       "               2.5%     97.5%  Odds Ratio\n",
       "apartment  0.748808  1.122864    0.916956\n",
       "influence  1.675616  2.190549    1.915860\n",
       "contact    1.013837  1.529419    1.245223\n",
       "Intercept  0.089665  0.222830    0.141351"
      ]
     },
     "execution_count": 56,
     "metadata": {},
     "output_type": "execute_result"
    }
   ],
   "source": [
    "# Odds Ratios\n",
    "or_table = np.exp(logit_model.conf_int()) #Exponentiate Confidence Intervals\n",
    "or_table['Odds Ratio'] = np.exp(logit_model.params) #Exponentiate Coefficients\n",
    "\n",
    "or_table.columns = ['2.5%', '97.5%', 'Odds Ratio'] #Name Columns\n",
    "or_table"
   ]
  },
  {
   "cell_type": "code",
   "execution_count": null,
   "metadata": {},
   "outputs": [],
   "source": []
  }
 ],
 "metadata": {
  "kernelspec": {
   "display_name": "Python 3",
   "language": "python",
   "name": "python3"
  },
  "language_info": {
   "codemirror_mode": {
    "name": "ipython",
    "version": 3
   },
   "file_extension": ".py",
   "mimetype": "text/x-python",
   "name": "python",
   "nbconvert_exporter": "python",
   "pygments_lexer": "ipython3",
   "version": "3.7.4"
  }
 },
 "nbformat": 4,
 "nbformat_minor": 2
}
