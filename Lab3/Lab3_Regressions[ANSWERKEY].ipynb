{
 "cells": [
  {
   "cell_type": "markdown",
   "metadata": {},
   "source": [
    "# Planning Methods: Part II, Spring 2021\n",
    "\n",
    "# Lab 3: Correlations and Regressions\n",
    "\n",
    "**About This Lab**\n",
    "* We will be running through this notebook together. If you have a clarifying question or other question of broad interest, feel free to interrupt or use a pause to unmute and ask it! If you have a question that may result in a one-on-one breakout room (think: detailed inquiry, conceptual question, or help debugging), please ask it in the chat!\n",
    "* We recognize learning Python via Zoom comes with its challenges and that there are many modes of learning. Please go with what works best for you. That might be printing out the Jupyter notebook, duplicating it such that you can refer to the original, working directly in it. Up to you! There isn't a single right way.\n",
    "* This lab requires that you download the following file and place it in the same directory as this Jupyter notebook:\n",
    "    * `clean_property_data.csv`\n",
    "* This data includes properties that were sold through a real estate site (like Zillow) between 2001 and 2006 in Bogota. There are apartments and houses, characteristics of the structure like area and bathrooms, and characteristics of the neighborhood like density and a proxy for neighborhood income which is called SES."
   ]
  },
  {
   "cell_type": "markdown",
   "metadata": {},
   "source": [
    "## Objectives\n",
    "By the end of this lab, you will have reviewed how to:\n",
    ">1. Call a correlation matrix\n",
    ">2. Run a bivariate linear regression\n",
    "\n",
    "You will also learn how to:\n",
    ">1. Run a bivariate linear regression with a binary independent variable\n",
    ">2. Run a multivariable linear regression with binary independent variables\n",
    "\n",
    "As discussed in lecture, planners can use regressions in a multitude of ways, from diagnosing a problem or bringing it to light, to determining at what level to intervene, to assessing the impact of an intervention. The kind of regression you will run depends on what phenomenon you want to understand (your dependent variable) and what factor(s) you hypothesize may be associated with it (your independent variables; explanatory or control variables)."
   ]
  },
  {
   "cell_type": "markdown",
   "metadata": {},
   "source": [
    "## 1 Import packages and data"
   ]
  },
  {
   "cell_type": "code",
   "execution_count": 1,
   "metadata": {},
   "outputs": [],
   "source": [
    "import numpy as np\n",
    "import pandas as pd\n",
    "import seaborn as sns\n",
    "\n",
    "import matplotlib as mpl\n",
    "import matplotlib.pyplot as plt\n",
    "from matplotlib.ticker import FuncFormatter\n",
    "\n",
    "import statsmodels.api as sm\n",
    "from scipy.stats import pearsonr"
   ]
  },
  {
   "cell_type": "code",
   "execution_count": 2,
   "metadata": {},
   "outputs": [
    {
     "data": {
      "text/html": [
       "<div>\n",
       "<style scoped>\n",
       "    .dataframe tbody tr th:only-of-type {\n",
       "        vertical-align: middle;\n",
       "    }\n",
       "\n",
       "    .dataframe tbody tr th {\n",
       "        vertical-align: top;\n",
       "    }\n",
       "\n",
       "    .dataframe thead th {\n",
       "        text-align: right;\n",
       "    }\n",
       "</style>\n",
       "<table border=\"1\" class=\"dataframe\">\n",
       "  <thead>\n",
       "    <tr style=\"text-align: right;\">\n",
       "      <th></th>\n",
       "      <th>id</th>\n",
       "      <th>price_000</th>\n",
       "      <th>yr_2001</th>\n",
       "      <th>yr_2002</th>\n",
       "      <th>yr_2003</th>\n",
       "      <th>yr_2004</th>\n",
       "      <th>yr_2005</th>\n",
       "      <th>yr_2006</th>\n",
       "      <th>apt</th>\n",
       "      <th>floor</th>\n",
       "      <th>...</th>\n",
       "      <th>pcnt_indu</th>\n",
       "      <th>pcnt_com</th>\n",
       "      <th>pcnt_insti</th>\n",
       "      <th>pcnt_vacant</th>\n",
       "      <th>pcn_green</th>\n",
       "      <th>thefts</th>\n",
       "      <th>house</th>\n",
       "      <th>ses_bin</th>\n",
       "      <th>lnprice</th>\n",
       "      <th>price_hi</th>\n",
       "    </tr>\n",
       "  </thead>\n",
       "  <tbody>\n",
       "    <tr>\n",
       "      <td>0</td>\n",
       "      <td>40003</td>\n",
       "      <td>60000</td>\n",
       "      <td>1</td>\n",
       "      <td>0</td>\n",
       "      <td>0</td>\n",
       "      <td>0</td>\n",
       "      <td>0</td>\n",
       "      <td>0</td>\n",
       "      <td>1</td>\n",
       "      <td>5</td>\n",
       "      <td>...</td>\n",
       "      <td>0.0</td>\n",
       "      <td>0.00</td>\n",
       "      <td>0.49</td>\n",
       "      <td>0.0</td>\n",
       "      <td>1.74</td>\n",
       "      <td>39.92</td>\n",
       "      <td>0</td>\n",
       "      <td>0</td>\n",
       "      <td>11.00210</td>\n",
       "      <td>0</td>\n",
       "    </tr>\n",
       "    <tr>\n",
       "      <td>1</td>\n",
       "      <td>40007</td>\n",
       "      <td>140000</td>\n",
       "      <td>0</td>\n",
       "      <td>1</td>\n",
       "      <td>0</td>\n",
       "      <td>0</td>\n",
       "      <td>0</td>\n",
       "      <td>0</td>\n",
       "      <td>0</td>\n",
       "      <td>0</td>\n",
       "      <td>...</td>\n",
       "      <td>0.0</td>\n",
       "      <td>15.41</td>\n",
       "      <td>1.32</td>\n",
       "      <td>0.0</td>\n",
       "      <td>0.54</td>\n",
       "      <td>46.00</td>\n",
       "      <td>1</td>\n",
       "      <td>0</td>\n",
       "      <td>11.84940</td>\n",
       "      <td>1</td>\n",
       "    </tr>\n",
       "    <tr>\n",
       "      <td>2</td>\n",
       "      <td>40008</td>\n",
       "      <td>38000</td>\n",
       "      <td>0</td>\n",
       "      <td>1</td>\n",
       "      <td>0</td>\n",
       "      <td>0</td>\n",
       "      <td>0</td>\n",
       "      <td>0</td>\n",
       "      <td>1</td>\n",
       "      <td>1</td>\n",
       "      <td>...</td>\n",
       "      <td>0.0</td>\n",
       "      <td>8.16</td>\n",
       "      <td>5.57</td>\n",
       "      <td>0.0</td>\n",
       "      <td>1.55</td>\n",
       "      <td>45.87</td>\n",
       "      <td>0</td>\n",
       "      <td>0</td>\n",
       "      <td>10.54534</td>\n",
       "      <td>0</td>\n",
       "    </tr>\n",
       "    <tr>\n",
       "      <td>3</td>\n",
       "      <td>40010</td>\n",
       "      <td>110000</td>\n",
       "      <td>0</td>\n",
       "      <td>1</td>\n",
       "      <td>0</td>\n",
       "      <td>0</td>\n",
       "      <td>0</td>\n",
       "      <td>0</td>\n",
       "      <td>0</td>\n",
       "      <td>0</td>\n",
       "      <td>...</td>\n",
       "      <td>0.0</td>\n",
       "      <td>8.11</td>\n",
       "      <td>5.53</td>\n",
       "      <td>0.0</td>\n",
       "      <td>1.58</td>\n",
       "      <td>45.88</td>\n",
       "      <td>1</td>\n",
       "      <td>0</td>\n",
       "      <td>11.60824</td>\n",
       "      <td>1</td>\n",
       "    </tr>\n",
       "    <tr>\n",
       "      <td>4</td>\n",
       "      <td>40011</td>\n",
       "      <td>120000</td>\n",
       "      <td>0</td>\n",
       "      <td>1</td>\n",
       "      <td>0</td>\n",
       "      <td>0</td>\n",
       "      <td>0</td>\n",
       "      <td>0</td>\n",
       "      <td>0</td>\n",
       "      <td>0</td>\n",
       "      <td>...</td>\n",
       "      <td>0.0</td>\n",
       "      <td>0.00</td>\n",
       "      <td>0.00</td>\n",
       "      <td>0.0</td>\n",
       "      <td>0.40</td>\n",
       "      <td>46.00</td>\n",
       "      <td>1</td>\n",
       "      <td>0</td>\n",
       "      <td>11.69525</td>\n",
       "      <td>1</td>\n",
       "    </tr>\n",
       "  </tbody>\n",
       "</table>\n",
       "<p>5 rows × 29 columns</p>\n",
       "</div>"
      ],
      "text/plain": [
       "      id  price_000  yr_2001  yr_2002  yr_2003  yr_2004  yr_2005  yr_2006  \\\n",
       "0  40003      60000        1        0        0        0        0        0   \n",
       "1  40007     140000        0        1        0        0        0        0   \n",
       "2  40008      38000        0        1        0        0        0        0   \n",
       "3  40010     110000        0        1        0        0        0        0   \n",
       "4  40011     120000        0        1        0        0        0        0   \n",
       "\n",
       "   apt  floor  ...  pcnt_indu  pcnt_com  pcnt_insti  pcnt_vacant  pcn_green  \\\n",
       "0    1      5  ...        0.0      0.00        0.49          0.0       1.74   \n",
       "1    0      0  ...        0.0     15.41        1.32          0.0       0.54   \n",
       "2    1      1  ...        0.0      8.16        5.57          0.0       1.55   \n",
       "3    0      0  ...        0.0      8.11        5.53          0.0       1.58   \n",
       "4    0      0  ...        0.0      0.00        0.00          0.0       0.40   \n",
       "\n",
       "   thefts  house  ses_bin   lnprice  price_hi  \n",
       "0   39.92      0        0  11.00210         0  \n",
       "1   46.00      1        0  11.84940         1  \n",
       "2   45.87      0        0  10.54534         0  \n",
       "3   45.88      1        0  11.60824         1  \n",
       "4   46.00      1        0  11.69525         1  \n",
       "\n",
       "[5 rows x 29 columns]"
      ]
     },
     "execution_count": 2,
     "metadata": {},
     "output_type": "execute_result"
    }
   ],
   "source": [
    "# read in data\n",
    "data = pd.read_csv('clean_property_data.csv')\n",
    "data.head()"
   ]
  },
  {
   "cell_type": "code",
   "execution_count": 3,
   "metadata": {},
   "outputs": [],
   "source": [
    "# create sub-dataframe\n",
    "df = data[['price_000','pop_dens','ses','house','area_m2','num_bath','pcn_green','thefts']].copy()"
   ]
  },
  {
   "cell_type": "markdown",
   "metadata": {},
   "source": [
    "## 2 Correlation matrix"
   ]
  },
  {
   "cell_type": "code",
   "execution_count": 4,
   "metadata": {},
   "outputs": [
    {
     "data": {
      "text/html": [
       "<div>\n",
       "<style scoped>\n",
       "    .dataframe tbody tr th:only-of-type {\n",
       "        vertical-align: middle;\n",
       "    }\n",
       "\n",
       "    .dataframe tbody tr th {\n",
       "        vertical-align: top;\n",
       "    }\n",
       "\n",
       "    .dataframe thead th {\n",
       "        text-align: right;\n",
       "    }\n",
       "</style>\n",
       "<table border=\"1\" class=\"dataframe\">\n",
       "  <thead>\n",
       "    <tr style=\"text-align: right;\">\n",
       "      <th></th>\n",
       "      <th>price_000</th>\n",
       "      <th>pop_dens</th>\n",
       "      <th>ses</th>\n",
       "      <th>house</th>\n",
       "      <th>area_m2</th>\n",
       "      <th>num_bath</th>\n",
       "      <th>pcn_green</th>\n",
       "      <th>thefts</th>\n",
       "    </tr>\n",
       "  </thead>\n",
       "  <tbody>\n",
       "    <tr>\n",
       "      <td>price_000</td>\n",
       "      <td>1.000000</td>\n",
       "      <td>0.025395</td>\n",
       "      <td>0.332310</td>\n",
       "      <td>0.272182</td>\n",
       "      <td>0.632867</td>\n",
       "      <td>0.438951</td>\n",
       "      <td>-0.024504</td>\n",
       "      <td>-0.140996</td>\n",
       "    </tr>\n",
       "    <tr>\n",
       "      <td>pop_dens</td>\n",
       "      <td>0.025395</td>\n",
       "      <td>1.000000</td>\n",
       "      <td>-0.066464</td>\n",
       "      <td>0.186380</td>\n",
       "      <td>0.169518</td>\n",
       "      <td>0.085829</td>\n",
       "      <td>-0.030906</td>\n",
       "      <td>0.122644</td>\n",
       "    </tr>\n",
       "    <tr>\n",
       "      <td>ses</td>\n",
       "      <td>0.332310</td>\n",
       "      <td>-0.066464</td>\n",
       "      <td>1.000000</td>\n",
       "      <td>-0.147592</td>\n",
       "      <td>0.101272</td>\n",
       "      <td>0.080532</td>\n",
       "      <td>0.052955</td>\n",
       "      <td>-0.272214</td>\n",
       "    </tr>\n",
       "    <tr>\n",
       "      <td>house</td>\n",
       "      <td>0.272182</td>\n",
       "      <td>0.186380</td>\n",
       "      <td>-0.147592</td>\n",
       "      <td>1.000000</td>\n",
       "      <td>0.651771</td>\n",
       "      <td>0.391207</td>\n",
       "      <td>-0.071164</td>\n",
       "      <td>0.002256</td>\n",
       "    </tr>\n",
       "    <tr>\n",
       "      <td>area_m2</td>\n",
       "      <td>0.632867</td>\n",
       "      <td>0.169518</td>\n",
       "      <td>0.101272</td>\n",
       "      <td>0.651771</td>\n",
       "      <td>1.000000</td>\n",
       "      <td>0.530402</td>\n",
       "      <td>-0.081659</td>\n",
       "      <td>-0.155758</td>\n",
       "    </tr>\n",
       "    <tr>\n",
       "      <td>num_bath</td>\n",
       "      <td>0.438951</td>\n",
       "      <td>0.085829</td>\n",
       "      <td>0.080532</td>\n",
       "      <td>0.391207</td>\n",
       "      <td>0.530402</td>\n",
       "      <td>1.000000</td>\n",
       "      <td>0.004428</td>\n",
       "      <td>-0.023408</td>\n",
       "    </tr>\n",
       "    <tr>\n",
       "      <td>pcn_green</td>\n",
       "      <td>-0.024504</td>\n",
       "      <td>-0.030906</td>\n",
       "      <td>0.052955</td>\n",
       "      <td>-0.071164</td>\n",
       "      <td>-0.081659</td>\n",
       "      <td>0.004428</td>\n",
       "      <td>1.000000</td>\n",
       "      <td>0.400809</td>\n",
       "    </tr>\n",
       "    <tr>\n",
       "      <td>thefts</td>\n",
       "      <td>-0.140996</td>\n",
       "      <td>0.122644</td>\n",
       "      <td>-0.272214</td>\n",
       "      <td>0.002256</td>\n",
       "      <td>-0.155758</td>\n",
       "      <td>-0.023408</td>\n",
       "      <td>0.400809</td>\n",
       "      <td>1.000000</td>\n",
       "    </tr>\n",
       "  </tbody>\n",
       "</table>\n",
       "</div>"
      ],
      "text/plain": [
       "           price_000  pop_dens       ses     house   area_m2  num_bath  \\\n",
       "price_000   1.000000  0.025395  0.332310  0.272182  0.632867  0.438951   \n",
       "pop_dens    0.025395  1.000000 -0.066464  0.186380  0.169518  0.085829   \n",
       "ses         0.332310 -0.066464  1.000000 -0.147592  0.101272  0.080532   \n",
       "house       0.272182  0.186380 -0.147592  1.000000  0.651771  0.391207   \n",
       "area_m2     0.632867  0.169518  0.101272  0.651771  1.000000  0.530402   \n",
       "num_bath    0.438951  0.085829  0.080532  0.391207  0.530402  1.000000   \n",
       "pcn_green  -0.024504 -0.030906  0.052955 -0.071164 -0.081659  0.004428   \n",
       "thefts     -0.140996  0.122644 -0.272214  0.002256 -0.155758 -0.023408   \n",
       "\n",
       "           pcn_green    thefts  \n",
       "price_000  -0.024504 -0.140996  \n",
       "pop_dens   -0.030906  0.122644  \n",
       "ses         0.052955 -0.272214  \n",
       "house      -0.071164  0.002256  \n",
       "area_m2    -0.081659 -0.155758  \n",
       "num_bath    0.004428 -0.023408  \n",
       "pcn_green   1.000000  0.400809  \n",
       "thefts      0.400809  1.000000  "
      ]
     },
     "execution_count": 4,
     "metadata": {},
     "output_type": "execute_result"
    }
   ],
   "source": [
    "# correlation matrix for all variables\n",
    "df.corr()"
   ]
  },
  {
   "cell_type": "code",
   "execution_count": 5,
   "metadata": {},
   "outputs": [
    {
     "data": {
      "text/html": [
       "<div>\n",
       "<style scoped>\n",
       "    .dataframe tbody tr th:only-of-type {\n",
       "        vertical-align: middle;\n",
       "    }\n",
       "\n",
       "    .dataframe tbody tr th {\n",
       "        vertical-align: top;\n",
       "    }\n",
       "\n",
       "    .dataframe thead th {\n",
       "        text-align: right;\n",
       "    }\n",
       "</style>\n",
       "<table border=\"1\" class=\"dataframe\">\n",
       "  <thead>\n",
       "    <tr style=\"text-align: right;\">\n",
       "      <th></th>\n",
       "      <th>price_000</th>\n",
       "      <th>pop_dens</th>\n",
       "      <th>ses</th>\n",
       "      <th>house</th>\n",
       "      <th>area_m2</th>\n",
       "      <th>num_bath</th>\n",
       "      <th>pcn_green</th>\n",
       "      <th>thefts</th>\n",
       "    </tr>\n",
       "  </thead>\n",
       "  <tbody>\n",
       "    <tr>\n",
       "      <td>price_000</td>\n",
       "      <td>1.000000e+00</td>\n",
       "      <td>1.093673e-01</td>\n",
       "      <td>3.991591e-103</td>\n",
       "      <td>1.757399e-68</td>\n",
       "      <td>0.000000e+00</td>\n",
       "      <td>5.777945e-187</td>\n",
       "      <td>1.223729e-01</td>\n",
       "      <td>4.166382e-19</td>\n",
       "    </tr>\n",
       "    <tr>\n",
       "      <td>pop_dens</td>\n",
       "      <td>1.093673e-01</td>\n",
       "      <td>1.000000e+00</td>\n",
       "      <td>2.737746e-05</td>\n",
       "      <td>2.087070e-32</td>\n",
       "      <td>5.108902e-27</td>\n",
       "      <td>5.949682e-08</td>\n",
       "      <td>5.133684e-02</td>\n",
       "      <td>8.474575e-15</td>\n",
       "    </tr>\n",
       "    <tr>\n",
       "      <td>ses</td>\n",
       "      <td>3.991591e-103</td>\n",
       "      <td>2.737746e-05</td>\n",
       "      <td>1.000000e+00</td>\n",
       "      <td>8.371958e-21</td>\n",
       "      <td>1.551396e-10</td>\n",
       "      <td>3.683541e-07</td>\n",
       "      <td>8.365027e-04</td>\n",
       "      <td>1.691778e-68</td>\n",
       "    </tr>\n",
       "    <tr>\n",
       "      <td>house</td>\n",
       "      <td>1.757399e-68</td>\n",
       "      <td>2.087070e-32</td>\n",
       "      <td>8.371958e-21</td>\n",
       "      <td>1.000000e+00</td>\n",
       "      <td>0.000000e+00</td>\n",
       "      <td>1.478265e-145</td>\n",
       "      <td>7.069447e-06</td>\n",
       "      <td>8.869123e-01</td>\n",
       "    </tr>\n",
       "    <tr>\n",
       "      <td>area_m2</td>\n",
       "      <td>0.000000e+00</td>\n",
       "      <td>5.108902e-27</td>\n",
       "      <td>1.551396e-10</td>\n",
       "      <td>0.000000e+00</td>\n",
       "      <td>1.000000e+00</td>\n",
       "      <td>2.020881e-287</td>\n",
       "      <td>2.522505e-07</td>\n",
       "      <td>5.152606e-23</td>\n",
       "    </tr>\n",
       "    <tr>\n",
       "      <td>num_bath</td>\n",
       "      <td>5.777945e-187</td>\n",
       "      <td>5.949682e-08</td>\n",
       "      <td>3.683541e-07</td>\n",
       "      <td>1.478265e-145</td>\n",
       "      <td>2.020881e-287</td>\n",
       "      <td>1.000000e+00</td>\n",
       "      <td>7.801394e-01</td>\n",
       "      <td>1.400141e-01</td>\n",
       "    </tr>\n",
       "    <tr>\n",
       "      <td>pcn_green</td>\n",
       "      <td>1.223729e-01</td>\n",
       "      <td>5.133684e-02</td>\n",
       "      <td>8.365027e-04</td>\n",
       "      <td>7.069447e-06</td>\n",
       "      <td>2.522505e-07</td>\n",
       "      <td>7.801394e-01</td>\n",
       "      <td>1.000000e+00</td>\n",
       "      <td>2.374363e-153</td>\n",
       "    </tr>\n",
       "    <tr>\n",
       "      <td>thefts</td>\n",
       "      <td>4.166382e-19</td>\n",
       "      <td>8.474575e-15</td>\n",
       "      <td>1.691778e-68</td>\n",
       "      <td>8.869123e-01</td>\n",
       "      <td>5.152606e-23</td>\n",
       "      <td>1.400141e-01</td>\n",
       "      <td>2.374363e-153</td>\n",
       "      <td>1.000000e+00</td>\n",
       "    </tr>\n",
       "  </tbody>\n",
       "</table>\n",
       "</div>"
      ],
      "text/plain": [
       "               price_000      pop_dens            ses          house  \\\n",
       "price_000   1.000000e+00  1.093673e-01  3.991591e-103   1.757399e-68   \n",
       "pop_dens    1.093673e-01  1.000000e+00   2.737746e-05   2.087070e-32   \n",
       "ses        3.991591e-103  2.737746e-05   1.000000e+00   8.371958e-21   \n",
       "house       1.757399e-68  2.087070e-32   8.371958e-21   1.000000e+00   \n",
       "area_m2     0.000000e+00  5.108902e-27   1.551396e-10   0.000000e+00   \n",
       "num_bath   5.777945e-187  5.949682e-08   3.683541e-07  1.478265e-145   \n",
       "pcn_green   1.223729e-01  5.133684e-02   8.365027e-04   7.069447e-06   \n",
       "thefts      4.166382e-19  8.474575e-15   1.691778e-68   8.869123e-01   \n",
       "\n",
       "                 area_m2       num_bath      pcn_green         thefts  \n",
       "price_000   0.000000e+00  5.777945e-187   1.223729e-01   4.166382e-19  \n",
       "pop_dens    5.108902e-27   5.949682e-08   5.133684e-02   8.474575e-15  \n",
       "ses         1.551396e-10   3.683541e-07   8.365027e-04   1.691778e-68  \n",
       "house       0.000000e+00  1.478265e-145   7.069447e-06   8.869123e-01  \n",
       "area_m2     1.000000e+00  2.020881e-287   2.522505e-07   5.152606e-23  \n",
       "num_bath   2.020881e-287   1.000000e+00   7.801394e-01   1.400141e-01  \n",
       "pcn_green   2.522505e-07   7.801394e-01   1.000000e+00  2.374363e-153  \n",
       "thefts      5.152606e-23   1.400141e-01  2.374363e-153   1.000000e+00  "
      ]
     },
     "execution_count": 5,
     "metadata": {},
     "output_type": "execute_result"
    }
   ],
   "source": [
    "# function for matrix of p-values (thank you, Jonathan!)\n",
    "def pearsonr_pval(x,y):\n",
    "    return pearsonr(x,y)[1]\n",
    "\n",
    "corr = df.corr(method=pearsonr_pval)\n",
    "corr"
   ]
  },
  {
   "cell_type": "markdown",
   "metadata": {},
   "source": [
    "## 3 Bivariate linear regression\n",
    "A simple linear regression—also known as a binary linear regression—is one where the dependent variable is continuous and is “simple” only because there is one independent or explanatory variable to explore. We’re going to start with exploring the possible relationship between two continuous variables to practice that interpretation."
   ]
  },
  {
   "cell_type": "markdown",
   "metadata": {},
   "source": [
    "### 3.1 Hypothesis 1: neighborhood population density is associated with higher property values"
   ]
  },
  {
   "cell_type": "markdown",
   "metadata": {},
   "source": [
    "#### 3.1.1 Explore your variables (descibe and visualize)"
   ]
  },
  {
   "cell_type": "code",
   "execution_count": 6,
   "metadata": {},
   "outputs": [],
   "source": [
    "# define a function to set up boxplot and histogram side by side\n",
    "\n",
    "def plots (df, var, title, box_label, hist_label):\n",
    "    # set up figure for two subplots: boxplot & histogram\n",
    "    fig, (ax1, ax2) = plt.subplots(1, 2, figsize=(12, 4)) # define subplots and figure size\n",
    "    plt.suptitle(title) # title the figure\n",
    "    \n",
    "    ### boxplot\n",
    "    ax1.boxplot(var)\n",
    "    ax1.set_ylabel(box_label)\n",
    "    ### format axes to include thousands separator\n",
    "    ax1.get_xaxis().set_major_formatter(plt.FuncFormatter(lambda x1, loc: \"{:,}\".format(int(x1))))\n",
    "    ax1.get_yaxis().set_major_formatter(plt.FuncFormatter(lambda x1, loc: \"{:,}\".format(int(x1))))\n",
    "\n",
    "    ### histogram\n",
    "    ax2.hist(var)\n",
    "    ax2.set_xlabel(hist_label)\n",
    "    ### format axes number to include thousands separator\n",
    "    ax2.get_xaxis().set_major_formatter(plt.FuncFormatter(lambda x2, loc: \"{:,}\".format(int(x2))))\n",
    "    ax2.get_yaxis().set_major_formatter(plt.FuncFormatter(lambda x2, loc: \"{:,}\".format(int(x2))))\n",
    "    ax2.tick_params(axis='x', labelrotation=35)\n",
    "\n",
    "    plt.show()"
   ]
  },
  {
   "cell_type": "code",
   "execution_count": 7,
   "metadata": {},
   "outputs": [],
   "source": [
    "# set up variables\n",
    "x = df['pop_dens'] # define independent variable\n",
    "y = df['price_000'] # define dependent variable"
   ]
  },
  {
   "cell_type": "code",
   "execution_count": 8,
   "metadata": {},
   "outputs": [
    {
     "name": "stdout",
     "output_type": "stream",
     "text": [
      "count    3976.000000\n",
      "mean      470.319977\n",
      "std       237.467271\n",
      "min        16.180000\n",
      "25%       277.840000\n",
      "50%       416.320000\n",
      "75%       660.590000\n",
      "max       986.730000\n",
      "Name: pop_dens, dtype: float64\n"
     ]
    },
    {
     "data": {
      "image/png": "[encoded data removed]",
      "text/plain": [
       "<Figure size 864x288 with 2 Axes>"
      ]
     },
     "metadata": {
      "needs_background": "light"
     },
     "output_type": "display_data"
    }
   ],
   "source": [
    "# describe neighborhood density\n",
    "var = x\n",
    "title = 'Neighborhood Population Density'\n",
    "box_label = '[Residents/Mi$^2$]'\n",
    "hist_label = '[Residents/Mi$^2$]'\n",
    "\n",
    "print(var.describe())\n",
    "plots(df, var, title, box_label, hist_label)"
   ]
  },
  {
   "cell_type": "code",
   "execution_count": 9,
   "metadata": {},
   "outputs": [
    {
     "name": "stdout",
     "output_type": "stream",
     "text": [
      "count      3976.000000\n",
      "mean      93511.045523\n",
      "std       75516.069987\n",
      "min       20000.000000\n",
      "25%       50000.000000\n",
      "50%       72000.000000\n",
      "75%      110000.000000\n",
      "max      800000.000000\n",
      "Name: price_000, dtype: float64\n"
     ]
    },
    {
     "data": {
      "image/png": "[encoded data removed]",
      "text/plain": [
       "<Figure size 864x288 with 2 Axes>"
      ]
     },
     "metadata": {
      "needs_background": "light"
     },
     "output_type": "display_data"
    }
   ],
   "source": [
    "# describe property price\n",
    "var = y\n",
    "title = 'Property Asking Price'\n",
    "box_label = '[Thousands of Pesos]'\n",
    "hist_label = '[Thousands of Pesos]'\n",
    "\n",
    "print(var.describe())\n",
    "plots(df, var, title, box_label, hist_label)"
   ]
  },
  {
   "cell_type": "markdown",
   "metadata": {},
   "source": [
    "#### 3.1.2 Visualize the relationship (scatterplot)\n",
    "Like we did last lab, we’ll now draw a scatterplot with our two variables to get a visual sense of how these variables move together. We’ll also add a line of best fit, a straight line drawn through the center of the data points that minimizes the total sum of squared distances between the line and each data point to give a general picture of the trend in the data.\n",
    "\n",
    "We're using the Seaborn library here (as opposed to Matplotlib) because it's better at incorporating the line of best fit, and it generally produces more nuanced visualizations."
   ]
  },
  {
   "cell_type": "code",
   "execution_count": 10,
   "metadata": {},
   "outputs": [],
   "source": [
    "# define a function to show and style regression scatterplot\n",
    "def reg_scatter(df, x, y, xlabel, ylabel, color):\n",
    "    plt.figure(figsize=(10,6))\n",
    "\n",
    "    ax = sns.regplot(x, y, data=df, line_kws=color) \n",
    "\n",
    "    ax.set(xlabel=xlabel, ylabel=ylabel);\n",
    "    ax.get_xaxis().set_major_formatter(mpl.ticker.FuncFormatter(lambda x, p: format(int(x), ',')))\n",
    "    ax.get_yaxis().set_major_formatter(mpl.ticker.FuncFormatter(lambda x, p: format(int(x), ',')))"
   ]
  },
  {
   "cell_type": "code",
   "execution_count": 11,
   "metadata": {},
   "outputs": [],
   "source": [
    "# set up parameters for plot function\n",
    "xlabel = 'Neighborhood Population Density [Residents/Mi$^2$]'\n",
    "ylabel = 'Property Asking Price [Thousands of Pesos]'\n",
    "color = {'color':'red'}"
   ]
  },
  {
   "cell_type": "code",
   "execution_count": 12,
   "metadata": {},
   "outputs": [
    {
     "data": {
      "image/png": "[encoded data removed]",
      "text/plain": [
       "<Figure size 720x432 with 1 Axes>"
      ]
     },
     "metadata": {
      "needs_background": "light"
     },
     "output_type": "display_data"
    }
   ],
   "source": [
    "reg_scatter(df, x, y, xlabel, ylabel, color)"
   ]
  },
  {
   "cell_type": "markdown",
   "metadata": {},
   "source": [
    "#### 3.1.3 Pairwise correlation\n",
    "What do we notice about this scatterplot? Let’s run a correlation of these two variables (aka a 'pairwise' correlation) to see how strong the relationship is."
   ]
  },
  {
   "cell_type": "code",
   "execution_count": 13,
   "metadata": {},
   "outputs": [
    {
     "data": {
      "text/html": [
       "<div>\n",
       "<style scoped>\n",
       "    .dataframe tbody tr th:only-of-type {\n",
       "        vertical-align: middle;\n",
       "    }\n",
       "\n",
       "    .dataframe tbody tr th {\n",
       "        vertical-align: top;\n",
       "    }\n",
       "\n",
       "    .dataframe thead th {\n",
       "        text-align: right;\n",
       "    }\n",
       "</style>\n",
       "<table border=\"1\" class=\"dataframe\">\n",
       "  <thead>\n",
       "    <tr style=\"text-align: right;\">\n",
       "      <th></th>\n",
       "      <th>pop_dens</th>\n",
       "      <th>price_000</th>\n",
       "    </tr>\n",
       "  </thead>\n",
       "  <tbody>\n",
       "    <tr>\n",
       "      <td>pop_dens</td>\n",
       "      <td>1.000000</td>\n",
       "      <td>0.025395</td>\n",
       "    </tr>\n",
       "    <tr>\n",
       "      <td>price_000</td>\n",
       "      <td>0.025395</td>\n",
       "      <td>1.000000</td>\n",
       "    </tr>\n",
       "  </tbody>\n",
       "</table>\n",
       "</div>"
      ],
      "text/plain": [
       "           pop_dens  price_000\n",
       "pop_dens   1.000000   0.025395\n",
       "price_000  0.025395   1.000000"
      ]
     },
     "execution_count": 13,
     "metadata": {},
     "output_type": "execute_result"
    }
   ],
   "source": [
    "# returns a Pearson’s correlation coefficient for each pair specified\n",
    "var_list = ['pop_dens', 'price_000']\n",
    "df[var_list].corr()"
   ]
  },
  {
   "cell_type": "code",
   "execution_count": 14,
   "metadata": {},
   "outputs": [
    {
     "data": {
      "text/plain": [
       "(0.025394898568317177, 0.10936728425905742)"
      ]
     },
     "execution_count": 14,
     "metadata": {},
     "output_type": "execute_result"
    }
   ],
   "source": [
    "# pairwise correlation with significance\n",
    "# returns a Pearson’s correlation coefficient, 2-tailed p-value\n",
    "pearsonr(x, y)"
   ]
  },
  {
   "cell_type": "markdown",
   "metadata": {},
   "source": [
    "It looks like this isn't a statistically significant relationship, but let’s take a closer look with a regression anyway! We hypothesized that neighborhood density might be an explanatory variable for a property's asking price, so pop_dens will be our X and price_000 will be our Y."
   ]
  },
  {
   "cell_type": "markdown",
   "metadata": {},
   "source": [
    "#### 3.1.4 Bivariate linear regression\n",
    "Before we run our regression, let’s review what we’re looking for:\n",
    "\n",
    "> • RQ:  \n",
    "> • H0:  \n",
    "> • HA:  "
   ]
  },
  {
   "cell_type": "code",
   "execution_count": 15,
   "metadata": {},
   "outputs": [
    {
     "data": {
      "text/html": [
       "<table class=\"simpletable\">\n",
       "<tr>\n",
       "        <td>Model:</td>               <td>OLS</td>         <td>Adj. R-squared:</td>      <td>0.000</td>   \n",
       "</tr>\n",
       "<tr>\n",
       "  <td>Dependent Variable:</td>     <td>price_000</td>           <td>AIC:</td>         <td>100601.4994</td>\n",
       "</tr>\n",
       "<tr>\n",
       "         <td>Date:</td>        <td>2021-02-10 14:04</td>        <td>BIC:</td>         <td>100614.0754</td>\n",
       "</tr>\n",
       "<tr>\n",
       "   <td>No. Observations:</td>        <td>3976</td>         <td>Log-Likelihood:</td>     <td>-50299.</td>  \n",
       "</tr>\n",
       "<tr>\n",
       "       <td>Df Model:</td>              <td>1</td>           <td>F-statistic:</td>        <td>2.564</td>   \n",
       "</tr>\n",
       "<tr>\n",
       "     <td>Df Residuals:</td>          <td>3974</td>       <td>Prob (F-statistic):</td>    <td>0.109</td>   \n",
       "</tr>\n",
       "<tr>\n",
       "      <td>R-squared:</td>            <td>0.001</td>            <td>Scale:</td>        <td>5.7004e+09</td> \n",
       "</tr>\n",
       "</table>\n",
       "<table class=\"simpletable\">\n",
       "<tr>\n",
       "      <td></td>         <th>Coef.</th>   <th>Std.Err.</th>     <th>t</th>     <th>P>|t|</th>   <th>[0.025</th>     <th>0.975]</th>  \n",
       "</tr>\n",
       "<tr>\n",
       "  <th>pop_dens</th>    <td>8.0757</td>    <td>5.0429</td>   <td>1.6014</td>  <td>0.1094</td>   <td>-1.8112</td>    <td>17.9627</td> \n",
       "</tr>\n",
       "<tr>\n",
       "  <th>Intercept</th> <td>89712.8657</td> <td>2656.8905</td> <td>33.7661</td> <td>0.0000</td> <td>84503.8694</td> <td>94921.8619</td>\n",
       "</tr>\n",
       "</table>\n",
       "<table class=\"simpletable\">\n",
       "<tr>\n",
       "     <td>Omnibus:</td>    <td>2831.841</td>  <td>Durbin-Watson:</td>     <td>0.353</td>  \n",
       "</tr>\n",
       "<tr>\n",
       "  <td>Prob(Omnibus):</td>   <td>0.000</td>  <td>Jarque-Bera (JB):</td> <td>47484.533</td>\n",
       "</tr>\n",
       "<tr>\n",
       "       <td>Skew:</td>       <td>3.262</td>      <td>Prob(JB):</td>       <td>0.000</td>  \n",
       "</tr>\n",
       "<tr>\n",
       "     <td>Kurtosis:</td>    <td>18.622</td>   <td>Condition No.:</td>     <td>1169</td>   \n",
       "</tr>\n",
       "</table>"
      ],
      "text/plain": [
       "<class 'statsmodels.iolib.summary2.Summary'>\n",
       "\"\"\"\n",
       "                  Results: Ordinary least squares\n",
       "====================================================================\n",
       "Model:              OLS              Adj. R-squared:     0.000      \n",
       "Dependent Variable: price_000        AIC:                100601.4994\n",
       "Date:               2021-02-10 14:04 BIC:                100614.0754\n",
       "No. Observations:   3976             Log-Likelihood:     -50299.    \n",
       "Df Model:           1                F-statistic:        2.564      \n",
       "Df Residuals:       3974             Prob (F-statistic): 0.109      \n",
       "R-squared:          0.001            Scale:              5.7004e+09 \n",
       "--------------------------------------------------------------------\n",
       "             Coef.     Std.Err.    t    P>|t|    [0.025     0.975]  \n",
       "--------------------------------------------------------------------\n",
       "pop_dens       8.0757    5.0429  1.6014 0.1094    -1.8112    17.9627\n",
       "Intercept  89712.8657 2656.8905 33.7661 0.0000 84503.8694 94921.8619\n",
       "--------------------------------------------------------------------\n",
       "Omnibus:              2831.841      Durbin-Watson:         0.353    \n",
       "Prob(Omnibus):        0.000         Jarque-Bera (JB):      47484.533\n",
       "Skew:                 3.262         Prob(JB):              0.000    \n",
       "Kurtosis:             18.622        Condition No.:         1169     \n",
       "====================================================================\n",
       "* The condition number is large (1e+03). This might indicate\n",
       "strong multicollinearity or other numerical problems.\n",
       "\"\"\""
      ]
     },
     "execution_count": 15,
     "metadata": {},
     "output_type": "execute_result"
    }
   ],
   "source": [
    "# bivariate linear regression\n",
    "x = df[['pop_dens']].assign(Intercept = 1) # redefine independent variable and include intercept\n",
    "\n",
    "sm.OLS(y, x).fit().summary2()"
   ]
  },
  {
   "cell_type": "markdown",
   "metadata": {},
   "source": [
    "Let's answer the following questions:\n",
    "> • How can you explain the impact of population density on the asking price of a property?  \n",
    "> • Is our model statistically significant?   \n",
    "> • How can you tell?   \n",
    "\n",
    "We're bound to run into insignificant findings, particularly as we work with complex topics and datasets in city planning. However these results can still be revealing and teach us about our research question and/or the dataset."
   ]
  },
  {
   "cell_type": "markdown",
   "metadata": {},
   "source": [
    "### 3.2 Hypothesis 2: high SES neighborhoods (ses_bin=6 is highest) are associated with higher property values"
   ]
  },
  {
   "cell_type": "code",
   "execution_count": 16,
   "metadata": {},
   "outputs": [],
   "source": [
    "# set up variables\n",
    "x = df['ses'] # independent variable\n",
    "y = df['price_000'] # dependent variable\n",
    "\n",
    "xlabel = 'Neighborhood Socioeconomic Satus'\n",
    "ylabel = 'Property Asking Price [Thousands of Pesos]'"
   ]
  },
  {
   "cell_type": "markdown",
   "metadata": {},
   "source": [
    "#### 3.2.1 Explore your variables (describe and recode)"
   ]
  },
  {
   "cell_type": "code",
   "execution_count": 17,
   "metadata": {
    "scrolled": true
   },
   "outputs": [
    {
     "data": {
      "text/html": [
       "<div>\n",
       "<style scoped>\n",
       "    .dataframe tbody tr th:only-of-type {\n",
       "        vertical-align: middle;\n",
       "    }\n",
       "\n",
       "    .dataframe tbody tr th {\n",
       "        vertical-align: top;\n",
       "    }\n",
       "\n",
       "    .dataframe thead th {\n",
       "        text-align: right;\n",
       "    }\n",
       "</style>\n",
       "<table border=\"1\" class=\"dataframe\">\n",
       "  <thead>\n",
       "    <tr style=\"text-align: right;\">\n",
       "      <th></th>\n",
       "      <th>count</th>\n",
       "      <th>min</th>\n",
       "      <th>max</th>\n",
       "      <th>mean</th>\n",
       "      <th>median</th>\n",
       "      <th>std</th>\n",
       "    </tr>\n",
       "    <tr>\n",
       "      <th>ses</th>\n",
       "      <th></th>\n",
       "      <th></th>\n",
       "      <th></th>\n",
       "      <th></th>\n",
       "      <th></th>\n",
       "      <th></th>\n",
       "    </tr>\n",
       "  </thead>\n",
       "  <tbody>\n",
       "    <tr>\n",
       "      <td>1</td>\n",
       "      <td>26</td>\n",
       "      <td>20000</td>\n",
       "      <td>700000</td>\n",
       "      <td>266953.846154</td>\n",
       "      <td>250000</td>\n",
       "      <td>179357.852866</td>\n",
       "    </tr>\n",
       "    <tr>\n",
       "      <td>2</td>\n",
       "      <td>79</td>\n",
       "      <td>21000</td>\n",
       "      <td>150000</td>\n",
       "      <td>50664.822785</td>\n",
       "      <td>40000</td>\n",
       "      <td>28741.165509</td>\n",
       "    </tr>\n",
       "    <tr>\n",
       "      <td>3</td>\n",
       "      <td>2105</td>\n",
       "      <td>20000</td>\n",
       "      <td>564425</td>\n",
       "      <td>73547.928741</td>\n",
       "      <td>60000</td>\n",
       "      <td>49480.348888</td>\n",
       "    </tr>\n",
       "    <tr>\n",
       "      <td>4</td>\n",
       "      <td>1448</td>\n",
       "      <td>20000</td>\n",
       "      <td>740000</td>\n",
       "      <td>101629.808702</td>\n",
       "      <td>82000</td>\n",
       "      <td>71465.271681</td>\n",
       "    </tr>\n",
       "    <tr>\n",
       "      <td>5</td>\n",
       "      <td>227</td>\n",
       "      <td>23000</td>\n",
       "      <td>800000</td>\n",
       "      <td>170825.299559</td>\n",
       "      <td>130000</td>\n",
       "      <td>118376.845077</td>\n",
       "    </tr>\n",
       "    <tr>\n",
       "      <td>6</td>\n",
       "      <td>91</td>\n",
       "      <td>42000</td>\n",
       "      <td>699800</td>\n",
       "      <td>220889.010989</td>\n",
       "      <td>200000</td>\n",
       "      <td>124550.539899</td>\n",
       "    </tr>\n",
       "  </tbody>\n",
       "</table>\n",
       "</div>"
      ],
      "text/plain": [
       "     count    min     max           mean  median            std\n",
       "ses                                                            \n",
       "1       26  20000  700000  266953.846154  250000  179357.852866\n",
       "2       79  21000  150000   50664.822785   40000   28741.165509\n",
       "3     2105  20000  564425   73547.928741   60000   49480.348888\n",
       "4     1448  20000  740000  101629.808702   82000   71465.271681\n",
       "5      227  23000  800000  170825.299559  130000  118376.845077\n",
       "6       91  42000  699800  220889.010989  200000  124550.539899"
      ]
     },
     "execution_count": 17,
     "metadata": {},
     "output_type": "execute_result"
    }
   ],
   "source": [
    "# describe SES & price\n",
    "stats = ['count','min','max','mean', 'median', 'std']\n",
    "y.groupby(x).agg(stats)"
   ]
  },
  {
   "cell_type": "markdown",
   "metadata": {},
   "source": [
    "We’re interested in the difference between high and low SES status, so we can simplify this categorical variable into a dummy in which those that are rated 5 & 6 are coded 1, and all others are coded 0.  "
   ]
  },
  {
   "cell_type": "code",
   "execution_count": 18,
   "metadata": {},
   "outputs": [
    {
     "data": {
      "text/html": [
       "<div>\n",
       "<style scoped>\n",
       "    .dataframe tbody tr th:only-of-type {\n",
       "        vertical-align: middle;\n",
       "    }\n",
       "\n",
       "    .dataframe tbody tr th {\n",
       "        vertical-align: top;\n",
       "    }\n",
       "\n",
       "    .dataframe thead th {\n",
       "        text-align: right;\n",
       "    }\n",
       "</style>\n",
       "<table border=\"1\" class=\"dataframe\">\n",
       "  <thead>\n",
       "    <tr style=\"text-align: right;\">\n",
       "      <th></th>\n",
       "      <th>count</th>\n",
       "      <th>min</th>\n",
       "      <th>max</th>\n",
       "      <th>mean</th>\n",
       "      <th>median</th>\n",
       "      <th>std</th>\n",
       "    </tr>\n",
       "    <tr>\n",
       "      <th>ses_dv</th>\n",
       "      <th></th>\n",
       "      <th></th>\n",
       "      <th></th>\n",
       "      <th></th>\n",
       "      <th></th>\n",
       "      <th></th>\n",
       "    </tr>\n",
       "  </thead>\n",
       "  <tbody>\n",
       "    <tr>\n",
       "      <td>0</td>\n",
       "      <td>3658</td>\n",
       "      <td>20000</td>\n",
       "      <td>740000</td>\n",
       "      <td>85544.470749</td>\n",
       "      <td>70000</td>\n",
       "      <td>64128.942717</td>\n",
       "    </tr>\n",
       "    <tr>\n",
       "      <td>1</td>\n",
       "      <td>318</td>\n",
       "      <td>23000</td>\n",
       "      <td>800000</td>\n",
       "      <td>185151.707547</td>\n",
       "      <td>150000</td>\n",
       "      <td>122099.441800</td>\n",
       "    </tr>\n",
       "  </tbody>\n",
       "</table>\n",
       "</div>"
      ],
      "text/plain": [
       "        count    min     max           mean  median            std\n",
       "ses_dv                                                            \n",
       "0        3658  20000  740000   85544.470749   70000   64128.942717\n",
       "1         318  23000  800000  185151.707547  150000  122099.441800"
      ]
     },
     "execution_count": 18,
     "metadata": {},
     "output_type": "execute_result"
    }
   ],
   "source": [
    "# recode SES to high SES dummy variable\n",
    "df['ses_dv'] = np.where((df['ses']>=5), 1, 0) # create dummy variable: 1 = high SES, 0 = lower SES\n",
    "x = df['ses_dv'] # reassign independent X variable\n",
    "\n",
    "y.groupby(x).agg(stats)"
   ]
  },
  {
   "cell_type": "markdown",
   "metadata": {},
   "source": [
    "#### 3.2.2 Visualize the relationship (scatterplot)"
   ]
  },
  {
   "cell_type": "code",
   "execution_count": 19,
   "metadata": {
    "scrolled": false
   },
   "outputs": [
    {
     "data": {
      "image/png": "[encoded data removed]",
      "text/plain": [
       "<Figure size 720x432 with 1 Axes>"
      ]
     },
     "metadata": {
      "needs_background": "light"
     },
     "output_type": "display_data"
    }
   ],
   "source": [
    "reg_scatter(df, x, y, xlabel, ylabel, color)"
   ]
  },
  {
   "cell_type": "markdown",
   "metadata": {},
   "source": [
    "#### 3.2.3 Pairwise correlation"
   ]
  },
  {
   "cell_type": "code",
   "execution_count": 20,
   "metadata": {},
   "outputs": [
    {
     "data": {
      "text/plain": [
       "(0.35784517717635483, 2.002158271320834e-120)"
      ]
     },
     "execution_count": 20,
     "metadata": {},
     "output_type": "execute_result"
    }
   ],
   "source": [
    "pearsonr(x, y)"
   ]
  },
  {
   "cell_type": "markdown",
   "metadata": {},
   "source": [
    "#### 3.2.4 Bivariate linear regression"
   ]
  },
  {
   "cell_type": "code",
   "execution_count": 21,
   "metadata": {},
   "outputs": [
    {
     "data": {
      "text/html": [
       "<table class=\"simpletable\">\n",
       "<tr>\n",
       "        <td>Model:</td>               <td>OLS</td>         <td>Adj. R-squared:</td>      <td>0.128</td>   \n",
       "</tr>\n",
       "<tr>\n",
       "  <td>Dependent Variable:</td>     <td>price_000</td>           <td>AIC:</td>         <td>100059.2456</td>\n",
       "</tr>\n",
       "<tr>\n",
       "         <td>Date:</td>        <td>2021-02-10 14:04</td>        <td>BIC:</td>         <td>100071.8217</td>\n",
       "</tr>\n",
       "<tr>\n",
       "   <td>No. Observations:</td>        <td>3976</td>         <td>Log-Likelihood:</td>     <td>-50028.</td>  \n",
       "</tr>\n",
       "<tr>\n",
       "       <td>Df Model:</td>              <td>1</td>           <td>F-statistic:</td>        <td>583.6</td>   \n",
       "</tr>\n",
       "<tr>\n",
       "     <td>Df Residuals:</td>          <td>3974</td>       <td>Prob (F-statistic):</td>  <td>2.00e-120</td> \n",
       "</tr>\n",
       "<tr>\n",
       "      <td>R-squared:</td>            <td>0.128</td>            <td>Scale:</td>        <td>4.9737e+09</td> \n",
       "</tr>\n",
       "</table>\n",
       "<table class=\"simpletable\">\n",
       "<tr>\n",
       "      <td></td>         <th>Coef.</th>   <th>Std.Err.</th>     <th>t</th>     <th>P>|t|</th>   <th>[0.025</th>     <th>0.975]</th>   \n",
       "</tr>\n",
       "<tr>\n",
       "  <th>ses_dv</th>    <td>99607.2368</td> <td>4123.1278</td> <td>24.1582</td> <td>0.0000</td> <td>91523.5928</td> <td>107690.8808</td>\n",
       "</tr>\n",
       "<tr>\n",
       "  <th>Intercept</th> <td>85544.4707</td> <td>1166.0500</td> <td>73.3626</td> <td>0.0000</td> <td>83258.3585</td> <td>87830.5830</td> \n",
       "</tr>\n",
       "</table>\n",
       "<table class=\"simpletable\">\n",
       "<tr>\n",
       "     <td>Omnibus:</td>    <td>2795.814</td>  <td>Durbin-Watson:</td>     <td>0.532</td>  \n",
       "</tr>\n",
       "<tr>\n",
       "  <td>Prob(Omnibus):</td>   <td>0.000</td>  <td>Jarque-Bera (JB):</td> <td>53224.549</td>\n",
       "</tr>\n",
       "<tr>\n",
       "       <td>Skew:</td>       <td>3.146</td>      <td>Prob(JB):</td>       <td>0.000</td>  \n",
       "</tr>\n",
       "<tr>\n",
       "     <td>Kurtosis:</td>    <td>19.784</td>   <td>Condition No.:</td>       <td>4</td>    \n",
       "</tr>\n",
       "</table>"
      ],
      "text/plain": [
       "<class 'statsmodels.iolib.summary2.Summary'>\n",
       "\"\"\"\n",
       "                  Results: Ordinary least squares\n",
       "====================================================================\n",
       "Model:              OLS              Adj. R-squared:     0.128      \n",
       "Dependent Variable: price_000        AIC:                100059.2456\n",
       "Date:               2021-02-10 14:04 BIC:                100071.8217\n",
       "No. Observations:   3976             Log-Likelihood:     -50028.    \n",
       "Df Model:           1                F-statistic:        583.6      \n",
       "Df Residuals:       3974             Prob (F-statistic): 2.00e-120  \n",
       "R-squared:          0.128            Scale:              4.9737e+09 \n",
       "--------------------------------------------------------------------\n",
       "            Coef.     Std.Err.    t    P>|t|    [0.025      0.975]  \n",
       "--------------------------------------------------------------------\n",
       "ses_dv    99607.2368 4123.1278 24.1582 0.0000 91523.5928 107690.8808\n",
       "Intercept 85544.4707 1166.0500 73.3626 0.0000 83258.3585  87830.5830\n",
       "--------------------------------------------------------------------\n",
       "Omnibus:              2795.814      Durbin-Watson:         0.532    \n",
       "Prob(Omnibus):        0.000         Jarque-Bera (JB):      53224.549\n",
       "Skew:                 3.146         Prob(JB):              0.000    \n",
       "Kurtosis:             19.784        Condition No.:         4        \n",
       "====================================================================\n",
       "\n",
       "\"\"\""
      ]
     },
     "execution_count": 21,
     "metadata": {},
     "output_type": "execute_result"
    }
   ],
   "source": [
    "x = df[['ses_dv']].assign(Intercept = 1) # reassign independent variable w/ intercept\n",
    "\n",
    "sm.OLS(y, x).fit().summary2()"
   ]
  },
  {
   "cell_type": "markdown",
   "metadata": {},
   "source": [
    "When interpreting our regression output, we are most interested in the value of **b**, from our regression equation, which is the coefficient of each explanatory variable, shown as 'Coef.' above. The value of b tells us how much Y changes when X changes. Remember: It doesn’t necessarily imply a causal relationship, just an association.\n",
    "\n",
    "> In this case, because X is a dummy variable, it changes from 0 (lower SES) to 1 (high SES). Take a moment to interpret these findings - how does high socioeconomic status impact the price of a property?"
   ]
  },
  {
   "cell_type": "markdown",
   "metadata": {},
   "source": [
    "## 4 Multivariable linear regression\n",
    "\n",
    "After creating a “simple” model (i.e. one explanatory variable), we can start to build a more sophisticated model by including additional explanatory variables or “controls”. Let’s take our ses_dv variable from our simple linear regression: what else do we think might influence a property's listing price, in addition to whether it's in a high socioeconomic status neighborhood?  \n",
    "\n",
    "\n",
    "From our extensive literature review, we know that there might be property-specific and neighborhood-level factors which influence a property's price. We hypothesize that a property's type, size, and number of bathrooms, in addition to the neighborhood's green space and theft rate, might be helpful predictors of a property's price."
   ]
  },
  {
   "cell_type": "code",
   "execution_count": 22,
   "metadata": {},
   "outputs": [
    {
     "data": {
      "text/html": [
       "<table class=\"simpletable\">\n",
       "<tr>\n",
       "        <td>Model:</td>               <td>OLS</td>         <td>Adj. R-squared:</td>      <td>0.516</td>  \n",
       "</tr>\n",
       "<tr>\n",
       "  <td>Dependent Variable:</td>     <td>price_000</td>           <td>AIC:</td>         <td>97723.9942</td>\n",
       "</tr>\n",
       "<tr>\n",
       "         <td>Date:</td>        <td>2021-02-10 14:04</td>        <td>BIC:</td>         <td>97768.0104</td>\n",
       "</tr>\n",
       "<tr>\n",
       "   <td>No. Observations:</td>        <td>3976</td>         <td>Log-Likelihood:</td>     <td>-48855.</td> \n",
       "</tr>\n",
       "<tr>\n",
       "       <td>Df Model:</td>              <td>6</td>           <td>F-statistic:</td>        <td>706.9</td>  \n",
       "</tr>\n",
       "<tr>\n",
       "     <td>Df Residuals:</td>          <td>3969</td>       <td>Prob (F-statistic):</td>    <td>0.00</td>   \n",
       "</tr>\n",
       "<tr>\n",
       "      <td>R-squared:</td>            <td>0.517</td>            <td>Scale:</td>        <td>2.7609e+09</td>\n",
       "</tr>\n",
       "</table>\n",
       "<table class=\"simpletable\">\n",
       "<tr>\n",
       "      <td></td>         <th>Coef.</th>    <th>Std.Err.</th>      <th>t</th>     <th>P>|t|</th>   <th>[0.025</th>      <th>0.975]</th>   \n",
       "</tr>\n",
       "<tr>\n",
       "  <th>ses_dv</th>    <td>71903.0480</td>  <td>3184.0260</td>  <td>22.5824</td> <td>0.0000</td> <td>65660.5680</td>  <td>78145.5280</td> \n",
       "</tr>\n",
       "<tr>\n",
       "  <th>house</th>     <td>-28286.1727</td> <td>2442.5647</td> <td>-11.5805</td> <td>0.0000</td> <td>-33074.9718</td> <td>-23497.3736</td>\n",
       "</tr>\n",
       "<tr>\n",
       "  <th>area_m2</th>    <td>566.6890</td>    <td>14.4087</td>   <td>39.3297</td> <td>0.0000</td>  <td>538.4399</td>    <td>594.9381</td>  \n",
       "</tr>\n",
       "<tr>\n",
       "  <th>num_bath</th>  <td>10104.0034</td>  <td>957.5726</td>   <td>10.5517</td> <td>0.0000</td>  <td>8226.6231</td>  <td>11981.3837</td> \n",
       "</tr>\n",
       "<tr>\n",
       "  <th>pcn_green</th>  <td>257.1769</td>   <td>116.1036</td>   <td>2.2151</td>  <td>0.0268</td>   <td>29.5487</td>    <td>484.8052</td>  \n",
       "</tr>\n",
       "<tr>\n",
       "  <th>thefts</th>     <td>-25.0611</td>    <td>16.1898</td>   <td>-1.5480</td> <td>0.1217</td>  <td>-56.8022</td>     <td>6.6800</td>   \n",
       "</tr>\n",
       "<tr>\n",
       "  <th>Intercept</th>  <td>7001.9129</td>  <td>2489.8493</td>  <td>2.8122</td>  <td>0.0049</td>  <td>2120.4093</td>  <td>11883.4165</td> \n",
       "</tr>\n",
       "</table>\n",
       "<table class=\"simpletable\">\n",
       "<tr>\n",
       "     <td>Omnibus:</td>    <td>3108.465</td>  <td>Durbin-Watson:</td>      <td>0.905</td>  \n",
       "</tr>\n",
       "<tr>\n",
       "  <td>Prob(Omnibus):</td>   <td>0.000</td>  <td>Jarque-Bera (JB):</td> <td>120952.385</td>\n",
       "</tr>\n",
       "<tr>\n",
       "       <td>Skew:</td>       <td>3.387</td>      <td>Prob(JB):</td>        <td>0.000</td>  \n",
       "</tr>\n",
       "<tr>\n",
       "     <td>Kurtosis:</td>    <td>29.157</td>   <td>Condition No.:</td>       <td>659</td>   \n",
       "</tr>\n",
       "</table>"
      ],
      "text/plain": [
       "<class 'statsmodels.iolib.summary2.Summary'>\n",
       "\"\"\"\n",
       "                    Results: Ordinary least squares\n",
       "=======================================================================\n",
       "Model:                OLS               Adj. R-squared:      0.516     \n",
       "Dependent Variable:   price_000         AIC:                 97723.9942\n",
       "Date:                 2021-02-10 14:04  BIC:                 97768.0104\n",
       "No. Observations:     3976              Log-Likelihood:      -48855.   \n",
       "Df Model:             6                 F-statistic:         706.9     \n",
       "Df Residuals:         3969              Prob (F-statistic):  0.00      \n",
       "R-squared:            0.517             Scale:               2.7609e+09\n",
       "-----------------------------------------------------------------------\n",
       "             Coef.     Std.Err.    t     P>|t|     [0.025      0.975]  \n",
       "-----------------------------------------------------------------------\n",
       "ses_dv     71903.0480 3184.0260  22.5824 0.0000  65660.5680  78145.5280\n",
       "house     -28286.1727 2442.5647 -11.5805 0.0000 -33074.9718 -23497.3736\n",
       "area_m2      566.6890   14.4087  39.3297 0.0000    538.4399    594.9381\n",
       "num_bath   10104.0034  957.5726  10.5517 0.0000   8226.6231  11981.3837\n",
       "pcn_green    257.1769  116.1036   2.2151 0.0268     29.5487    484.8052\n",
       "thefts       -25.0611   16.1898  -1.5480 0.1217    -56.8022      6.6800\n",
       "Intercept   7001.9129 2489.8493   2.8122 0.0049   2120.4093  11883.4165\n",
       "-----------------------------------------------------------------------\n",
       "Omnibus:              3108.465       Durbin-Watson:          0.905     \n",
       "Prob(Omnibus):        0.000          Jarque-Bera (JB):       120952.385\n",
       "Skew:                 3.387          Prob(JB):               0.000     \n",
       "Kurtosis:             29.157         Condition No.:          659       \n",
       "=======================================================================\n",
       "\n",
       "\"\"\""
      ]
     },
     "execution_count": 22,
     "metadata": {},
     "output_type": "execute_result"
    }
   ],
   "source": [
    "# define independent variables\n",
    "ind_var = ['ses_dv', 'house', 'area_m2', 'num_bath', 'pcn_green', 'thefts'] \n",
    "# generally, first variable is your 'key explanatory variable', followed by your control variables\n",
    "\n",
    "x = df[ind_var].assign(Intercept = 1) # independent variables\n",
    "y = df['price_000'] # dependent variable\n",
    "\n",
    "sm.OLS(y, x).fit().summary2()"
   ]
  },
  {
   "cell_type": "markdown",
   "metadata": {},
   "source": [
    "> • How would you interpret the coefficient for each variable?  \n",
    "> • Which factors increase a property's asking price?    \n",
    "> • Which decrease the asking price?  "
   ]
  }
 ],
 "metadata": {
  "kernelspec": {
   "display_name": "Python 3",
   "language": "python",
   "name": "python3"
  },
  "language_info": {
   "codemirror_mode": {
    "name": "ipython",
    "version": 3
   },
   "file_extension": ".py",
   "mimetype": "text/x-python",
   "name": "python",
   "nbconvert_exporter": "python",
   "pygments_lexer": "ipython3",
   "version": "3.7.4"
  }
 },
 "nbformat": 4,
 "nbformat_minor": 4
}
