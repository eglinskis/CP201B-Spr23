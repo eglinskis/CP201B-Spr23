{
 "cells": [
  {
   "cell_type": "markdown",
   "metadata": {},
   "source": [
    "# Planning Methods: Part II, Spring 2023\n",
    "\n",
    "# Lab 1: Stats and Python Refresher\n",
    "\n",
    "**About This Lab**\n",
    "* We will be running through this notebook together. If you have a clarifying question or other question of broad interest, feel free to interrupt and ask it! \n",
    "* We recognize that there are many modes of learning. Please go with what works best for you. That might be printing out the Jupyter notebook, duplicating it such that you can refer to the original, working directly in it. Up to you! There isn't a single right way.\n",
    "* This lab requires that you download the following file and place it in the same directory as this Jupyter notebook:\n",
    "    * `property_data.csv`"
   ]
  },
  {
   "cell_type": "markdown",
   "metadata": {},
   "source": [
    "## Objectives\n",
    "By the end of this lab, you will have reviewed how to:\n",
    "1. Read and write files\n",
    "2. Check for and drop nulls\n",
    "3. Create subdataframes\n",
    "5. Produce descriptive statistics\n",
    "6. Conduct statistical tests"
   ]
  },
  {
   "cell_type": "markdown",
   "metadata": {},
   "source": [
    "## 1 Import packages"
   ]
  },
  {
   "cell_type": "code",
   "execution_count": null,
   "metadata": {},
   "outputs": [],
   "source": [
    "import pandas as pd\n",
    "import numpy as np\n",
    "\n",
    "pd.options.display.float_format = '{:.2f}'.format \n",
    "#pd.set_option('display.max_rows', None)\n",
    "#pd.set_option('display.max_columns', None)\n",
    "\n",
    "%matplotlib inline\n",
    "import matplotlib.pylab as pylab\n",
    "import matplotlib.pyplot as plt\n",
    "\n",
    "from scipy import stats\n",
    "from scipy.stats import t, chisquare, iqr\n",
    "from scipy.stats import ttest_ind\n",
    "\n",
    "import warnings \n",
    "warnings.filterwarnings('ignore')"
   ]
  },
  {
   "cell_type": "code",
   "execution_count": null,
   "metadata": {},
   "outputs": [],
   "source": [
    "pip install researchpy"
   ]
  },
  {
   "cell_type": "code",
   "execution_count": null,
   "metadata": {},
   "outputs": [],
   "source": [
    "import researchpy as rp"
   ]
  },
  {
   "cell_type": "markdown",
   "metadata": {},
   "source": [
    "## 2 Read data"
   ]
  },
  {
   "cell_type": "code",
   "execution_count": null,
   "metadata": {},
   "outputs": [],
   "source": [
    "raw = pd.read_csv('Data/property_data.csv')\n",
    "raw.head()"
   ]
  },
  {
   "cell_type": "code",
   "execution_count": null,
   "metadata": {},
   "outputs": [],
   "source": [
    "# check dimension\n",
    "raw.shape"
   ]
  },
  {
   "cell_type": "code",
   "execution_count": null,
   "metadata": {},
   "outputs": [],
   "source": [
    "# check length\n",
    "len(raw)"
   ]
  },
  {
   "cell_type": "code",
   "execution_count": null,
   "metadata": {},
   "outputs": [],
   "source": [
    "raw.dtypes"
   ]
  },
  {
   "cell_type": "markdown",
   "metadata": {},
   "source": [
    "### 2.1 Check and drop nulls"
   ]
  },
  {
   "cell_type": "code",
   "execution_count": null,
   "metadata": {},
   "outputs": [],
   "source": [
    "# check for null values\n",
    "raw.isnull().sum()"
   ]
  },
  {
   "cell_type": "code",
   "execution_count": null,
   "metadata": {},
   "outputs": [],
   "source": [
    "# drop NaN values\n",
    "df = raw.dropna().reset_index(drop = True) #If you set drop = True , the current index will be deleted entirely and the numeric index will replace it.\n",
    "df.head()"
   ]
  },
  {
   "cell_type": "markdown",
   "metadata": {},
   "source": [
    "### 2.2 Check for outliers\n",
    "Plus a sneak preview of plots!"
   ]
  },
  {
   "cell_type": "markdown",
   "metadata": {},
   "source": [
    "<img src = 'Data/boxplots.jpg' width = 500>\n",
    "Source: https://towardsdatascience.com/understanding-boxplots-5e2df7bcbd51"
   ]
  },
  {
   "cell_type": "code",
   "execution_count": null,
   "metadata": {},
   "outputs": [],
   "source": [
    "# visualize population density\n",
    "x = df['pop_dens']\n",
    "plt.boxplot(x)\n",
    "plt.show()\n",
    "plt.hist(x, 250)\n",
    "plt.show()"
   ]
  },
  {
   "cell_type": "code",
   "execution_count": null,
   "metadata": {},
   "outputs": [],
   "source": [
    "# visualize price\n",
    "x = df['price_000']\n",
    "plt.boxplot(x)\n",
    "plt.show()\n",
    "plt.hist(x, 250)\n",
    "plt.show()"
   ]
  },
  {
   "cell_type": "code",
   "execution_count": null,
   "metadata": {},
   "outputs": [],
   "source": [
    "var = df['price_000']\n",
    "q_75 = np.quantile(var, 0.75)\n",
    "q_75"
   ]
  },
  {
   "cell_type": "markdown",
   "metadata": {},
   "source": [
    "### Optional: how many observations would be dropped if we got rid of 'price_000' outliers?"
   ]
  },
  {
   "cell_type": "code",
   "execution_count": null,
   "metadata": {},
   "outputs": [],
   "source": [
    "# step 1: calculate interquartile range\n",
    "var = df['price_000']\n",
    "\n",
    "q_75 = np.quantile(var, 0.75)\n",
    "q_25 = np.quantile(var, 0.25)\n",
    "q_50 = np.quantile(var, 0.5) ### this is also the median\n",
    "\n",
    "iqr_calc = q_75 - q_25 ### this should give the same output as the function scipy.stats.iqr()\n",
    "print(iqr_calc)"
   ]
  },
  {
   "cell_type": "code",
   "execution_count": null,
   "metadata": {},
   "outputs": [],
   "source": [
    "# step 2: use the 1.5xIQR rule \n",
    "outliers = df[(var < (q_25 - 1.5 * iqr_calc))|(var > (q_75 + 1.5 * iqr_calc))]\n",
    "\n",
    "print(len(outliers), len(df))\n",
    "\n",
    "outliers"
   ]
  },
  {
   "cell_type": "markdown",
   "metadata": {},
   "source": [
    "### 2.3 Export data (for future labs)\n",
    "Name it whatever you'd like and remeber where you save it so you can access next week."
   ]
  },
  {
   "cell_type": "code",
   "execution_count": null,
   "metadata": {},
   "outputs": [],
   "source": [
    "df.to_csv('clean_property_data.csv')"
   ]
  },
  {
   "cell_type": "markdown",
   "metadata": {},
   "source": [
    "### 2.4 Create sub-dataframe"
   ]
  },
  {
   "cell_type": "code",
   "execution_count": null,
   "metadata": {},
   "outputs": [],
   "source": [
    "sub_df = df[['house','apt','price_000','age_0_10','age_20_more','pcn_green','num_room']].copy() # select column by names\n",
    "sub_df.head()"
   ]
  },
  {
   "cell_type": "code",
   "execution_count": null,
   "metadata": {},
   "outputs": [],
   "source": [
    "# rename variables of interest\n",
    "sub_df.rename(columns={\"price_000\":\"price\", \n",
    "                   \"age_0_10\":\"age_new\", \n",
    "                   \"age_20_more\":\"age_old\", \n",
    "                   \"num_room\":\"rooms\"}, inplace = True)"
   ]
  },
  {
   "cell_type": "code",
   "execution_count": null,
   "metadata": {},
   "outputs": [],
   "source": [
    "# slicing using loc and iloc"
   ]
  },
  {
   "cell_type": "markdown",
   "metadata": {},
   "source": [
    "## 3 Describe variables"
   ]
  },
  {
   "cell_type": "markdown",
   "metadata": {},
   "source": [
    "### 3.1 Continuous variable"
   ]
  },
  {
   "cell_type": "code",
   "execution_count": null,
   "metadata": {
    "scrolled": false
   },
   "outputs": [],
   "source": [
    "# descriptive stats for property price\n",
    "sub_df['price'].describe()"
   ]
  },
  {
   "cell_type": "markdown",
   "metadata": {},
   "source": [
    "If we're only interested in certain statistics, we can also call them up specifically."
   ]
  },
  {
   "cell_type": "code",
   "execution_count": null,
   "metadata": {},
   "outputs": [],
   "source": [
    "# print the mean, median and standard diviation of price\n",
    "print (\"The price mean is \" + str(sub_df['price'].mean()))\n",
    "print (\"The price median is \" + str(sub_df['price'].median()))\n",
    "print (\"The price stdev \" + str(sub_df['price'].std()))"
   ]
  },
  {
   "cell_type": "markdown",
   "metadata": {},
   "source": [
    "Next week we'll learn how to use a histogram to visualize the distribution of a continous variable.\n"
   ]
  },
  {
   "cell_type": "markdown",
   "metadata": {},
   "source": [
    "### 3.2 Discrete numeric variable (dummy variable)"
   ]
  },
  {
   "cell_type": "code",
   "execution_count": null,
   "metadata": {},
   "outputs": [],
   "source": [
    "# descriptive stats for house dv\n",
    "sub_df['house'].describe()"
   ]
  },
  {
   "cell_type": "code",
   "execution_count": null,
   "metadata": {},
   "outputs": [],
   "source": [
    "# we can also use the value_counts function (in general, it gives us a better sense of categorical variables)\n",
    "sub_df['house'].value_counts()"
   ]
  },
  {
   "cell_type": "code",
   "execution_count": null,
   "metadata": {},
   "outputs": [],
   "source": [
    "# and we can normalize value_counts to get percentages\n",
    "sub_df[\"house\"].value_counts(normalize = True)"
   ]
  },
  {
   "cell_type": "markdown",
   "metadata": {},
   "source": [
    "#### 3.2.1 Stats for all variables"
   ]
  },
  {
   "cell_type": "code",
   "execution_count": null,
   "metadata": {},
   "outputs": [],
   "source": [
    "# these functions have been helpful for individual variables, but say you want to see summary stats for ALL the \n",
    "# variables in your dataframe at once?\n",
    "sub_df.describe().T"
   ]
  },
  {
   "cell_type": "code",
   "execution_count": null,
   "metadata": {},
   "outputs": [],
   "source": [
    "# try deleting the .T to see what happens if you don't use it - either way is fine!"
   ]
  },
  {
   "cell_type": "markdown",
   "metadata": {},
   "source": [
    "## 4 Statistical tests"
   ]
  },
  {
   "cell_type": "code",
   "execution_count": null,
   "metadata": {},
   "outputs": [],
   "source": [
    "# define universal set of statistics to be called with \".agg\" command\n",
    "stats = ['count','min','max','mean', 'median', 'std']"
   ]
  },
  {
   "cell_type": "markdown",
   "metadata": {},
   "source": [
    "### 4.1 T-test (of means)"
   ]
  },
  {
   "cell_type": "markdown",
   "metadata": {},
   "source": [
    "#### 4.1.1 Do apartments have different prices from houses?"
   ]
  },
  {
   "cell_type": "code",
   "execution_count": null,
   "metadata": {},
   "outputs": [],
   "source": [
    "# descriptive price stats for apartment dv \n",
    "# groupby and aggregate functions are helpful for looking at crosstabulated summary statistics\n",
    "sub_df[\"price\"].groupby(sub_df[\"apt\"]).agg(stats)"
   ]
  },
  {
   "cell_type": "code",
   "execution_count": null,
   "metadata": {},
   "outputs": [],
   "source": [
    "# create apt and non-apt price variables\n",
    "apt_p = sub_df[sub_df.apt == 1].price #apartment price\n",
    "n_apt_p = sub_df[sub_df.apt == 0].price #non-apartment price"
   ]
  },
  {
   "cell_type": "code",
   "execution_count": null,
   "metadata": {},
   "outputs": [],
   "source": [
    "# run t-test using ttest_ind function from scipy.stats package\n",
    "ttest_ind(apt_p, n_apt_p, equal_var = False, nan_policy = \"omit\")"
   ]
  },
  {
   "cell_type": "markdown",
   "metadata": {},
   "source": [
    "Read documentation: https://docs.scipy.org/doc/scipy/reference/generated/scipy.stats.ttest_ind.html"
   ]
  },
  {
   "cell_type": "code",
   "execution_count": null,
   "metadata": {},
   "outputs": [],
   "source": [
    "# if you wanted to normalize the price of a property by the number of bedrooms, how would you change the code? \n",
    "\n",
    "# create per room price variable in dataframe\n",
    "sub_df['pp_rm'] = sub_df['price']/sub_df['rooms']\n",
    "\n",
    "# create variables for t-test\n",
    "apt_rm_p = sub_df[df.apt == 1].pp_rm #Apartment Price per Room\n",
    "n_apt_rm_p = sub_df[df.apt == 0].pp_rm #Non-Apartment Price per Room\n",
    "\n",
    "# run t-test\n",
    "ttest_ind(apt_rm_p, n_apt_rm_p, equal_var = False, nan_policy=\"omit\")"
   ]
  },
  {
   "cell_type": "markdown",
   "metadata": {},
   "source": [
    "#### 4.1.2 Is the price of newer apartments different from older apartments?"
   ]
  },
  {
   "cell_type": "code",
   "execution_count": null,
   "metadata": {},
   "outputs": [],
   "source": [
    "# what descriptive stats are relevant here? \n",
    "# create subdataframe, group price of apartments by new vs. old\n",
    "apt_p = (sub_df[sub_df.apt == 1].price) #price only of apartments\n",
    "\n",
    "apt_p.groupby(sub_df[\"age_new\"]).agg(stats)"
   ]
  },
  {
   "cell_type": "code",
   "execution_count": null,
   "metadata": {},
   "outputs": [],
   "source": [
    "# create old and new apartment price variables\n",
    "o_apt_p = sub_df[(sub_df.age_new == 0) & (sub_df.apt == 1)].price #price of old apartments\n",
    "y_apt_p = sub_df[(sub_df.age_new == 1) & (sub_df.apt == 1)].price #price of young apartments"
   ]
  },
  {
   "cell_type": "code",
   "execution_count": null,
   "metadata": {},
   "outputs": [],
   "source": [
    "# run t-test\n",
    "ttest_ind(o_apt_p, y_apt_p, equal_var = False, nan_policy=\"omit\")"
   ]
  },
  {
   "cell_type": "markdown",
   "metadata": {},
   "source": [
    "### 4.2 Chi-square test (of proportions)"
   ]
  },
  {
   "cell_type": "markdown",
   "metadata": {},
   "source": [
    "#### 4.2.1 Are houses more likely to be older (age_20_more) or younger?"
   ]
  },
  {
   "cell_type": "code",
   "execution_count": null,
   "metadata": {},
   "outputs": [],
   "source": [
    "# descriptive stats (crosstab)\n",
    "pd.crosstab(sub_df['house'], sub_df['age_old'], margins = True, margins_name = 'Total')"
   ]
  },
  {
   "cell_type": "markdown",
   "metadata": {},
   "source": [
    "Documentation: https://pandas.pydata.org/docs/reference/api/pandas.crosstab.html"
   ]
  },
  {
   "cell_type": "code",
   "execution_count": null,
   "metadata": {},
   "outputs": [],
   "source": [
    "# normalize by row ('index') - could also normalize by 'columns'\n",
    "pd.crosstab(sub_df['house'], sub_df['age_old'], normalize = 'index', margins = True, margins_name = 'Total')"
   ]
  },
  {
   "cell_type": "code",
   "execution_count": null,
   "metadata": {},
   "outputs": [],
   "source": [
    "# run chi-square test\n",
    "table, results = rp.crosstab(sub_df[\"house\"], sub_df[\"age_old\"], prop = \"row\", test = \"chi-square\")"
   ]
  },
  {
   "cell_type": "code",
   "execution_count": null,
   "metadata": {},
   "outputs": [],
   "source": [
    "# view table\n",
    "table"
   ]
  },
  {
   "cell_type": "code",
   "execution_count": null,
   "metadata": {},
   "outputs": [],
   "source": [
    "# view results\n",
    "results"
   ]
  }
 ],
 "metadata": {
  "kernelspec": {
   "display_name": "Python 3",
   "language": "python",
   "name": "python3"
  },
  "language_info": {
   "codemirror_mode": {
    "name": "ipython",
    "version": 3
   },
   "file_extension": ".py",
   "mimetype": "text/x-python",
   "name": "python",
   "nbconvert_exporter": "python",
   "pygments_lexer": "ipython3",
   "version": "3.8.5"
  }
 },
 "nbformat": 4,
 "nbformat_minor": 2
}
