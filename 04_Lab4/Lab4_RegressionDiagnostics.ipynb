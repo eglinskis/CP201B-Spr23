{
 "cells": [
  {
   "cell_type": "markdown",
   "metadata": {},
   "source": [
    "# Lab 4 - Regression Diagnostics"
   ]
  },
  {
   "cell_type": "markdown",
   "metadata": {},
   "source": [
    "In this lab, we'll be analyzing the following:\n",
    "1. Multicolinearity & Variance Inflation Factors (VIF)\n",
    "1. Heteroskedasticity & Breusch Pagan test"
   ]
  },
  {
   "cell_type": "code",
   "execution_count": null,
   "metadata": {},
   "outputs": [],
   "source": [
    "import numpy as np\n",
    "import pandas as pd\n",
    "\n",
    "import seaborn as sns\n",
    "import matplotlib.pyplot as plt\n",
    "\n",
    "import statsmodels.api as sm\n",
    "from statsmodels.stats.outliers_influence import variance_inflation_factor ### VIF package\n",
    "from stargazer.stargazer import Stargazer"
   ]
  },
  {
   "cell_type": "markdown",
   "metadata": {},
   "source": [
    "### Load & Clean the Data"
   ]
  },
  {
   "cell_type": "code",
   "execution_count": null,
   "metadata": {},
   "outputs": [],
   "source": [
    "raw = pd.read_csv ('data.csv')\n",
    "raw.head()"
   ]
  },
  {
   "cell_type": "markdown",
   "metadata": {},
   "source": [
    "Create a copy with only the variables of interest"
   ]
  },
  {
   "cell_type": "code",
   "execution_count": null,
   "metadata": {},
   "outputs": [],
   "source": [
    "var_list = ['price_000','pop_dens','ses','house','area_m2','num_bath','pcn_green','homicides', 'year']\n",
    "data = raw[var_list].copy()\n",
    "\n",
    "data.head()"
   ]
  },
  {
   "cell_type": "markdown",
   "metadata": {},
   "source": [
    "#### Recoding Variables"
   ]
  },
  {
   "cell_type": "markdown",
   "metadata": {},
   "source": [
    "Let's redefine the socieconomic status - this is the same process we did in lab 3!"
   ]
  },
  {
   "cell_type": "code",
   "execution_count": null,
   "metadata": {},
   "outputs": [],
   "source": [
    "#Create SES Dummy Variable\n",
    "data['high_ses'] = np.where(data['ses']>=5, 1, 0)"
   ]
  },
  {
   "cell_type": "markdown",
   "metadata": {},
   "source": [
    "Now, let's create dummy variables for the year the property was sold. There are 6 unique years, and we can create a new dummy column for each year. This could be a long process, but python can make this easier for us!"
   ]
  },
  {
   "cell_type": "code",
   "execution_count": null,
   "metadata": {
    "scrolled": true
   },
   "outputs": [],
   "source": [
    "#Pandas '.get_dummies()' Function\n",
    "dummies = pd.get_dummies(data['year'], prefix = 'yr') \n",
    "#If we don't specify drop_first=True, python will give us a dummy column for every year\n",
    "#Remember we'll always need to exclude one dummy in our regression model - it helps to think\n",
    "#through which value you want to be your base comparison!\n",
    "\n",
    "dummies.head()"
   ]
  },
  {
   "cell_type": "code",
   "execution_count": null,
   "metadata": {},
   "outputs": [],
   "source": [
    "#Append the dummies to our larger dataframe\n",
    "data = pd.concat([data, dummies], axis = 1)\n",
    "data.head()"
   ]
  },
  {
   "cell_type": "markdown",
   "metadata": {},
   "source": [
    "### Estimate a Multivariate Linear Regression Model\n",
    "\n",
    "We'll be running a similiar multivariate regression model to the one we used for Lab 3"
   ]
  },
  {
   "cell_type": "code",
   "execution_count": null,
   "metadata": {},
   "outputs": [],
   "source": [
    "#Define Independent Variables of Interest\n",
    "ind_var = ['high_ses', 'house', 'area_m2', 'num_bath', 'pcn_green', 'homicides','yr_2002','yr_2003','yr_2004','yr_2005','yr_2006'] \n",
    "#Note that the year variable is categorical. We need to exclude one to prevent collinearity issues with our model\n",
    "#We will exclude year 2001 - we choose to have the earlier year be our base year\n",
    "\n",
    "x = data[ind_var].assign(Intercept = 1) #Independent Variables\n",
    "y = data['price_000'] #Dependent Variable\n",
    "\n",
    "model = sm.OLS(y, x).fit()\n",
    "### Let's save the results as \"model\" - this will be useful for other functions below.\n",
    "\n",
    "model.summary2()"
   ]
  },
  {
   "cell_type": "code",
   "execution_count": null,
   "metadata": {},
   "outputs": [],
   "source": [
    "model"
   ]
  },
  {
   "cell_type": "code",
   "execution_count": null,
   "metadata": {},
   "outputs": [],
   "source": [
    "Stargazer([model])"
   ]
  },
  {
   "cell_type": "markdown",
   "metadata": {},
   "source": [
    "### 1. Examine Multicolinearity"
   ]
  },
  {
   "cell_type": "markdown",
   "metadata": {},
   "source": [
    "First, let's examine the correlation matrix. If we take price to be our dependent variable - which of these variables will have a multicollinearity effect in our regression? We are looking at all the independent variables we used in our regression, defined as `ind_var`"
   ]
  },
  {
   "cell_type": "code",
   "execution_count": null,
   "metadata": {},
   "outputs": [],
   "source": [
    "data[ind_var].corr() #Note that 'price_000' was excluded, as it's the dependent variable"
   ]
  },
  {
   "cell_type": "markdown",
   "metadata": {},
   "source": [
    "Now, let's use the Variance Inflation Factor (VIF)"
   ]
  },
  {
   "cell_type": "code",
   "execution_count": null,
   "metadata": {
    "scrolled": false
   },
   "outputs": [],
   "source": [
    "#Remembering what our x independent variables look like to python\n",
    "print(type(x))\n",
    "x.head() #It's a sub-dataframe!"
   ]
  },
  {
   "cell_type": "code",
   "execution_count": null,
   "metadata": {},
   "outputs": [],
   "source": [
    "# The VIF function does not understand what a dataframe is\n",
    "print(type(x.values))\n",
    "x.values"
   ]
  },
  {
   "cell_type": "code",
   "execution_count": null,
   "metadata": {
    "scrolled": true
   },
   "outputs": [],
   "source": [
    "vif = [variance_inflation_factor(x.values, i) for i in range(x.shape[1])] \n",
    "#Use the x independent variables that include an intercept!\n",
    "vif"
   ]
  },
  {
   "cell_type": "markdown",
   "metadata": {},
   "source": [
    "Let's add some labels to the data."
   ]
  },
  {
   "cell_type": "code",
   "execution_count": null,
   "metadata": {},
   "outputs": [],
   "source": [
    "pd.Series(vif, index=x.columns)"
   ]
  },
  {
   "cell_type": "markdown",
   "metadata": {},
   "source": [
    "The variance_inflation_factor function can be confusing, we know. We wish it were simpler, we really do. The good thing is, you'll have it coded forever! The bad thing is, well... See above. If any of this is still unclear, or your eyes are glazing over the above, please come to office hours. We'll do our best to walk you through it, as many times as you might need it."
   ]
  },
  {
   "cell_type": "markdown",
   "metadata": {},
   "source": [
    "### 2. Examine Homoscedasticity"
   ]
  },
  {
   "cell_type": "markdown",
   "metadata": {},
   "source": [
    "Before jumping right into this, let's looks at predicted values. To do this, we'll need the results of the regression model that we ran above."
   ]
  },
  {
   "cell_type": "markdown",
   "metadata": {},
   "source": [
    "Remember we saved the results of the linear regression under the \"model\" variable above:  \n",
    "> model = sm.OLS(y, x).fit()"
   ]
  },
  {
   "cell_type": "code",
   "execution_count": null,
   "metadata": {},
   "outputs": [],
   "source": [
    "model.params # This will give us a summary of the regression coefficients."
   ]
  },
  {
   "cell_type": "markdown",
   "metadata": {},
   "source": [
    "We can rewrite this into an equation form, as shown below:\n",
    "\n",
    "$y = 27215.4 * high\\_ses\\; \\;- 25760.7 * house\\; \\;+566.9 * area\\_m2\\; \\;+10559.7*num\\_bath\\; \\;+161.1*pcn\\_green\\;\\;-24.0*homicides$ <br> $-265.75*yr\\_2002\\;\\;+8079.5*yr\\_2003\\;\\;+8448.1*yr\\_2004\\;\\;18176.6*yr\\_2005\\;\\;+23245.9*yr\\_2006\\;\\;-4589.5$\n",
    "\n",
    "Now, let's try our first prediction! To do this, we are going to use the first line of observed data from the dataframe, as shown below:"
   ]
  },
  {
   "cell_type": "code",
   "execution_count": null,
   "metadata": {},
   "outputs": [],
   "source": [
    "x.head(1)"
   ]
  },
  {
   "cell_type": "markdown",
   "metadata": {},
   "source": [
    "$y = 27 215.4 * 0\\; \\;- 25760.7 * 0\\; \\;+566.9 * 70\\; \\;+10559.7*2\\; \\;+161.1*1.74\\;\\;-24.0*39.92$ <br> $-265.75*0\\;\\;+8079.5*0\\;\\;+8448.1*0\\;\\;18176.6*0\\;\\;+23245.9*0\\;\\;-4589.5$"
   ]
  },
  {
   "cell_type": "code",
   "execution_count": null,
   "metadata": {},
   "outputs": [],
   "source": [
    "model.predict(x.iloc[0].values)"
   ]
  },
  {
   "cell_type": "markdown",
   "metadata": {},
   "source": [
    "How does this compare to the observed price value for that observation?"
   ]
  },
  {
   "cell_type": "code",
   "execution_count": null,
   "metadata": {},
   "outputs": [],
   "source": [
    "data.head(1)"
   ]
  },
  {
   "cell_type": "markdown",
   "metadata": {},
   "source": [
    "What do you think the residual of this prediction is?"
   ]
  },
  {
   "cell_type": "code",
   "execution_count": null,
   "metadata": {},
   "outputs": [],
   "source": [
    "model.resid[0]"
   ]
  },
  {
   "cell_type": "markdown",
   "metadata": {},
   "source": [
    "Now, we can tell python to show us the predictions and residuals for every single observation in our dataset."
   ]
  },
  {
   "cell_type": "code",
   "execution_count": null,
   "metadata": {
    "scrolled": false
   },
   "outputs": [],
   "source": [
    "model.predict()"
   ]
  },
  {
   "cell_type": "code",
   "execution_count": null,
   "metadata": {},
   "outputs": [],
   "source": [
    "model.resid"
   ]
  },
  {
   "cell_type": "code",
   "execution_count": null,
   "metadata": {},
   "outputs": [],
   "source": [
    "def homoscedasticity_plots(observed, prediction, residuals):\n",
    "\n",
    "    fig, (ax1, ax2) = plt.subplots(1, 2, figsize=(16, 6))\n",
    "\n",
    "    ### Figure 1\n",
    "    x1 = prediction\n",
    "    y1 = residuals\n",
    "    ### Figure 2\n",
    "    x2 = observed\n",
    "    y2 = residuals\n",
    "\n",
    "    ### Creates title for overall figure\n",
    "    plt.suptitle('Residuals vs. observed and fitted data')\n",
    "\n",
    "    ### Creates first plot\n",
    "    ax1.scatter(x1, y1)\n",
    "    ax1.set_xlabel('Predicted Values')\n",
    "    ax1.set_ylabel('Residuals')\n",
    "    ### Formats axis number to include thousands separator\n",
    "    ax1.get_xaxis().set_major_formatter(plt.FuncFormatter(lambda x1, loc: \"{:,}\".format(int(x1))))\n",
    "    ax1.get_yaxis().set_major_formatter(plt.FuncFormatter(lambda y1, loc: \"{:,}\".format(int(y1))))\n",
    "\n",
    "    ### Creates second plot\n",
    "    ax2.scatter(x2, y2) ### We can change the color and marker type\n",
    "    ax2.set_xlabel('Observed Values')\n",
    "\n",
    "    ### Formats axis number to include thousands separator\n",
    "    ax2.get_xaxis().set_major_formatter(plt.FuncFormatter(lambda x1, loc: \"{:,}\".format(int(x1))))\n",
    "    ax2.get_yaxis().set_major_formatter(plt.FuncFormatter(lambda y1, loc: \"{:,}\".format(int(y1))))\n",
    "\n",
    "    plt.show()"
   ]
  },
  {
   "cell_type": "code",
   "execution_count": null,
   "metadata": {},
   "outputs": [],
   "source": [
    "observed = data['price_000'] \n",
    "### These are the observed values of prices\n",
    "\n",
    "prediction = model.predict()\n",
    "### These are the price predictions using the same x values as the data input\n",
    "\n",
    "residuals = model.resid \n",
    "### These are the residuals of the prediction model"
   ]
  },
  {
   "cell_type": "code",
   "execution_count": null,
   "metadata": {
    "scrolled": false
   },
   "outputs": [],
   "source": [
    "homoscedasticity_plots(prediction, residuals, observed)"
   ]
  }
 ],
 "metadata": {
  "kernelspec": {
   "display_name": "Python 3",
   "language": "python",
   "name": "python3"
  },
  "language_info": {
   "codemirror_mode": {
    "name": "ipython",
    "version": 3
   },
   "file_extension": ".py",
   "mimetype": "text/x-python",
   "name": "python",
   "nbconvert_exporter": "python",
   "pygments_lexer": "ipython3",
   "version": "3.8.5"
  }
 },
 "nbformat": 4,
 "nbformat_minor": 2
}
