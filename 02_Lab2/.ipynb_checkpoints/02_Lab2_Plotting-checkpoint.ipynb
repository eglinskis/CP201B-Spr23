{
 "cells": [
  {
   "cell_type": "markdown",
   "metadata": {},
   "source": [
    "### Import packages"
   ]
  },
  {
   "cell_type": "code",
   "execution_count": 1,
   "metadata": {},
   "outputs": [],
   "source": [
    "import pandas as pd ### for reading and modifying databases\n",
    "import matplotlib.pyplot as plt ### for plotting graphs\n",
    "import numpy as np ### for managing vectorized operations"
   ]
  },
  {
   "cell_type": "markdown",
   "metadata": {},
   "source": [
    "In this lab, we will review:\n",
    "\n",
    "1. Plotting\n",
    "2. Recoding\n",
    "3. Correlation"
   ]
  },
  {
   "cell_type": "markdown",
   "metadata": {},
   "source": [
    "### Reads files"
   ]
  },
  {
   "cell_type": "code",
   "execution_count": 5,
   "metadata": {},
   "outputs": [
    {
     "data": {
      "text/html": [
       "<div>\n",
       "<style scoped>\n",
       "    .dataframe tbody tr th:only-of-type {\n",
       "        vertical-align: middle;\n",
       "    }\n",
       "\n",
       "    .dataframe tbody tr th {\n",
       "        vertical-align: top;\n",
       "    }\n",
       "\n",
       "    .dataframe thead th {\n",
       "        text-align: right;\n",
       "    }\n",
       "</style>\n",
       "<table border=\"1\" class=\"dataframe\">\n",
       "  <thead>\n",
       "    <tr style=\"text-align: right;\">\n",
       "      <th></th>\n",
       "      <th>Unnamed: 0</th>\n",
       "      <th>id</th>\n",
       "      <th>price_000</th>\n",
       "      <th>yr_2001</th>\n",
       "      <th>yr_2002</th>\n",
       "      <th>yr_2003</th>\n",
       "      <th>yr_2004</th>\n",
       "      <th>yr_2005</th>\n",
       "      <th>yr_2006</th>\n",
       "      <th>apt</th>\n",
       "      <th>...</th>\n",
       "      <th>pcnt_indu</th>\n",
       "      <th>pcnt_com</th>\n",
       "      <th>pcnt_insti</th>\n",
       "      <th>pcnt_vacant</th>\n",
       "      <th>pcn_green</th>\n",
       "      <th>homicides</th>\n",
       "      <th>house</th>\n",
       "      <th>ses_bin</th>\n",
       "      <th>lnprice</th>\n",
       "      <th>price_hi</th>\n",
       "    </tr>\n",
       "  </thead>\n",
       "  <tbody>\n",
       "    <tr>\n",
       "      <th>0</th>\n",
       "      <td>0</td>\n",
       "      <td>40003</td>\n",
       "      <td>60000.0</td>\n",
       "      <td>1.0</td>\n",
       "      <td>0.0</td>\n",
       "      <td>0.0</td>\n",
       "      <td>0.0</td>\n",
       "      <td>0.0</td>\n",
       "      <td>0.0</td>\n",
       "      <td>1</td>\n",
       "      <td>...</td>\n",
       "      <td>0.0</td>\n",
       "      <td>0.00</td>\n",
       "      <td>0.49</td>\n",
       "      <td>0.0</td>\n",
       "      <td>1.74</td>\n",
       "      <td>39.92</td>\n",
       "      <td>0</td>\n",
       "      <td>0</td>\n",
       "      <td>11.00210</td>\n",
       "      <td>0</td>\n",
       "    </tr>\n",
       "    <tr>\n",
       "      <th>1</th>\n",
       "      <td>1</td>\n",
       "      <td>40007</td>\n",
       "      <td>140000.0</td>\n",
       "      <td>0.0</td>\n",
       "      <td>1.0</td>\n",
       "      <td>0.0</td>\n",
       "      <td>0.0</td>\n",
       "      <td>0.0</td>\n",
       "      <td>0.0</td>\n",
       "      <td>0</td>\n",
       "      <td>...</td>\n",
       "      <td>0.0</td>\n",
       "      <td>15.41</td>\n",
       "      <td>1.32</td>\n",
       "      <td>0.0</td>\n",
       "      <td>0.54</td>\n",
       "      <td>46.00</td>\n",
       "      <td>1</td>\n",
       "      <td>0</td>\n",
       "      <td>11.84940</td>\n",
       "      <td>1</td>\n",
       "    </tr>\n",
       "    <tr>\n",
       "      <th>2</th>\n",
       "      <td>2</td>\n",
       "      <td>40008</td>\n",
       "      <td>38000.0</td>\n",
       "      <td>0.0</td>\n",
       "      <td>1.0</td>\n",
       "      <td>0.0</td>\n",
       "      <td>0.0</td>\n",
       "      <td>0.0</td>\n",
       "      <td>0.0</td>\n",
       "      <td>1</td>\n",
       "      <td>...</td>\n",
       "      <td>0.0</td>\n",
       "      <td>8.16</td>\n",
       "      <td>5.57</td>\n",
       "      <td>0.0</td>\n",
       "      <td>1.55</td>\n",
       "      <td>45.87</td>\n",
       "      <td>0</td>\n",
       "      <td>0</td>\n",
       "      <td>10.54534</td>\n",
       "      <td>0</td>\n",
       "    </tr>\n",
       "    <tr>\n",
       "      <th>3</th>\n",
       "      <td>3</td>\n",
       "      <td>40010</td>\n",
       "      <td>110000.0</td>\n",
       "      <td>0.0</td>\n",
       "      <td>1.0</td>\n",
       "      <td>0.0</td>\n",
       "      <td>0.0</td>\n",
       "      <td>0.0</td>\n",
       "      <td>0.0</td>\n",
       "      <td>0</td>\n",
       "      <td>...</td>\n",
       "      <td>0.0</td>\n",
       "      <td>8.11</td>\n",
       "      <td>5.53</td>\n",
       "      <td>0.0</td>\n",
       "      <td>1.58</td>\n",
       "      <td>45.88</td>\n",
       "      <td>1</td>\n",
       "      <td>0</td>\n",
       "      <td>11.60824</td>\n",
       "      <td>1</td>\n",
       "    </tr>\n",
       "    <tr>\n",
       "      <th>4</th>\n",
       "      <td>4</td>\n",
       "      <td>40011</td>\n",
       "      <td>120000.0</td>\n",
       "      <td>0.0</td>\n",
       "      <td>1.0</td>\n",
       "      <td>0.0</td>\n",
       "      <td>0.0</td>\n",
       "      <td>0.0</td>\n",
       "      <td>0.0</td>\n",
       "      <td>0</td>\n",
       "      <td>...</td>\n",
       "      <td>0.0</td>\n",
       "      <td>0.00</td>\n",
       "      <td>0.00</td>\n",
       "      <td>0.0</td>\n",
       "      <td>0.40</td>\n",
       "      <td>46.00</td>\n",
       "      <td>1</td>\n",
       "      <td>0</td>\n",
       "      <td>11.69525</td>\n",
       "      <td>1</td>\n",
       "    </tr>\n",
       "  </tbody>\n",
       "</table>\n",
       "<p>5 rows × 30 columns</p>\n",
       "</div>"
      ],
      "text/plain": [
       "   Unnamed: 0     id  price_000  yr_2001  yr_2002  yr_2003  yr_2004  yr_2005  \\\n",
       "0           0  40003    60000.0      1.0      0.0      0.0      0.0      0.0   \n",
       "1           1  40007   140000.0      0.0      1.0      0.0      0.0      0.0   \n",
       "2           2  40008    38000.0      0.0      1.0      0.0      0.0      0.0   \n",
       "3           3  40010   110000.0      0.0      1.0      0.0      0.0      0.0   \n",
       "4           4  40011   120000.0      0.0      1.0      0.0      0.0      0.0   \n",
       "\n",
       "   yr_2006  apt  ...  pcnt_indu  pcnt_com  pcnt_insti  pcnt_vacant  pcn_green  \\\n",
       "0      0.0    1  ...        0.0      0.00        0.49          0.0       1.74   \n",
       "1      0.0    0  ...        0.0     15.41        1.32          0.0       0.54   \n",
       "2      0.0    1  ...        0.0      8.16        5.57          0.0       1.55   \n",
       "3      0.0    0  ...        0.0      8.11        5.53          0.0       1.58   \n",
       "4      0.0    0  ...        0.0      0.00        0.00          0.0       0.40   \n",
       "\n",
       "   homicides  house  ses_bin   lnprice  price_hi  \n",
       "0      39.92      0        0  11.00210         0  \n",
       "1      46.00      1        0  11.84940         1  \n",
       "2      45.87      0        0  10.54534         0  \n",
       "3      45.88      1        0  11.60824         1  \n",
       "4      46.00      1        0  11.69525         1  \n",
       "\n",
       "[5 rows x 30 columns]"
      ]
     },
     "execution_count": 5,
     "metadata": {},
     "output_type": "execute_result"
    }
   ],
   "source": [
    "df = pd.read_csv('clean_property_data.csv') ### Reads the data file\n",
    "df.head() ### Preview of datafile"
   ]
  },
  {
   "cell_type": "code",
   "execution_count": 7,
   "metadata": {},
   "outputs": [
    {
     "data": {
      "text/plain": [
       "3976"
      ]
     },
     "execution_count": 7,
     "metadata": {},
     "output_type": "execute_result"
    }
   ],
   "source": [
    "len(df)"
   ]
  },
  {
   "cell_type": "code",
   "execution_count": 8,
   "metadata": {},
   "outputs": [
    {
     "data": {
      "text/plain": [
       "3693"
      ]
     },
     "execution_count": 8,
     "metadata": {},
     "output_type": "execute_result"
    }
   ],
   "source": [
    "var = df['price_000']\n",
    "\n",
    "# if we want to drop the outliers\n",
    "df_new = df[(var > (q_25 - 1.5 * iqr_calc))&(var < (q_75 + 1.5 * iqr_calc))]\n",
    "\n",
    "len(df_new)"
   ]
  },
  {
   "cell_type": "markdown",
   "metadata": {},
   "source": [
    "## Recoding"
   ]
  },
  {
   "cell_type": "markdown",
   "metadata": {},
   "source": [
    "##### Creating dummy SES variable"
   ]
  },
  {
   "cell_type": "code",
   "execution_count": 14,
   "metadata": {},
   "outputs": [
    {
     "data": {
      "text/plain": [
       "ses\n",
       "1.0      26\n",
       "2.0      79\n",
       "3.0    2105\n",
       "4.0    1448\n",
       "5.0     227\n",
       "6.0      91\n",
       "dtype: int64"
      ]
     },
     "execution_count": 14,
     "metadata": {},
     "output_type": "execute_result"
    }
   ],
   "source": [
    "### Counts\n",
    "df.groupby('ses').size()"
   ]
  },
  {
   "cell_type": "code",
   "execution_count": 15,
   "metadata": {},
   "outputs": [],
   "source": [
    "### Creating the dummy\n",
    "df['ses_dummy'] = np.where((df['ses'] == 5)|(df['ses'] == 6), 1, 0)"
   ]
  },
  {
   "cell_type": "code",
   "execution_count": 16,
   "metadata": {},
   "outputs": [
    {
     "data": {
      "text/plain": [
       "ses_dummy\n",
       "0    3658\n",
       "1     318\n",
       "dtype: int64"
      ]
     },
     "execution_count": 16,
     "metadata": {},
     "output_type": "execute_result"
    }
   ],
   "source": [
    "### Data check!\n",
    "df.groupby('ses_dummy').size()"
   ]
  },
  {
   "cell_type": "markdown",
   "metadata": {},
   "source": [
    "##### Create binary density variable"
   ]
  },
  {
   "cell_type": "code",
   "execution_count": 17,
   "metadata": {},
   "outputs": [
    {
     "data": {
      "text/plain": [
       "416.32000000000005"
      ]
     },
     "execution_count": 17,
     "metadata": {},
     "output_type": "execute_result"
    }
   ],
   "source": [
    "### Compute median\n",
    "pop_dens_med = np.median(df['pop_dens'])\n",
    "pop_dens_med"
   ]
  },
  {
   "cell_type": "code",
   "execution_count": 18,
   "metadata": {},
   "outputs": [],
   "source": [
    "### Creating the dummy\n",
    "df['pop_dens_dummy'] = np.where((df['pop_dens']>= pop_dens_med), 1, 0)"
   ]
  },
  {
   "cell_type": "code",
   "execution_count": 19,
   "metadata": {},
   "outputs": [
    {
     "data": {
      "text/plain": [
       "pop_dens_dummy\n",
       "0    1988\n",
       "1    1988\n",
       "dtype: int64"
      ]
     },
     "execution_count": 19,
     "metadata": {},
     "output_type": "execute_result"
    }
   ],
   "source": [
    "### Data check!\n",
    "df.groupby('pop_dens_dummy').size()"
   ]
  },
  {
   "cell_type": "markdown",
   "metadata": {},
   "source": [
    "##### Recode the number of bathrooms variable"
   ]
  },
  {
   "cell_type": "code",
   "execution_count": 20,
   "metadata": {},
   "outputs": [
    {
     "data": {
      "text/plain": [
       "num_bath\n",
       "1.0    1021\n",
       "2.0    1776\n",
       "3.0     623\n",
       "4.0     444\n",
       "5.0     112\n",
       "dtype: int64"
      ]
     },
     "execution_count": 20,
     "metadata": {},
     "output_type": "execute_result"
    }
   ],
   "source": [
    "### Counts\n",
    "df.groupby('num_bath').size()"
   ]
  },
  {
   "cell_type": "code",
   "execution_count": 22,
   "metadata": {},
   "outputs": [],
   "source": [
    "### Creating the dummy\n",
    "df['num_bath_cat'] = np.where((df['num_bath']>= 3), 3, df['num_bath'])"
   ]
  },
  {
   "cell_type": "markdown",
   "metadata": {},
   "source": [
    "##### Standardizing the Area variable"
   ]
  },
  {
   "cell_type": "markdown",
   "metadata": {},
   "source": [
    "<img src = 'standarization.jpg' width = 500>\n",
    "source: https://365datascience.com/standardization/"
   ]
  },
  {
   "cell_type": "code",
   "execution_count": 23,
   "metadata": {},
   "outputs": [
    {
     "data": {
      "text/plain": [
       "count    3976.000000\n",
       "mean      121.662726\n",
       "std        86.126627\n",
       "min        22.000000\n",
       "25%        62.000000\n",
       "50%        86.000000\n",
       "75%       151.000000\n",
       "max       450.000000\n",
       "Name: area_m2, dtype: float64"
      ]
     },
     "execution_count": 23,
     "metadata": {},
     "output_type": "execute_result"
    }
   ],
   "source": [
    "### Describe the data\n",
    "df['area_m2'].describe()"
   ]
  },
  {
   "cell_type": "code",
   "execution_count": 24,
   "metadata": {},
   "outputs": [
    {
     "name": "stdout",
     "output_type": "stream",
     "text": [
      "area mean: 121.66\n",
      "area SD: 86.12\n"
     ]
    }
   ],
   "source": [
    "x = df['area_m2']\n",
    "\n",
    "area_mean = np.mean(x)\n",
    "area_SD = np.std(x) \n",
    "\n",
    "print('area mean:', round(area_mean, 2))\n",
    "print('area SD:', round(area_SD, 2))"
   ]
  },
  {
   "cell_type": "code",
   "execution_count": 25,
   "metadata": {},
   "outputs": [],
   "source": [
    "df['area_stand'] = (df['area_m2']- area_mean)/area_SD"
   ]
  },
  {
   "cell_type": "code",
   "execution_count": 26,
   "metadata": {},
   "outputs": [
    {
     "name": "stdout",
     "output_type": "stream",
     "text": [
      "area mean: 0.0\n",
      "area SD: 1.0\n"
     ]
    }
   ],
   "source": [
    "x = df['area_stand']\n",
    "\n",
    "area_std_mean = np.mean(x)\n",
    "area_std_SD = np.std(x) \n",
    "\n",
    "print('area mean:', round(area_std_mean, 2))\n",
    "print('area SD:', round(area_std_SD, 2))"
   ]
  },
  {
   "cell_type": "markdown",
   "metadata": {},
   "source": [
    "##### Compare area histograms"
   ]
  },
  {
   "cell_type": "code",
   "execution_count": 27,
   "metadata": {},
   "outputs": [
    {
     "data": {
      "image/png": "[encoded data removed]",
      "text/plain": [
       "<Figure size 432x288 with 1 Axes>"
      ]
     },
     "metadata": {
      "needs_background": "light"
     },
     "output_type": "display_data"
    },
    {
     "data": {
      "image/png": "[encoded data removed]",
      "text/plain": [
       "<Figure size 432x288 with 1 Axes>"
      ]
     },
     "metadata": {
      "needs_background": "light"
     },
     "output_type": "display_data"
    }
   ],
   "source": [
    "### Area vs standardized area\n",
    "plt.hist(df['area_m2'], 250)\n",
    "plt.show()\n",
    "\n",
    "plt.hist(df['area_stand'], 250)\n",
    "plt.show()"
   ]
  },
  {
   "cell_type": "markdown",
   "metadata": {},
   "source": [
    "##### Compare density histograms"
   ]
  },
  {
   "cell_type": "code",
   "execution_count": 28,
   "metadata": {},
   "outputs": [
    {
     "data": {
      "image/png": "[encoded data removed]",
      "text/plain": [
       "<Figure size 432x288 with 1 Axes>"
      ]
     },
     "metadata": {
      "needs_background": "light"
     },
     "output_type": "display_data"
    },
    {
     "data": {
      "image/png": "[encoded data removed]",
      "text/plain": [
       "<Figure size 432x288 with 1 Axes>"
      ]
     },
     "metadata": {
      "needs_background": "light"
     },
     "output_type": "display_data"
    }
   ],
   "source": [
    "### Population density vs Population density dummy\n",
    "plt.hist(df['pop_dens'], 250)\n",
    "plt.show()\n",
    "\n",
    "plt.hist(df['pop_dens_dummy'])\n",
    "plt.show()"
   ]
  },
  {
   "cell_type": "markdown",
   "metadata": {},
   "source": [
    "## Scatterplots"
   ]
  },
  {
   "cell_type": "markdown",
   "metadata": {},
   "source": [
    "##### Scatterplot price vs SES (6 categories)"
   ]
  },
  {
   "cell_type": "code",
   "execution_count": 29,
   "metadata": {},
   "outputs": [
    {
     "data": {
      "image/png": "[encoded data removed]",
      "text/plain": [
       "<Figure size 432x288 with 1 Axes>"
      ]
     },
     "metadata": {
      "needs_background": "light"
     },
     "output_type": "display_data"
    },
    {
     "data": {
      "image/png": "[encoded data removed]",
      "text/plain": [
       "<Figure size 432x288 with 1 Axes>"
      ]
     },
     "metadata": {
      "needs_background": "light"
     },
     "output_type": "display_data"
    }
   ],
   "source": [
    "### Price vs SES & price vs SES categories\n",
    "x = df['price_000']\n",
    "y1 =  df['ses']\n",
    "y2 = df['ses_dummy']\n",
    "plt.scatter(x, y1)\n",
    "plt.show()\n",
    "\n",
    "plt.scatter(x, y2)\n",
    "plt.show()"
   ]
  },
  {
   "cell_type": "markdown",
   "metadata": {},
   "source": [
    "##### How to plot side by side"
   ]
  },
  {
   "cell_type": "code",
   "execution_count": 30,
   "metadata": {},
   "outputs": [
    {
     "data": {
      "image/png": "[encoded data removed]",
      "text/plain": [
       "<Figure size 864x288 with 2 Axes>"
      ]
     },
     "metadata": {
      "needs_background": "light"
     },
     "output_type": "display_data"
    }
   ],
   "source": [
    "### Defines the number of figures that will make up the graph\n",
    "### plt.subplots (n_rows, n_columns, figsize = (width, height))\n",
    "### In this case, we are creating two figures side by side (1, 2)\n",
    "### If we wanted two figures one on top of the other, we would do (2, 1)\n",
    "\n",
    "### ax1 will define everything related to figure 1\n",
    "### ax2 will define everything related to figure 2\n",
    "fig, (ax1, ax2) = plt.subplots(1, 2, figsize=(12, 4))\n",
    "\n",
    "### Defines the varibles that will be used for each plot\n",
    "### Figure 1\n",
    "x1 = df.price_000\n",
    "y1 = df.ses\n",
    "### Figure 2\n",
    "x2 = df.price_000\n",
    "y2 = df.ses_dummy\n",
    "\n",
    "### Creates title for overall figure\n",
    "plt.suptitle('Comparison of categorical vs. dummy SES histograms')\n",
    "\n",
    "### Creates first plot\n",
    "ax1.scatter(x1, y1)\n",
    "ax1.set_xlabel('Asking price [COL$]')\n",
    "ax1.set_ylabel('Socioeconomic Status')\n",
    "### Formats y-axis number to zero decimal points\n",
    "ax1.get_yaxis().set_major_formatter(plt.FuncFormatter(lambda y1, loc: \"{:d}\".format(int(y1))))\n",
    "### Formats x-axis number to include thousands separator\n",
    "ax1.get_xaxis().set_major_formatter(plt.FuncFormatter(lambda x1, loc: \"{:,}\".format(int(x1))))\n",
    "ax1.tick_params(axis='x', labelrotation=35)### Let's rotate the labels!\n",
    "\n",
    "### Creates second plot\n",
    "ax2.scatter(x2, y2, c ='red', marker = '+') ### We can change the color and marker type\n",
    "ax2.set_xlabel('Asking price [COL$]')\n",
    "ax2.set_ylabel('Socioeconomic Status (Dummy)')\n",
    "\n",
    "### Formats x-axis number to include thousands separator\n",
    "ax2.get_xaxis().set_major_formatter(plt.FuncFormatter(lambda x2, loc: \"{:,}\".format(int(x2))))\n",
    "ax2.tick_params(axis='x', labelrotation=35) ### Let's rotate the labels!\n",
    "\n",
    "plt.show()"
   ]
  },
  {
   "cell_type": "markdown",
   "metadata": {},
   "source": [
    "### Two continuous variables"
   ]
  },
  {
   "cell_type": "markdown",
   "metadata": {},
   "source": [
    "https://github.com/meiqingli/DS-200/blob/main/hw/hw03.ipynb\n",
    "https://github.com/meiqingli/DS-200/blob/main/hw/hw04.ipynb"
   ]
  },
  {
   "cell_type": "markdown",
   "metadata": {},
   "source": [
    "### One continuous and one binary variable"
   ]
  },
  {
   "cell_type": "code",
   "execution_count": null,
   "metadata": {},
   "outputs": [],
   "source": []
  },
  {
   "cell_type": "markdown",
   "metadata": {},
   "source": [
    "## Pearson Correlation"
   ]
  },
  {
   "cell_type": "code",
   "execution_count": null,
   "metadata": {},
   "outputs": [],
   "source": []
  }
 ],
 "metadata": {
  "kernelspec": {
   "display_name": "Python 3",
   "language": "python",
   "name": "python3"
  },
  "language_info": {
   "codemirror_mode": {
    "name": "ipython",
    "version": 3
   },
   "file_extension": ".py",
   "mimetype": "text/x-python",
   "name": "python",
   "nbconvert_exporter": "python",
   "pygments_lexer": "ipython3",
   "version": "3.7.4"
  }
 },
 "nbformat": 4,
 "nbformat_minor": 2
}
