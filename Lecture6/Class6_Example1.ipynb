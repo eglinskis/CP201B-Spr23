{
 "cells": [
  {
   "cell_type": "markdown",
   "metadata": {},
   "source": [
    "#### Import libraries"
   ]
  },
  {
   "cell_type": "code",
   "execution_count": 1,
   "metadata": {},
   "outputs": [],
   "source": [
    "import pandas as pd ### Library for handling dataframes\n",
    "from scipy.stats import ttest_ind ### Library for performing unpaired t-test\n",
    "import statsmodels.api as sm ### Library for running linear regressions"
   ]
  },
  {
   "cell_type": "markdown",
   "metadata": {},
   "source": [
    "#### Read Data"
   ]
  },
  {
   "cell_type": "code",
   "execution_count": 2,
   "metadata": {},
   "outputs": [],
   "source": [
    "data = pd.read_csv('data.csv')"
   ]
  },
  {
   "cell_type": "code",
   "execution_count": 3,
   "metadata": {},
   "outputs": [
    {
     "data": {
      "text/html": [
       "<div>\n",
       "<style scoped>\n",
       "    .dataframe tbody tr th:only-of-type {\n",
       "        vertical-align: middle;\n",
       "    }\n",
       "\n",
       "    .dataframe tbody tr th {\n",
       "        vertical-align: top;\n",
       "    }\n",
       "\n",
       "    .dataframe thead th {\n",
       "        text-align: right;\n",
       "    }\n",
       "</style>\n",
       "<table border=\"1\" class=\"dataframe\">\n",
       "  <thead>\n",
       "    <tr style=\"text-align: right;\">\n",
       "      <th></th>\n",
       "      <th>price</th>\n",
       "      <th>dist</th>\n",
       "      <th>bathrooms</th>\n",
       "      <th>garages</th>\n",
       "      <th>area</th>\n",
       "      <th>SES</th>\n",
       "      <th>popdens</th>\n",
       "      <th>perc_com</th>\n",
       "    </tr>\n",
       "  </thead>\n",
       "  <tbody>\n",
       "    <tr>\n",
       "      <td>0</td>\n",
       "      <td>40000</td>\n",
       "      <td>0.69</td>\n",
       "      <td>1</td>\n",
       "      <td>1</td>\n",
       "      <td>58</td>\n",
       "      <td>3</td>\n",
       "      <td>462.56</td>\n",
       "      <td>0.0</td>\n",
       "    </tr>\n",
       "    <tr>\n",
       "      <td>1</td>\n",
       "      <td>40000</td>\n",
       "      <td>0.69</td>\n",
       "      <td>1</td>\n",
       "      <td>1</td>\n",
       "      <td>58</td>\n",
       "      <td>3</td>\n",
       "      <td>462.56</td>\n",
       "      <td>0.0</td>\n",
       "    </tr>\n",
       "    <tr>\n",
       "      <td>2</td>\n",
       "      <td>57900</td>\n",
       "      <td>0.68</td>\n",
       "      <td>2</td>\n",
       "      <td>1</td>\n",
       "      <td>73</td>\n",
       "      <td>3</td>\n",
       "      <td>461.99</td>\n",
       "      <td>0.0</td>\n",
       "    </tr>\n",
       "    <tr>\n",
       "      <td>3</td>\n",
       "      <td>65000</td>\n",
       "      <td>0.92</td>\n",
       "      <td>2</td>\n",
       "      <td>0</td>\n",
       "      <td>120</td>\n",
       "      <td>3</td>\n",
       "      <td>436.21</td>\n",
       "      <td>0.0</td>\n",
       "    </tr>\n",
       "    <tr>\n",
       "      <td>4</td>\n",
       "      <td>140000</td>\n",
       "      <td>0.69</td>\n",
       "      <td>3</td>\n",
       "      <td>1</td>\n",
       "      <td>375</td>\n",
       "      <td>3</td>\n",
       "      <td>462.56</td>\n",
       "      <td>0.0</td>\n",
       "    </tr>\n",
       "  </tbody>\n",
       "</table>\n",
       "</div>"
      ],
      "text/plain": [
       "    price  dist  bathrooms  garages  area  SES  popdens  perc_com\n",
       "0   40000  0.69          1        1    58    3   462.56       0.0\n",
       "1   40000  0.69          1        1    58    3   462.56       0.0\n",
       "2   57900  0.68          2        1    73    3   461.99       0.0\n",
       "3   65000  0.92          2        0   120    3   436.21       0.0\n",
       "4  140000  0.69          3        1   375    3   462.56       0.0"
      ]
     },
     "execution_count": 3,
     "metadata": {},
     "output_type": "execute_result"
    }
   ],
   "source": [
    "data.head()"
   ]
  },
  {
   "cell_type": "markdown",
   "metadata": {},
   "source": [
    "#### Perform mulitvariate linear regression"
   ]
  },
  {
   "attachments": {},
   "cell_type": "markdown",
   "metadata": {},
   "source": [
    "Estimate a multivariable regression model\n",
    "\n",
    "Dependent variable: price\n",
    "\n",
    "Main variable of interest: distance to BRT station\n",
    "\n",
    "Other variables to control for: # bathrooms, # garages, area of apartment, SES, neighborhood density, % area of neighborhood in commercial"
   ]
  },
  {
   "cell_type": "markdown",
   "metadata": {},
   "source": [
    "###### Regression without controls"
   ]
  },
  {
   "cell_type": "code",
   "execution_count": 6,
   "metadata": {},
   "outputs": [
    {
     "data": {
      "text/html": [
       "<table class=\"simpletable\">\n",
       "<tr>\n",
       "        <td>Model:</td>               <td>OLS</td>         <td>Adj. R-squared:</td>      <td>0.005</td>  \n",
       "</tr>\n",
       "<tr>\n",
       "  <td>Dependent Variable:</td>       <td>price</td>             <td>AIC:</td>         <td>72648.8722</td>\n",
       "</tr>\n",
       "<tr>\n",
       "         <td>Date:</td>        <td>2020-02-04 12:41</td>        <td>BIC:</td>         <td>72660.8363</td>\n",
       "</tr>\n",
       "<tr>\n",
       "   <td>No. Observations:</td>        <td>2928</td>         <td>Log-Likelihood:</td>     <td>-36322.</td> \n",
       "</tr>\n",
       "<tr>\n",
       "       <td>Df Model:</td>              <td>1</td>           <td>F-statistic:</td>        <td>14.83</td>  \n",
       "</tr>\n",
       "<tr>\n",
       "     <td>Df Residuals:</td>          <td>2926</td>       <td>Prob (F-statistic):</td>  <td>0.000120</td> \n",
       "</tr>\n",
       "<tr>\n",
       "      <td>R-squared:</td>            <td>0.005</td>            <td>Scale:</td>        <td>3.4902e+09</td>\n",
       "</tr>\n",
       "</table>\n",
       "<table class=\"simpletable\">\n",
       "<tr>\n",
       "      <td></td>         <th>Coef.</th>   <th>Std.Err.</th>     <th>t</th>     <th>P>|t|</th>   <th>[0.025</th>     <th>0.975]</th>  \n",
       "</tr>\n",
       "<tr>\n",
       "  <th>dist</th>       <td>2095.2766</td> <td>544.0826</td>  <td>3.8510</td>  <td>0.0001</td>  <td>1028.4530</td>  <td>3162.1001</td>\n",
       "</tr>\n",
       "<tr>\n",
       "  <th>Intercept</th> <td>74327.2220</td> <td>1517.9166</td> <td>48.9666</td> <td>0.0000</td> <td>71350.9290</td> <td>77303.5150</td>\n",
       "</tr>\n",
       "</table>\n",
       "<table class=\"simpletable\">\n",
       "<tr>\n",
       "     <td>Omnibus:</td>    <td>2158.618</td>  <td>Durbin-Watson:</td>     <td>0.695</td>  \n",
       "</tr>\n",
       "<tr>\n",
       "  <td>Prob(Omnibus):</td>   <td>0.000</td>  <td>Jarque-Bera (JB):</td> <td>49664.788</td>\n",
       "</tr>\n",
       "<tr>\n",
       "       <td>Skew:</td>       <td>3.275</td>      <td>Prob(JB):</td>       <td>0.000</td>  \n",
       "</tr>\n",
       "<tr>\n",
       "     <td>Kurtosis:</td>    <td>22.084</td>   <td>Condition No.:</td>       <td>4</td>    \n",
       "</tr>\n",
       "</table>"
      ],
      "text/plain": [
       "<class 'statsmodels.iolib.summary2.Summary'>\n",
       "\"\"\"\n",
       "                  Results: Ordinary least squares\n",
       "===================================================================\n",
       "Model:              OLS              Adj. R-squared:     0.005     \n",
       "Dependent Variable: price            AIC:                72648.8722\n",
       "Date:               2020-02-04 12:41 BIC:                72660.8363\n",
       "No. Observations:   2928             Log-Likelihood:     -36322.   \n",
       "Df Model:           1                F-statistic:        14.83     \n",
       "Df Residuals:       2926             Prob (F-statistic): 0.000120  \n",
       "R-squared:          0.005            Scale:              3.4902e+09\n",
       "-------------------------------------------------------------------\n",
       "            Coef.     Std.Err.    t    P>|t|    [0.025     0.975]  \n",
       "-------------------------------------------------------------------\n",
       "dist       2095.2766  544.0826  3.8510 0.0001  1028.4530  3162.1001\n",
       "Intercept 74327.2220 1517.9166 48.9666 0.0000 71350.9290 77303.5150\n",
       "-------------------------------------------------------------------\n",
       "Omnibus:             2158.618      Durbin-Watson:         0.695    \n",
       "Prob(Omnibus):       0.000         Jarque-Bera (JB):      49664.788\n",
       "Skew:                3.275         Prob(JB):              0.000    \n",
       "Kurtosis:            22.084        Condition No.:         4        \n",
       "===================================================================\n",
       "\n",
       "\"\"\""
      ]
     },
     "execution_count": 6,
     "metadata": {},
     "output_type": "execute_result"
    }
   ],
   "source": [
    "y = data['price'] ### define dependent variable\n",
    "x = data[['dist']].assign(Intercept = 1) ### define independent variables - and include intercept\n",
    "\n",
    "sm.OLS(y, x).fit().summary2()"
   ]
  },
  {
   "cell_type": "markdown",
   "metadata": {},
   "source": [
    "###### Regression with controls"
   ]
  },
  {
   "cell_type": "code",
   "execution_count": 5,
   "metadata": {},
   "outputs": [
    {
     "data": {
      "text/html": [
       "<table class=\"simpletable\">\n",
       "<tr>\n",
       "        <td>Model:</td>               <td>OLS</td>         <td>Adj. R-squared:</td>      <td>0.549</td>  \n",
       "</tr>\n",
       "<tr>\n",
       "  <td>Dependent Variable:</td>       <td>price</td>             <td>AIC:</td>         <td>70334.6885</td>\n",
       "</tr>\n",
       "<tr>\n",
       "         <td>Date:</td>        <td>2020-02-04 12:39</td>        <td>BIC:</td>         <td>70382.5451</td>\n",
       "</tr>\n",
       "<tr>\n",
       "   <td>No. Observations:</td>        <td>2928</td>         <td>Log-Likelihood:</td>     <td>-35159.</td> \n",
       "</tr>\n",
       "<tr>\n",
       "       <td>Df Model:</td>              <td>7</td>           <td>F-statistic:</td>        <td>510.8</td>  \n",
       "</tr>\n",
       "<tr>\n",
       "     <td>Df Residuals:</td>          <td>2920</td>       <td>Prob (F-statistic):</td>    <td>0.00</td>   \n",
       "</tr>\n",
       "<tr>\n",
       "      <td>R-squared:</td>            <td>0.550</td>            <td>Scale:</td>        <td>1.5802e+09</td>\n",
       "</tr>\n",
       "</table>\n",
       "<table class=\"simpletable\">\n",
       "<tr>\n",
       "      <td></td>         <th>Coef.</th>    <th>Std.Err.</th>      <th>t</th>     <th>P>|t|</th>   <th>[0.025</th>      <th>0.975]</th>   \n",
       "</tr>\n",
       "<tr>\n",
       "  <th>dist</th>       <td>933.7241</td>   <td>388.2226</td>   <td>2.4051</td>  <td>0.0162</td>  <td>172.5063</td>    <td>1694.9419</td> \n",
       "</tr>\n",
       "<tr>\n",
       "  <th>bathrooms</th> <td>13647.0590</td>  <td>1021.7015</td>  <td>13.3572</td> <td>0.0000</td> <td>11643.7304</td>  <td>15650.3876</td> \n",
       "</tr>\n",
       "<tr>\n",
       "  <th>garages</th>   <td>13207.9686</td>  <td>1203.5132</td>  <td>10.9745</td> <td>0.0000</td> <td>10848.1480</td>  <td>15567.7892</td> \n",
       "</tr>\n",
       "<tr>\n",
       "  <th>area</th>       <td>283.6504</td>    <td>12.5247</td>   <td>22.6472</td> <td>0.0000</td>  <td>259.0922</td>    <td>308.2086</td>  \n",
       "</tr>\n",
       "<tr>\n",
       "  <th>SES</th>       <td>26767.8617</td>  <td>1181.5197</td>  <td>22.6555</td> <td>0.0000</td> <td>24451.1653</td>  <td>29084.5581</td> \n",
       "</tr>\n",
       "<tr>\n",
       "  <th>popdens</th>     <td>3.7981</td>     <td>3.8012</td>    <td>0.9992</td>  <td>0.3178</td>   <td>-3.6552</td>     <td>11.2513</td>  \n",
       "</tr>\n",
       "<tr>\n",
       "  <th>perc_com</th>  <td>-2433.2817</td>  <td>3007.0532</td>  <td>-0.8092</td> <td>0.4185</td> <td>-8329.4417</td>   <td>3462.8782</td> \n",
       "</tr>\n",
       "<tr>\n",
       "  <th>Intercept</th> <td>-82406.3586</td> <td>4139.3676</td> <td>-19.9080</td> <td>0.0000</td> <td>-90522.7343</td> <td>-74289.9830</td>\n",
       "</tr>\n",
       "</table>\n",
       "<table class=\"simpletable\">\n",
       "<tr>\n",
       "     <td>Omnibus:</td>    <td>3184.650</td>  <td>Durbin-Watson:</td>      <td>1.298</td>  \n",
       "</tr>\n",
       "<tr>\n",
       "  <td>Prob(Omnibus):</td>   <td>0.000</td>  <td>Jarque-Bera (JB):</td> <td>376829.526</td>\n",
       "</tr>\n",
       "<tr>\n",
       "       <td>Skew:</td>       <td>5.299</td>      <td>Prob(JB):</td>        <td>0.000</td>  \n",
       "</tr>\n",
       "<tr>\n",
       "     <td>Kurtosis:</td>    <td>57.557</td>   <td>Condition No.:</td>      <td>2868</td>   \n",
       "</tr>\n",
       "</table>"
      ],
      "text/plain": [
       "<class 'statsmodels.iolib.summary2.Summary'>\n",
       "\"\"\"\n",
       "                    Results: Ordinary least squares\n",
       "=======================================================================\n",
       "Model:                OLS               Adj. R-squared:      0.549     \n",
       "Dependent Variable:   price             AIC:                 70334.6885\n",
       "Date:                 2020-02-04 12:39  BIC:                 70382.5451\n",
       "No. Observations:     2928              Log-Likelihood:      -35159.   \n",
       "Df Model:             7                 F-statistic:         510.8     \n",
       "Df Residuals:         2920              Prob (F-statistic):  0.00      \n",
       "R-squared:            0.550             Scale:               1.5802e+09\n",
       "-----------------------------------------------------------------------\n",
       "             Coef.     Std.Err.    t     P>|t|     [0.025      0.975]  \n",
       "-----------------------------------------------------------------------\n",
       "dist         933.7241  388.2226   2.4051 0.0162    172.5063   1694.9419\n",
       "bathrooms  13647.0590 1021.7015  13.3572 0.0000  11643.7304  15650.3876\n",
       "garages    13207.9686 1203.5132  10.9745 0.0000  10848.1480  15567.7892\n",
       "area         283.6504   12.5247  22.6472 0.0000    259.0922    308.2086\n",
       "SES        26767.8617 1181.5197  22.6555 0.0000  24451.1653  29084.5581\n",
       "popdens        3.7981    3.8012   0.9992 0.3178     -3.6552     11.2513\n",
       "perc_com   -2433.2817 3007.0532  -0.8092 0.4185  -8329.4417   3462.8782\n",
       "Intercept -82406.3586 4139.3676 -19.9080 0.0000 -90522.7343 -74289.9830\n",
       "-----------------------------------------------------------------------\n",
       "Omnibus:              3184.650       Durbin-Watson:          1.298     \n",
       "Prob(Omnibus):        0.000          Jarque-Bera (JB):       376829.526\n",
       "Skew:                 5.299          Prob(JB):               0.000     \n",
       "Kurtosis:             57.557         Condition No.:          2868      \n",
       "=======================================================================\n",
       "* The condition number is large (3e+03). This might indicate\n",
       "strong multicollinearity or other numerical problems.\n",
       "\"\"\""
      ]
     },
     "execution_count": 5,
     "metadata": {},
     "output_type": "execute_result"
    }
   ],
   "source": [
    "y = data['price'] ### define dependent variable\n",
    "x = data[['dist', 'bathrooms', 'garages', 'area', 'SES', 'popdens', 'perc_com']].assign(Intercept = 1) ### define independent variables - and include intercept\n",
    "\n",
    "sm.OLS(y, x).fit().summary2()"
   ]
  },
  {
   "cell_type": "code",
   "execution_count": null,
   "metadata": {},
   "outputs": [],
   "source": []
  }
 ],
 "metadata": {
  "kernelspec": {
   "display_name": "Python 3",
   "language": "python",
   "name": "python3"
  },
  "language_info": {
   "codemirror_mode": {
    "name": "ipython",
    "version": 3
   },
   "file_extension": ".py",
   "mimetype": "text/x-python",
   "name": "python",
   "nbconvert_exporter": "python",
   "pygments_lexer": "ipython3",
   "version": "3.7.4"
  }
 },
 "nbformat": 4,
 "nbformat_minor": 2
}
