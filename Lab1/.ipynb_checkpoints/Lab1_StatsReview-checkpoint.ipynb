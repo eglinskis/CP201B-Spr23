{
 "cells": [
  {
   "cell_type": "markdown",
   "metadata": {},
   "source": [
    "# Planning Methods: Part II, Spring 2023\n",
    "\n",
    "# Lab 1: Stats Review and Plotting\n",
    "\n",
    "**About This Lab**\n",
    "* We will be running through this notebook together. If you have a clarifying question or other question of broad interest, feel free to interrupt or use a pause to unmute and ask it! If you have a question that may result in a one-on-one breakout room (think: detailed inquiry, conceptual question, or help debugging), please ask it in the chat!\n",
    "* We recognize learning Python via Zoom comes with its challenges and that there are many modes of learning. Please go with what works best for you. That might be printing out the Jupyter notebook, duplicating it such that you can refer to the original, working directly in it. Up to you! There isn't a single right way.\n",
    "* This lab requires that you download the following file and place it in the same directory as this Jupyter notebook:\n",
    "    * `property_data.csv`"
   ]
  },
  {
   "cell_type": "markdown",
   "metadata": {},
   "source": [
    "## Objectives\n",
    "By the end of this lab, you will have reviewed how to:\n",
    "1. Read and write files\n",
    "2. Check for and drop nulls\n",
    "3. Export data\n",
    "4. Create subdataframes\n",
    "5. Produce descriptive statistics\n",
    "6. Conduct statistical tests\n",
    "\n",
    "You will also learn how to:\n",
    "1. Check for outliers \n",
    "2. Define a function"
   ]
  },
  {
   "cell_type": "markdown",
   "metadata": {},
   "source": [
    "## 1 Import packages"
   ]
  },
  {
   "cell_type": "code",
   "execution_count": 1,
   "metadata": {},
   "outputs": [],
   "source": [
    "import pandas as pd, numpy as np, matplotlib as mpl, math\n",
    "\n",
    "pd.options.display.float_format = '{:.2f}'.format\n",
    "#pd.set_option('display.max_rows', None)\n",
    "#pd.set_option('display.max_columns', None)\n",
    "\n",
    "%matplotlib inline\n",
    "import matplotlib.pylab as pylab\n",
    "import matplotlib.pyplot as plt\n",
    "\n",
    "from scipy import stats\n",
    "from scipy.stats import t, chisquare, iqr\n",
    "from scipy.stats import ttest_ind\n",
    "\n",
    "import warnings \n",
    "warnings.filterwarnings('ignore')"
   ]
  },
  {
   "cell_type": "code",
   "execution_count": 2,
   "metadata": {},
   "outputs": [
    {
     "name": "stdout",
     "output_type": "stream",
     "text": [
      "Collecting researchpy\n",
      "  Downloading researchpy-0.3.5-py3-none-any.whl (33 kB)\n",
      "Requirement already satisfied: patsy in /Users/meiqingli/opt/anaconda3/lib/python3.8/site-packages (from researchpy) (0.5.1)\n",
      "Requirement already satisfied: pandas in /Users/meiqingli/opt/anaconda3/lib/python3.8/site-packages (from researchpy) (1.2.0)\n",
      "Requirement already satisfied: scipy in /Users/meiqingli/opt/anaconda3/lib/python3.8/site-packages (from researchpy) (1.5.2)\n",
      "Requirement already satisfied: statsmodels in /Users/meiqingli/opt/anaconda3/lib/python3.8/site-packages (from researchpy) (0.12.0)\n",
      "Requirement already satisfied: numpy in /Users/meiqingli/opt/anaconda3/lib/python3.8/site-packages (from researchpy) (1.19.2)\n",
      "Requirement already satisfied: six in /Users/meiqingli/opt/anaconda3/lib/python3.8/site-packages (from patsy->researchpy) (1.15.0)\n",
      "Requirement already satisfied: python-dateutil>=2.7.3 in /Users/meiqingli/opt/anaconda3/lib/python3.8/site-packages (from pandas->researchpy) (2.8.1)\n",
      "Requirement already satisfied: pytz>=2017.3 in /Users/meiqingli/opt/anaconda3/lib/python3.8/site-packages (from pandas->researchpy) (2020.1)\n",
      "Installing collected packages: researchpy\n",
      "Successfully installed researchpy-0.3.5\n",
      "Note: you may need to restart the kernel to use updated packages.\n"
     ]
    }
   ],
   "source": [
    "pip install researchpy"
   ]
  },
  {
   "cell_type": "code",
   "execution_count": 3,
   "metadata": {},
   "outputs": [],
   "source": [
    "import researchpy as rp"
   ]
  },
  {
   "cell_type": "code",
   "execution_count": 4,
   "metadata": {},
   "outputs": [],
   "source": [
    "# filepath for csv == 'Lab Data/property_data.csv'"
   ]
  },
  {
   "cell_type": "markdown",
   "metadata": {},
   "source": [
    "## 2 Connect to and clean data"
   ]
  },
  {
   "cell_type": "code",
   "execution_count": 5,
   "metadata": {},
   "outputs": [
    {
     "data": {
      "text/html": [
       "<div>\n",
       "<style scoped>\n",
       "    .dataframe tbody tr th:only-of-type {\n",
       "        vertical-align: middle;\n",
       "    }\n",
       "\n",
       "    .dataframe tbody tr th {\n",
       "        vertical-align: top;\n",
       "    }\n",
       "\n",
       "    .dataframe thead th {\n",
       "        text-align: right;\n",
       "    }\n",
       "</style>\n",
       "<table border=\"1\" class=\"dataframe\">\n",
       "  <thead>\n",
       "    <tr style=\"text-align: right;\">\n",
       "      <th></th>\n",
       "      <th>id</th>\n",
       "      <th>price_000</th>\n",
       "      <th>yr_2001</th>\n",
       "      <th>yr_2002</th>\n",
       "      <th>yr_2003</th>\n",
       "      <th>yr_2004</th>\n",
       "      <th>yr_2005</th>\n",
       "      <th>yr_2006</th>\n",
       "      <th>apt</th>\n",
       "      <th>floor</th>\n",
       "      <th>...</th>\n",
       "      <th>pcnt_indu</th>\n",
       "      <th>pcnt_com</th>\n",
       "      <th>pcnt_insti</th>\n",
       "      <th>pcnt_vacant</th>\n",
       "      <th>pcn_green</th>\n",
       "      <th>homicides</th>\n",
       "      <th>house</th>\n",
       "      <th>ses_bin</th>\n",
       "      <th>lnprice</th>\n",
       "      <th>price_hi</th>\n",
       "    </tr>\n",
       "  </thead>\n",
       "  <tbody>\n",
       "    <tr>\n",
       "      <th>0</th>\n",
       "      <td>40003</td>\n",
       "      <td>60000.00</td>\n",
       "      <td>1.00</td>\n",
       "      <td>0.00</td>\n",
       "      <td>0.00</td>\n",
       "      <td>0.00</td>\n",
       "      <td>0.00</td>\n",
       "      <td>0.00</td>\n",
       "      <td>1</td>\n",
       "      <td>5.00</td>\n",
       "      <td>...</td>\n",
       "      <td>0.00</td>\n",
       "      <td>0.00</td>\n",
       "      <td>0.49</td>\n",
       "      <td>0.00</td>\n",
       "      <td>1.74</td>\n",
       "      <td>39.92</td>\n",
       "      <td>0</td>\n",
       "      <td>0</td>\n",
       "      <td>11.00</td>\n",
       "      <td>0</td>\n",
       "    </tr>\n",
       "    <tr>\n",
       "      <th>1</th>\n",
       "      <td>40039</td>\n",
       "      <td>39000.00</td>\n",
       "      <td>1.00</td>\n",
       "      <td>0.00</td>\n",
       "      <td>0.00</td>\n",
       "      <td>0.00</td>\n",
       "      <td>0.00</td>\n",
       "      <td>0.00</td>\n",
       "      <td>0</td>\n",
       "      <td>0.00</td>\n",
       "      <td>...</td>\n",
       "      <td>0.00</td>\n",
       "      <td>9.21</td>\n",
       "      <td>1.73</td>\n",
       "      <td>0.00</td>\n",
       "      <td>0.69</td>\n",
       "      <td>46.00</td>\n",
       "      <td>1</td>\n",
       "      <td>0</td>\n",
       "      <td>10.57</td>\n",
       "      <td>0</td>\n",
       "    </tr>\n",
       "    <tr>\n",
       "      <th>2</th>\n",
       "      <td>40007</td>\n",
       "      <td>140000.00</td>\n",
       "      <td>0.00</td>\n",
       "      <td>1.00</td>\n",
       "      <td>0.00</td>\n",
       "      <td>0.00</td>\n",
       "      <td>0.00</td>\n",
       "      <td>0.00</td>\n",
       "      <td>0</td>\n",
       "      <td>0.00</td>\n",
       "      <td>...</td>\n",
       "      <td>0.00</td>\n",
       "      <td>15.41</td>\n",
       "      <td>1.32</td>\n",
       "      <td>0.00</td>\n",
       "      <td>0.54</td>\n",
       "      <td>46.00</td>\n",
       "      <td>1</td>\n",
       "      <td>0</td>\n",
       "      <td>11.85</td>\n",
       "      <td>1</td>\n",
       "    </tr>\n",
       "    <tr>\n",
       "      <th>3</th>\n",
       "      <td>40008</td>\n",
       "      <td>38000.00</td>\n",
       "      <td>0.00</td>\n",
       "      <td>1.00</td>\n",
       "      <td>0.00</td>\n",
       "      <td>0.00</td>\n",
       "      <td>0.00</td>\n",
       "      <td>0.00</td>\n",
       "      <td>1</td>\n",
       "      <td>1.00</td>\n",
       "      <td>...</td>\n",
       "      <td>0.00</td>\n",
       "      <td>8.16</td>\n",
       "      <td>5.57</td>\n",
       "      <td>0.00</td>\n",
       "      <td>1.55</td>\n",
       "      <td>45.87</td>\n",
       "      <td>0</td>\n",
       "      <td>0</td>\n",
       "      <td>10.55</td>\n",
       "      <td>0</td>\n",
       "    </tr>\n",
       "    <tr>\n",
       "      <th>4</th>\n",
       "      <td>40010</td>\n",
       "      <td>110000.00</td>\n",
       "      <td>0.00</td>\n",
       "      <td>1.00</td>\n",
       "      <td>0.00</td>\n",
       "      <td>0.00</td>\n",
       "      <td>0.00</td>\n",
       "      <td>0.00</td>\n",
       "      <td>0</td>\n",
       "      <td>0.00</td>\n",
       "      <td>...</td>\n",
       "      <td>0.00</td>\n",
       "      <td>8.11</td>\n",
       "      <td>5.53</td>\n",
       "      <td>0.00</td>\n",
       "      <td>1.58</td>\n",
       "      <td>45.88</td>\n",
       "      <td>1</td>\n",
       "      <td>0</td>\n",
       "      <td>11.61</td>\n",
       "      <td>1</td>\n",
       "    </tr>\n",
       "  </tbody>\n",
       "</table>\n",
       "<p>5 rows × 29 columns</p>\n",
       "</div>"
      ],
      "text/plain": [
       "      id  price_000  yr_2001  yr_2002  yr_2003  yr_2004  yr_2005  yr_2006  \\\n",
       "0  40003   60000.00     1.00     0.00     0.00     0.00     0.00     0.00   \n",
       "1  40039   39000.00     1.00     0.00     0.00     0.00     0.00     0.00   \n",
       "2  40007  140000.00     0.00     1.00     0.00     0.00     0.00     0.00   \n",
       "3  40008   38000.00     0.00     1.00     0.00     0.00     0.00     0.00   \n",
       "4  40010  110000.00     0.00     1.00     0.00     0.00     0.00     0.00   \n",
       "\n",
       "   apt  floor  ...  pcnt_indu  pcnt_com  pcnt_insti  pcnt_vacant  pcn_green  \\\n",
       "0    1   5.00  ...       0.00      0.00        0.49         0.00       1.74   \n",
       "1    0   0.00  ...       0.00      9.21        1.73         0.00       0.69   \n",
       "2    0   0.00  ...       0.00     15.41        1.32         0.00       0.54   \n",
       "3    1   1.00  ...       0.00      8.16        5.57         0.00       1.55   \n",
       "4    0   0.00  ...       0.00      8.11        5.53         0.00       1.58   \n",
       "\n",
       "   homicides  house  ses_bin  lnprice  price_hi  \n",
       "0      39.92      0        0    11.00         0  \n",
       "1      46.00      1        0    10.57         0  \n",
       "2      46.00      1        0    11.85         1  \n",
       "3      45.87      0        0    10.55         0  \n",
       "4      45.88      1        0    11.61         1  \n",
       "\n",
       "[5 rows x 29 columns]"
      ]
     },
     "execution_count": 5,
     "metadata": {},
     "output_type": "execute_result"
    }
   ],
   "source": [
    "raw = pd.read_csv('Data/property_data.csv')\n",
    "raw.head()"
   ]
  },
  {
   "cell_type": "code",
   "execution_count": 6,
   "metadata": {},
   "outputs": [
    {
     "data": {
      "text/plain": [
       "id               int64\n",
       "price_000      float64\n",
       "yr_2001        float64\n",
       "yr_2002        float64\n",
       "yr_2003        float64\n",
       "yr_2004        float64\n",
       "yr_2005        float64\n",
       "yr_2006        float64\n",
       "apt              int64\n",
       "floor          float64\n",
       "age_0_10       float64\n",
       "age_10_20      float64\n",
       "age_20_more    float64\n",
       "num_room       float64\n",
       "num_bath       float64\n",
       "num_garage     float64\n",
       "area_m2        float64\n",
       "ses            float64\n",
       "pop_dens       float64\n",
       "pcnt_indu      float64\n",
       "pcnt_com       float64\n",
       "pcnt_insti     float64\n",
       "pcnt_vacant    float64\n",
       "pcn_green      float64\n",
       "homicides      float64\n",
       "house            int64\n",
       "ses_bin          int64\n",
       "lnprice        float64\n",
       "price_hi         int64\n",
       "dtype: object"
      ]
     },
     "execution_count": 6,
     "metadata": {},
     "output_type": "execute_result"
    }
   ],
   "source": [
    "raw.dtypes"
   ]
  },
  {
   "cell_type": "code",
   "execution_count": 7,
   "metadata": {},
   "outputs": [
    {
     "data": {
      "text/plain": [
       "id              object\n",
       "price_000      float64\n",
       "yr_2001        float64\n",
       "yr_2002        float64\n",
       "yr_2003        float64\n",
       "yr_2004        float64\n",
       "yr_2005        float64\n",
       "yr_2006        float64\n",
       "apt              int64\n",
       "floor          float64\n",
       "age_0_10       float64\n",
       "age_10_20      float64\n",
       "age_20_more    float64\n",
       "num_room       float64\n",
       "num_bath       float64\n",
       "num_garage     float64\n",
       "area_m2        float64\n",
       "ses            float64\n",
       "pop_dens       float64\n",
       "pcnt_indu      float64\n",
       "pcnt_com       float64\n",
       "pcnt_insti     float64\n",
       "pcnt_vacant    float64\n",
       "pcn_green      float64\n",
       "homicides      float64\n",
       "house            int64\n",
       "ses_bin          int64\n",
       "lnprice        float64\n",
       "price_hi         int64\n",
       "dtype: object"
      ]
     },
     "execution_count": 7,
     "metadata": {},
     "output_type": "execute_result"
    }
   ],
   "source": [
    "# convert id variable type\n",
    "raw['id'] = raw['id'].astype(str)\n",
    "raw.dtypes"
   ]
  },
  {
   "cell_type": "markdown",
   "metadata": {},
   "source": [
    "### 2.1 Drop nulls"
   ]
  },
  {
   "cell_type": "code",
   "execution_count": 8,
   "metadata": {},
   "outputs": [
    {
     "data": {
      "text/plain": [
       "id             0\n",
       "price_000      2\n",
       "yr_2001        2\n",
       "yr_2002        2\n",
       "yr_2003        2\n",
       "yr_2004        2\n",
       "yr_2005        2\n",
       "yr_2006        2\n",
       "apt            0\n",
       "floor          1\n",
       "age_0_10       1\n",
       "age_10_20      1\n",
       "age_20_more    1\n",
       "num_room       1\n",
       "num_bath       1\n",
       "num_garage     1\n",
       "area_m2        2\n",
       "ses            4\n",
       "pop_dens       2\n",
       "pcnt_indu      1\n",
       "pcnt_com       1\n",
       "pcnt_insti     1\n",
       "pcnt_vacant    1\n",
       "pcn_green      0\n",
       "homicides      0\n",
       "house          0\n",
       "ses_bin        0\n",
       "lnprice        0\n",
       "price_hi       0\n",
       "dtype: int64"
      ]
     },
     "execution_count": 8,
     "metadata": {},
     "output_type": "execute_result"
    }
   ],
   "source": [
    "# check for null values\n",
    "raw.isnull().sum()"
   ]
  },
  {
   "cell_type": "code",
   "execution_count": 9,
   "metadata": {},
   "outputs": [
    {
     "name": "stdout",
     "output_type": "stream",
     "text": [
      "9 3985\n"
     ]
    },
    {
     "data": {
      "text/html": [
       "<div>\n",
       "<style scoped>\n",
       "    .dataframe tbody tr th:only-of-type {\n",
       "        vertical-align: middle;\n",
       "    }\n",
       "\n",
       "    .dataframe tbody tr th {\n",
       "        vertical-align: top;\n",
       "    }\n",
       "\n",
       "    .dataframe thead th {\n",
       "        text-align: right;\n",
       "    }\n",
       "</style>\n",
       "<table border=\"1\" class=\"dataframe\">\n",
       "  <thead>\n",
       "    <tr style=\"text-align: right;\">\n",
       "      <th></th>\n",
       "      <th>id</th>\n",
       "      <th>price_000</th>\n",
       "      <th>yr_2001</th>\n",
       "      <th>yr_2002</th>\n",
       "      <th>yr_2003</th>\n",
       "      <th>yr_2004</th>\n",
       "      <th>yr_2005</th>\n",
       "      <th>yr_2006</th>\n",
       "      <th>apt</th>\n",
       "      <th>floor</th>\n",
       "      <th>...</th>\n",
       "      <th>pcnt_indu</th>\n",
       "      <th>pcnt_com</th>\n",
       "      <th>pcnt_insti</th>\n",
       "      <th>pcnt_vacant</th>\n",
       "      <th>pcn_green</th>\n",
       "      <th>homicides</th>\n",
       "      <th>house</th>\n",
       "      <th>ses_bin</th>\n",
       "      <th>lnprice</th>\n",
       "      <th>price_hi</th>\n",
       "    </tr>\n",
       "  </thead>\n",
       "  <tbody>\n",
       "    <tr>\n",
       "      <th>1</th>\n",
       "      <td>40039</td>\n",
       "      <td>39000.00</td>\n",
       "      <td>1.00</td>\n",
       "      <td>0.00</td>\n",
       "      <td>0.00</td>\n",
       "      <td>0.00</td>\n",
       "      <td>0.00</td>\n",
       "      <td>0.00</td>\n",
       "      <td>0</td>\n",
       "      <td>0.00</td>\n",
       "      <td>...</td>\n",
       "      <td>0.00</td>\n",
       "      <td>9.21</td>\n",
       "      <td>1.73</td>\n",
       "      <td>0.00</td>\n",
       "      <td>0.69</td>\n",
       "      <td>46.00</td>\n",
       "      <td>1</td>\n",
       "      <td>0</td>\n",
       "      <td>10.57</td>\n",
       "      <td>0</td>\n",
       "    </tr>\n",
       "    <tr>\n",
       "      <th>12</th>\n",
       "      <td>40018</td>\n",
       "      <td>65000.00</td>\n",
       "      <td>0.00</td>\n",
       "      <td>0.00</td>\n",
       "      <td>0.00</td>\n",
       "      <td>0.00</td>\n",
       "      <td>0.00</td>\n",
       "      <td>0.00</td>\n",
       "      <td>1</td>\n",
       "      <td>3.00</td>\n",
       "      <td>...</td>\n",
       "      <td>0.00</td>\n",
       "      <td>8.14</td>\n",
       "      <td>7.62</td>\n",
       "      <td>0.00</td>\n",
       "      <td>0.57</td>\n",
       "      <td>46.00</td>\n",
       "      <td>0</td>\n",
       "      <td>0</td>\n",
       "      <td>11.08</td>\n",
       "      <td>0</td>\n",
       "    </tr>\n",
       "    <tr>\n",
       "      <th>50</th>\n",
       "      <td>40018</td>\n",
       "      <td>89191.50</td>\n",
       "      <td>1.00</td>\n",
       "      <td>0.00</td>\n",
       "      <td>0.00</td>\n",
       "      <td>0.00</td>\n",
       "      <td>0.00</td>\n",
       "      <td>0.00</td>\n",
       "      <td>1</td>\n",
       "      <td>3.00</td>\n",
       "      <td>...</td>\n",
       "      <td>NaN</td>\n",
       "      <td>NaN</td>\n",
       "      <td>NaN</td>\n",
       "      <td>NaN</td>\n",
       "      <td>0.14</td>\n",
       "      <td>41.06</td>\n",
       "      <td>0</td>\n",
       "      <td>0</td>\n",
       "      <td>11.40</td>\n",
       "      <td>0</td>\n",
       "    </tr>\n",
       "    <tr>\n",
       "      <th>63</th>\n",
       "      <td>40197</td>\n",
       "      <td>57500.00</td>\n",
       "      <td>NaN</td>\n",
       "      <td>NaN</td>\n",
       "      <td>NaN</td>\n",
       "      <td>NaN</td>\n",
       "      <td>NaN</td>\n",
       "      <td>NaN</td>\n",
       "      <td>1</td>\n",
       "      <td>1.00</td>\n",
       "      <td>...</td>\n",
       "      <td>0.00</td>\n",
       "      <td>0.00</td>\n",
       "      <td>1.49</td>\n",
       "      <td>0.00</td>\n",
       "      <td>0.21</td>\n",
       "      <td>35.76</td>\n",
       "      <td>0</td>\n",
       "      <td>0</td>\n",
       "      <td>10.96</td>\n",
       "      <td>0</td>\n",
       "    </tr>\n",
       "    <tr>\n",
       "      <th>107</th>\n",
       "      <td>40330</td>\n",
       "      <td>145000.00</td>\n",
       "      <td>1.00</td>\n",
       "      <td>0.00</td>\n",
       "      <td>0.00</td>\n",
       "      <td>0.00</td>\n",
       "      <td>0.00</td>\n",
       "      <td>0.00</td>\n",
       "      <td>0</td>\n",
       "      <td>NaN</td>\n",
       "      <td>...</td>\n",
       "      <td>0.00</td>\n",
       "      <td>0.00</td>\n",
       "      <td>1.60</td>\n",
       "      <td>0.00</td>\n",
       "      <td>0.61</td>\n",
       "      <td>34.00</td>\n",
       "      <td>1</td>\n",
       "      <td>0</td>\n",
       "      <td>11.88</td>\n",
       "      <td>1</td>\n",
       "    </tr>\n",
       "    <tr>\n",
       "      <th>124</th>\n",
       "      <td>40495</td>\n",
       "      <td>40000.00</td>\n",
       "      <td>1.00</td>\n",
       "      <td>0.00</td>\n",
       "      <td>0.00</td>\n",
       "      <td>0.00</td>\n",
       "      <td>0.00</td>\n",
       "      <td>0.00</td>\n",
       "      <td>1</td>\n",
       "      <td>7.00</td>\n",
       "      <td>...</td>\n",
       "      <td>0.00</td>\n",
       "      <td>0.00</td>\n",
       "      <td>1.19</td>\n",
       "      <td>0.00</td>\n",
       "      <td>0.00</td>\n",
       "      <td>38.88</td>\n",
       "      <td>0</td>\n",
       "      <td>0</td>\n",
       "      <td>10.60</td>\n",
       "      <td>0</td>\n",
       "    </tr>\n",
       "    <tr>\n",
       "      <th>477</th>\n",
       "      <td>42486</td>\n",
       "      <td>NaN</td>\n",
       "      <td>NaN</td>\n",
       "      <td>NaN</td>\n",
       "      <td>NaN</td>\n",
       "      <td>NaN</td>\n",
       "      <td>NaN</td>\n",
       "      <td>NaN</td>\n",
       "      <td>0</td>\n",
       "      <td>0.00</td>\n",
       "      <td>...</td>\n",
       "      <td>0.00</td>\n",
       "      <td>4.74</td>\n",
       "      <td>0.83</td>\n",
       "      <td>0.00</td>\n",
       "      <td>0.58</td>\n",
       "      <td>46.00</td>\n",
       "      <td>1</td>\n",
       "      <td>0</td>\n",
       "      <td>11.61</td>\n",
       "      <td>1</td>\n",
       "    </tr>\n",
       "    <tr>\n",
       "      <th>2523</th>\n",
       "      <td>506972</td>\n",
       "      <td>NaN</td>\n",
       "      <td>1.00</td>\n",
       "      <td>0.00</td>\n",
       "      <td>0.00</td>\n",
       "      <td>0.00</td>\n",
       "      <td>0.00</td>\n",
       "      <td>0.00</td>\n",
       "      <td>1</td>\n",
       "      <td>2.00</td>\n",
       "      <td>...</td>\n",
       "      <td>0.44</td>\n",
       "      <td>3.67</td>\n",
       "      <td>17.18</td>\n",
       "      <td>5.52</td>\n",
       "      <td>5.41</td>\n",
       "      <td>137.38</td>\n",
       "      <td>0</td>\n",
       "      <td>0</td>\n",
       "      <td>11.08</td>\n",
       "      <td>0</td>\n",
       "    </tr>\n",
       "    <tr>\n",
       "      <th>3477</th>\n",
       "      <td>504693</td>\n",
       "      <td>52000.00</td>\n",
       "      <td>0.00</td>\n",
       "      <td>0.00</td>\n",
       "      <td>0.00</td>\n",
       "      <td>0.00</td>\n",
       "      <td>0.00</td>\n",
       "      <td>1.00</td>\n",
       "      <td>1</td>\n",
       "      <td>4.00</td>\n",
       "      <td>...</td>\n",
       "      <td>53.14</td>\n",
       "      <td>0.00</td>\n",
       "      <td>1.02</td>\n",
       "      <td>3.93</td>\n",
       "      <td>0.22</td>\n",
       "      <td>234.00</td>\n",
       "      <td>0</td>\n",
       "      <td>0</td>\n",
       "      <td>10.86</td>\n",
       "      <td>0</td>\n",
       "    </tr>\n",
       "  </tbody>\n",
       "</table>\n",
       "<p>9 rows × 29 columns</p>\n",
       "</div>"
      ],
      "text/plain": [
       "          id  price_000  yr_2001  yr_2002  yr_2003  yr_2004  yr_2005  yr_2006  \\\n",
       "1      40039   39000.00     1.00     0.00     0.00     0.00     0.00     0.00   \n",
       "12     40018   65000.00     0.00     0.00     0.00     0.00     0.00     0.00   \n",
       "50     40018   89191.50     1.00     0.00     0.00     0.00     0.00     0.00   \n",
       "63     40197   57500.00      NaN      NaN      NaN      NaN      NaN      NaN   \n",
       "107    40330  145000.00     1.00     0.00     0.00     0.00     0.00     0.00   \n",
       "124    40495   40000.00     1.00     0.00     0.00     0.00     0.00     0.00   \n",
       "477    42486        NaN      NaN      NaN      NaN      NaN      NaN      NaN   \n",
       "2523  506972        NaN     1.00     0.00     0.00     0.00     0.00     0.00   \n",
       "3477  504693   52000.00     0.00     0.00     0.00     0.00     0.00     1.00   \n",
       "\n",
       "      apt  floor  ...  pcnt_indu  pcnt_com  pcnt_insti  pcnt_vacant  \\\n",
       "1       0   0.00  ...       0.00      9.21        1.73         0.00   \n",
       "12      1   3.00  ...       0.00      8.14        7.62         0.00   \n",
       "50      1   3.00  ...        NaN       NaN         NaN          NaN   \n",
       "63      1   1.00  ...       0.00      0.00        1.49         0.00   \n",
       "107     0    NaN  ...       0.00      0.00        1.60         0.00   \n",
       "124     1   7.00  ...       0.00      0.00        1.19         0.00   \n",
       "477     0   0.00  ...       0.00      4.74        0.83         0.00   \n",
       "2523    1   2.00  ...       0.44      3.67       17.18         5.52   \n",
       "3477    1   4.00  ...      53.14      0.00        1.02         3.93   \n",
       "\n",
       "      pcn_green  homicides  house  ses_bin  lnprice  price_hi  \n",
       "1          0.69      46.00      1        0    10.57         0  \n",
       "12         0.57      46.00      0        0    11.08         0  \n",
       "50         0.14      41.06      0        0    11.40         0  \n",
       "63         0.21      35.76      0        0    10.96         0  \n",
       "107        0.61      34.00      1        0    11.88         1  \n",
       "124        0.00      38.88      0        0    10.60         0  \n",
       "477        0.58      46.00      1        0    11.61         1  \n",
       "2523       5.41     137.38      0        0    11.08         0  \n",
       "3477       0.22     234.00      0        0    10.86         0  \n",
       "\n",
       "[9 rows x 29 columns]"
      ]
     },
     "execution_count": 9,
     "metadata": {},
     "output_type": "execute_result"
    }
   ],
   "source": [
    "# how many observations would be dropped?\n",
    "null_values = raw.isnull().sum(axis = 1)\n",
    "\n",
    "num_obs = len(raw[null_values>0])\n",
    "\n",
    "print(num_obs, len(raw))\n",
    "raw[null_values>0]"
   ]
  },
  {
   "cell_type": "code",
   "execution_count": 10,
   "metadata": {},
   "outputs": [
    {
     "data": {
      "text/html": [
       "<div>\n",
       "<style scoped>\n",
       "    .dataframe tbody tr th:only-of-type {\n",
       "        vertical-align: middle;\n",
       "    }\n",
       "\n",
       "    .dataframe tbody tr th {\n",
       "        vertical-align: top;\n",
       "    }\n",
       "\n",
       "    .dataframe thead th {\n",
       "        text-align: right;\n",
       "    }\n",
       "</style>\n",
       "<table border=\"1\" class=\"dataframe\">\n",
       "  <thead>\n",
       "    <tr style=\"text-align: right;\">\n",
       "      <th></th>\n",
       "      <th>id</th>\n",
       "      <th>price_000</th>\n",
       "      <th>yr_2001</th>\n",
       "      <th>yr_2002</th>\n",
       "      <th>yr_2003</th>\n",
       "      <th>yr_2004</th>\n",
       "      <th>yr_2005</th>\n",
       "      <th>yr_2006</th>\n",
       "      <th>apt</th>\n",
       "      <th>floor</th>\n",
       "      <th>...</th>\n",
       "      <th>pcnt_indu</th>\n",
       "      <th>pcnt_com</th>\n",
       "      <th>pcnt_insti</th>\n",
       "      <th>pcnt_vacant</th>\n",
       "      <th>pcn_green</th>\n",
       "      <th>homicides</th>\n",
       "      <th>house</th>\n",
       "      <th>ses_bin</th>\n",
       "      <th>lnprice</th>\n",
       "      <th>price_hi</th>\n",
       "    </tr>\n",
       "  </thead>\n",
       "  <tbody>\n",
       "    <tr>\n",
       "      <th>0</th>\n",
       "      <td>40003</td>\n",
       "      <td>60000.00</td>\n",
       "      <td>1.00</td>\n",
       "      <td>0.00</td>\n",
       "      <td>0.00</td>\n",
       "      <td>0.00</td>\n",
       "      <td>0.00</td>\n",
       "      <td>0.00</td>\n",
       "      <td>1</td>\n",
       "      <td>5.00</td>\n",
       "      <td>...</td>\n",
       "      <td>0.00</td>\n",
       "      <td>0.00</td>\n",
       "      <td>0.49</td>\n",
       "      <td>0.00</td>\n",
       "      <td>1.74</td>\n",
       "      <td>39.92</td>\n",
       "      <td>0</td>\n",
       "      <td>0</td>\n",
       "      <td>11.00</td>\n",
       "      <td>0</td>\n",
       "    </tr>\n",
       "    <tr>\n",
       "      <th>1</th>\n",
       "      <td>40007</td>\n",
       "      <td>140000.00</td>\n",
       "      <td>0.00</td>\n",
       "      <td>1.00</td>\n",
       "      <td>0.00</td>\n",
       "      <td>0.00</td>\n",
       "      <td>0.00</td>\n",
       "      <td>0.00</td>\n",
       "      <td>0</td>\n",
       "      <td>0.00</td>\n",
       "      <td>...</td>\n",
       "      <td>0.00</td>\n",
       "      <td>15.41</td>\n",
       "      <td>1.32</td>\n",
       "      <td>0.00</td>\n",
       "      <td>0.54</td>\n",
       "      <td>46.00</td>\n",
       "      <td>1</td>\n",
       "      <td>0</td>\n",
       "      <td>11.85</td>\n",
       "      <td>1</td>\n",
       "    </tr>\n",
       "    <tr>\n",
       "      <th>2</th>\n",
       "      <td>40008</td>\n",
       "      <td>38000.00</td>\n",
       "      <td>0.00</td>\n",
       "      <td>1.00</td>\n",
       "      <td>0.00</td>\n",
       "      <td>0.00</td>\n",
       "      <td>0.00</td>\n",
       "      <td>0.00</td>\n",
       "      <td>1</td>\n",
       "      <td>1.00</td>\n",
       "      <td>...</td>\n",
       "      <td>0.00</td>\n",
       "      <td>8.16</td>\n",
       "      <td>5.57</td>\n",
       "      <td>0.00</td>\n",
       "      <td>1.55</td>\n",
       "      <td>45.87</td>\n",
       "      <td>0</td>\n",
       "      <td>0</td>\n",
       "      <td>10.55</td>\n",
       "      <td>0</td>\n",
       "    </tr>\n",
       "    <tr>\n",
       "      <th>3</th>\n",
       "      <td>40010</td>\n",
       "      <td>110000.00</td>\n",
       "      <td>0.00</td>\n",
       "      <td>1.00</td>\n",
       "      <td>0.00</td>\n",
       "      <td>0.00</td>\n",
       "      <td>0.00</td>\n",
       "      <td>0.00</td>\n",
       "      <td>0</td>\n",
       "      <td>0.00</td>\n",
       "      <td>...</td>\n",
       "      <td>0.00</td>\n",
       "      <td>8.11</td>\n",
       "      <td>5.53</td>\n",
       "      <td>0.00</td>\n",
       "      <td>1.58</td>\n",
       "      <td>45.88</td>\n",
       "      <td>1</td>\n",
       "      <td>0</td>\n",
       "      <td>11.61</td>\n",
       "      <td>1</td>\n",
       "    </tr>\n",
       "    <tr>\n",
       "      <th>4</th>\n",
       "      <td>40011</td>\n",
       "      <td>120000.00</td>\n",
       "      <td>0.00</td>\n",
       "      <td>1.00</td>\n",
       "      <td>0.00</td>\n",
       "      <td>0.00</td>\n",
       "      <td>0.00</td>\n",
       "      <td>0.00</td>\n",
       "      <td>0</td>\n",
       "      <td>0.00</td>\n",
       "      <td>...</td>\n",
       "      <td>0.00</td>\n",
       "      <td>0.00</td>\n",
       "      <td>0.00</td>\n",
       "      <td>0.00</td>\n",
       "      <td>0.40</td>\n",
       "      <td>46.00</td>\n",
       "      <td>1</td>\n",
       "      <td>0</td>\n",
       "      <td>11.70</td>\n",
       "      <td>1</td>\n",
       "    </tr>\n",
       "  </tbody>\n",
       "</table>\n",
       "<p>5 rows × 29 columns</p>\n",
       "</div>"
      ],
      "text/plain": [
       "      id  price_000  yr_2001  yr_2002  yr_2003  yr_2004  yr_2005  yr_2006  \\\n",
       "0  40003   60000.00     1.00     0.00     0.00     0.00     0.00     0.00   \n",
       "1  40007  140000.00     0.00     1.00     0.00     0.00     0.00     0.00   \n",
       "2  40008   38000.00     0.00     1.00     0.00     0.00     0.00     0.00   \n",
       "3  40010  110000.00     0.00     1.00     0.00     0.00     0.00     0.00   \n",
       "4  40011  120000.00     0.00     1.00     0.00     0.00     0.00     0.00   \n",
       "\n",
       "   apt  floor  ...  pcnt_indu  pcnt_com  pcnt_insti  pcnt_vacant  pcn_green  \\\n",
       "0    1   5.00  ...       0.00      0.00        0.49         0.00       1.74   \n",
       "1    0   0.00  ...       0.00     15.41        1.32         0.00       0.54   \n",
       "2    1   1.00  ...       0.00      8.16        5.57         0.00       1.55   \n",
       "3    0   0.00  ...       0.00      8.11        5.53         0.00       1.58   \n",
       "4    0   0.00  ...       0.00      0.00        0.00         0.00       0.40   \n",
       "\n",
       "   homicides  house  ses_bin  lnprice  price_hi  \n",
       "0      39.92      0        0    11.00         0  \n",
       "1      46.00      1        0    11.85         1  \n",
       "2      45.87      0        0    10.55         0  \n",
       "3      45.88      1        0    11.61         1  \n",
       "4      46.00      1        0    11.70         1  \n",
       "\n",
       "[5 rows x 29 columns]"
      ]
     },
     "execution_count": 10,
     "metadata": {},
     "output_type": "execute_result"
    }
   ],
   "source": [
    "# drop NaN values\n",
    "df = raw.dropna().reset_index(drop = True)\n",
    "df.head()"
   ]
  },
  {
   "cell_type": "markdown",
   "metadata": {},
   "source": [
    "### 2.2 Check for outliers\n",
    "Plus a sneak preview of plots!"
   ]
  },
  {
   "cell_type": "markdown",
   "metadata": {},
   "source": [
    "<img src = 'Data/boxplots.jpg' width = 500>\n",
    "Source: https://towardsdatascience.com/understanding-boxplots-5e2df7bcbd51"
   ]
  },
  {
   "cell_type": "code",
   "execution_count": 11,
   "metadata": {},
   "outputs": [
    {
     "data": {
      "image/png": "[encoded data removed]",
      "text/plain": [
       "<Figure size 432x288 with 1 Axes>"
      ]
     },
     "metadata": {
      "needs_background": "light"
     },
     "output_type": "display_data"
    },
    {
     "data": {
      "image/png": "[encoded data removed]",
      "text/plain": [
       "<Figure size 432x288 with 1 Axes>"
      ]
     },
     "metadata": {
      "needs_background": "light"
     },
     "output_type": "display_data"
    }
   ],
   "source": [
    "# visualize population density\n",
    "x = df['pop_dens']\n",
    "plt.boxplot(x)\n",
    "plt.show()\n",
    "plt.hist(x, 250)\n",
    "plt.show()"
   ]
  },
  {
   "cell_type": "code",
   "execution_count": 12,
   "metadata": {},
   "outputs": [],
   "source": [
    "# visualize price"
   ]
  },
  {
   "cell_type": "code",
   "execution_count": 13,
   "metadata": {},
   "outputs": [],
   "source": [
    "# how many observations would be dropped if we got rid of 'price_000' outliers?\n",
    "# step 1: calculate interquartile range"
   ]
  },
  {
   "cell_type": "code",
   "execution_count": 14,
   "metadata": {},
   "outputs": [],
   "source": [
    "# step 2: use the 1.5xIQR rule "
   ]
  },
  {
   "cell_type": "markdown",
   "metadata": {},
   "source": [
    "### 2.3 Export clean data (for future labs)\n",
    "Name it whatever you'd like and remeber where you save it so you can access next week."
   ]
  },
  {
   "cell_type": "code",
   "execution_count": 15,
   "metadata": {},
   "outputs": [],
   "source": [
    "df.to_csv('clean_property_data.csv', index = False)"
   ]
  },
  {
   "cell_type": "markdown",
   "metadata": {},
   "source": [
    "### 2.4 Create sub-dataframe"
   ]
  },
  {
   "cell_type": "code",
   "execution_count": 16,
   "metadata": {},
   "outputs": [
    {
     "data": {
      "text/html": [
       "<div>\n",
       "<style scoped>\n",
       "    .dataframe tbody tr th:only-of-type {\n",
       "        vertical-align: middle;\n",
       "    }\n",
       "\n",
       "    .dataframe tbody tr th {\n",
       "        vertical-align: top;\n",
       "    }\n",
       "\n",
       "    .dataframe thead th {\n",
       "        text-align: right;\n",
       "    }\n",
       "</style>\n",
       "<table border=\"1\" class=\"dataframe\">\n",
       "  <thead>\n",
       "    <tr style=\"text-align: right;\">\n",
       "      <th></th>\n",
       "      <th>house</th>\n",
       "      <th>apt</th>\n",
       "      <th>price_000</th>\n",
       "      <th>age_0_10</th>\n",
       "      <th>age_20_more</th>\n",
       "      <th>pcn_green</th>\n",
       "      <th>num_room</th>\n",
       "    </tr>\n",
       "  </thead>\n",
       "  <tbody>\n",
       "    <tr>\n",
       "      <th>0</th>\n",
       "      <td>0</td>\n",
       "      <td>1</td>\n",
       "      <td>60000.00</td>\n",
       "      <td>1.00</td>\n",
       "      <td>0.00</td>\n",
       "      <td>1.74</td>\n",
       "      <td>3.00</td>\n",
       "    </tr>\n",
       "    <tr>\n",
       "      <th>1</th>\n",
       "      <td>1</td>\n",
       "      <td>0</td>\n",
       "      <td>140000.00</td>\n",
       "      <td>0.00</td>\n",
       "      <td>0.00</td>\n",
       "      <td>0.54</td>\n",
       "      <td>4.00</td>\n",
       "    </tr>\n",
       "    <tr>\n",
       "      <th>2</th>\n",
       "      <td>0</td>\n",
       "      <td>1</td>\n",
       "      <td>38000.00</td>\n",
       "      <td>0.00</td>\n",
       "      <td>0.00</td>\n",
       "      <td>1.55</td>\n",
       "      <td>3.00</td>\n",
       "    </tr>\n",
       "    <tr>\n",
       "      <th>3</th>\n",
       "      <td>1</td>\n",
       "      <td>0</td>\n",
       "      <td>110000.00</td>\n",
       "      <td>0.00</td>\n",
       "      <td>0.00</td>\n",
       "      <td>1.58</td>\n",
       "      <td>4.00</td>\n",
       "    </tr>\n",
       "    <tr>\n",
       "      <th>4</th>\n",
       "      <td>1</td>\n",
       "      <td>0</td>\n",
       "      <td>120000.00</td>\n",
       "      <td>0.00</td>\n",
       "      <td>0.00</td>\n",
       "      <td>0.40</td>\n",
       "      <td>4.00</td>\n",
       "    </tr>\n",
       "  </tbody>\n",
       "</table>\n",
       "</div>"
      ],
      "text/plain": [
       "   house  apt  price_000  age_0_10  age_20_more  pcn_green  num_room\n",
       "0      0    1   60000.00      1.00         0.00       1.74      3.00\n",
       "1      1    0  140000.00      0.00         0.00       0.54      4.00\n",
       "2      0    1   38000.00      0.00         0.00       1.55      3.00\n",
       "3      1    0  110000.00      0.00         0.00       1.58      4.00\n",
       "4      1    0  120000.00      0.00         0.00       0.40      4.00"
      ]
     },
     "execution_count": 16,
     "metadata": {},
     "output_type": "execute_result"
    }
   ],
   "source": [
    "sub_df = df[['house','apt','price_000','age_0_10','age_20_more','pcn_green','num_room']].copy()\n",
    "sub_df.head()"
   ]
  },
  {
   "cell_type": "code",
   "execution_count": 17,
   "metadata": {},
   "outputs": [],
   "source": [
    "# rename variables of interest\n",
    "sub_df.rename(columns={\"price_000\":\"price\", \n",
    "                   \"age_0_10\":\"age_new\", \n",
    "                   \"age_20_more\":\"age_old\", \n",
    "                   \"num_room\":\"rooms\"}, inplace = True)"
   ]
  },
  {
   "cell_type": "markdown",
   "metadata": {},
   "source": [
    "## 3 Describe variables"
   ]
  },
  {
   "cell_type": "markdown",
   "metadata": {},
   "source": [
    "### 3.1 Continuous variable"
   ]
  },
  {
   "cell_type": "code",
   "execution_count": 18,
   "metadata": {
    "scrolled": false
   },
   "outputs": [],
   "source": [
    "# descriptive stats for property price"
   ]
  },
  {
   "cell_type": "code",
   "execution_count": 19,
   "metadata": {},
   "outputs": [],
   "source": [
    "# if we're only interested in certain statistics, we can also call them up specifically \n",
    "# print the median and interquartile range"
   ]
  },
  {
   "cell_type": "code",
   "execution_count": 20,
   "metadata": {},
   "outputs": [],
   "source": [
    "# note the median is equal to the 50% percentile above and IQR is equal to the 75th percentile minus the 25th"
   ]
  },
  {
   "cell_type": "markdown",
   "metadata": {},
   "source": [
    "Next week we'll learn how to use a histogram to visualize the distribution of a continous variable.\n"
   ]
  },
  {
   "cell_type": "markdown",
   "metadata": {},
   "source": [
    "### 3.2 Discrete numeric variable (dummy variable)"
   ]
  },
  {
   "cell_type": "code",
   "execution_count": 21,
   "metadata": {},
   "outputs": [],
   "source": [
    "# descriptive stats for house dv"
   ]
  },
  {
   "cell_type": "code",
   "execution_count": 22,
   "metadata": {},
   "outputs": [],
   "source": [
    "# we can also use the value_counts function (in general, it gives us a better sense of categorical variables)"
   ]
  },
  {
   "cell_type": "code",
   "execution_count": 23,
   "metadata": {},
   "outputs": [],
   "source": [
    "# and we can normalize value_counts to get percentages"
   ]
  },
  {
   "cell_type": "markdown",
   "metadata": {},
   "source": [
    "#### 3.2.1 Define a function\n",
    "\n",
    "A function is a block of reusable code used to perform a single action that only runs when called. Python has many built in functions (like 'print') but you can also create your own.  "
   ]
  },
  {
   "cell_type": "code",
   "execution_count": 24,
   "metadata": {
    "scrolled": true
   },
   "outputs": [],
   "source": [
    "# if we want to see counts and percentages together, we can concatenate these outputs into one table\n",
    "\n",
    "# defining a function called 'tab' that can take in any dataframe and any variable and return the output below\n",
    "\n",
    "def tab(df, x):\n",
    "    \"\"\"This function concatenates the counts and percentages for a single variable in a dataframe.\"\"\"\n",
    "    \n",
    "    print (\"Total Count\", df[x].count())\n",
    "    print (\"Total Pct\", sum(df[x].value_counts(normalize=True)))\n",
    "    \n",
    "    return pd.concat([ df[x].value_counts(), df[x].value_counts(normalize=True) ], \n",
    "                     axis=1, keys=('counts','pct'))"
   ]
  },
  {
   "cell_type": "code",
   "execution_count": 25,
   "metadata": {},
   "outputs": [
    {
     "name": "stdout",
     "output_type": "stream",
     "text": [
      "Total Count 3976\n",
      "Total Pct 1.0\n"
     ]
    },
    {
     "data": {
      "text/html": [
       "<div>\n",
       "<style scoped>\n",
       "    .dataframe tbody tr th:only-of-type {\n",
       "        vertical-align: middle;\n",
       "    }\n",
       "\n",
       "    .dataframe tbody tr th {\n",
       "        vertical-align: top;\n",
       "    }\n",
       "\n",
       "    .dataframe thead th {\n",
       "        text-align: right;\n",
       "    }\n",
       "</style>\n",
       "<table border=\"1\" class=\"dataframe\">\n",
       "  <thead>\n",
       "    <tr style=\"text-align: right;\">\n",
       "      <th></th>\n",
       "      <th>counts</th>\n",
       "      <th>pct</th>\n",
       "    </tr>\n",
       "  </thead>\n",
       "  <tbody>\n",
       "    <tr>\n",
       "      <th>0</th>\n",
       "      <td>2690</td>\n",
       "      <td>0.68</td>\n",
       "    </tr>\n",
       "    <tr>\n",
       "      <th>1</th>\n",
       "      <td>1286</td>\n",
       "      <td>0.32</td>\n",
       "    </tr>\n",
       "  </tbody>\n",
       "</table>\n",
       "</div>"
      ],
      "text/plain": [
       "   counts  pct\n",
       "0    2690 0.68\n",
       "1    1286 0.32"
      ]
     },
     "execution_count": 25,
     "metadata": {},
     "output_type": "execute_result"
    }
   ],
   "source": [
    "# call the function\n",
    "tab(sub_df, 'house')"
   ]
  },
  {
   "cell_type": "code",
   "execution_count": 26,
   "metadata": {},
   "outputs": [],
   "source": [
    "# what steps could you take to apply this function to a different dataframe? \n",
    "# (hint: df in the function, and df at the where we call it with 'house' aren't the same thing...)"
   ]
  },
  {
   "cell_type": "markdown",
   "metadata": {},
   "source": [
    "#### 3.2.2 Stats for all variables"
   ]
  },
  {
   "cell_type": "code",
   "execution_count": 27,
   "metadata": {},
   "outputs": [],
   "source": [
    "# these functions have been helpful for individual variables, but say you want to see summary stats for ALL the \n",
    "# variables in your dataframe at once?"
   ]
  },
  {
   "cell_type": "code",
   "execution_count": 28,
   "metadata": {},
   "outputs": [],
   "source": [
    "# if you want to see summary statistics like this for just a few variables, see the appendix code at the bottom!"
   ]
  },
  {
   "cell_type": "markdown",
   "metadata": {},
   "source": [
    "## 4 Statistical tests"
   ]
  },
  {
   "cell_type": "code",
   "execution_count": 29,
   "metadata": {},
   "outputs": [],
   "source": [
    "# define universal set of statistics to be called with \".agg\" command"
   ]
  },
  {
   "cell_type": "markdown",
   "metadata": {},
   "source": [
    "### 4.1 T-test (of means)"
   ]
  },
  {
   "cell_type": "markdown",
   "metadata": {},
   "source": [
    "#### 4.1.1 Do apartments have different prices from houses?"
   ]
  },
  {
   "cell_type": "code",
   "execution_count": 30,
   "metadata": {},
   "outputs": [],
   "source": [
    "# descriptive price stats for apartment dv \n",
    "# groupby and aggregate functions are helpful for looking at crosstabulated summary statistics"
   ]
  },
  {
   "cell_type": "code",
   "execution_count": 31,
   "metadata": {},
   "outputs": [],
   "source": [
    "# create apt and non-apt price variables"
   ]
  },
  {
   "cell_type": "code",
   "execution_count": 32,
   "metadata": {},
   "outputs": [],
   "source": [
    "# run t-test"
   ]
  },
  {
   "cell_type": "code",
   "execution_count": 34,
   "metadata": {},
   "outputs": [
    {
     "data": {
      "text/plain": [
       "Ttest_indResult(statistic=0.13576881903359253, pvalue=0.8920129308585947)"
      ]
     },
     "execution_count": 34,
     "metadata": {},
     "output_type": "execute_result"
    }
   ],
   "source": [
    "# if you wanted to normalize the price of a property by the number of bedrooms, how would you change the code? \n",
    "# (hint: more than one right answer!!)\n",
    "\n",
    "# create per room price variable in dataframe\n",
    "sub_df['pp_rm'] = sub_df['price']/sub_df['rooms']\n",
    "\n",
    "# create variables for t-test\n",
    "apt_rm_p = sub_df[df.apt == 1].pp_rm #Apartment Price per Room\n",
    "n_apt_rm_p = sub_df[df.apt == 0].pp_rm #Non-Apartment Price per Room\n",
    "\n",
    "# run t-test\n",
    "ttest_ind(apt_rm_p, n_apt_rm_p, equal_var = False, nan_policy=\"omit\")"
   ]
  },
  {
   "cell_type": "code",
   "execution_count": 35,
   "metadata": {},
   "outputs": [],
   "source": [
    "# can also run t-test with researchpy if that's your preference!"
   ]
  },
  {
   "cell_type": "markdown",
   "metadata": {},
   "source": [
    "#### 4.1.2 Is the price of newer apartments different from older apartments?"
   ]
  },
  {
   "cell_type": "code",
   "execution_count": 36,
   "metadata": {},
   "outputs": [],
   "source": [
    "# what descriptive stats are relevant here? \n",
    "# create subdataframe, group price of apartments by new vs. old"
   ]
  },
  {
   "cell_type": "code",
   "execution_count": 37,
   "metadata": {},
   "outputs": [],
   "source": [
    "# create old and new apartment price variables"
   ]
  },
  {
   "cell_type": "code",
   "execution_count": 38,
   "metadata": {},
   "outputs": [],
   "source": [
    "# run t-test"
   ]
  },
  {
   "cell_type": "markdown",
   "metadata": {},
   "source": [
    "### 4.2 Chi-square test (of proportions)"
   ]
  },
  {
   "cell_type": "markdown",
   "metadata": {},
   "source": [
    "#### 4.2.1 Are houses more likely to be older (age_20_more) or younger?"
   ]
  },
  {
   "cell_type": "code",
   "execution_count": 39,
   "metadata": {},
   "outputs": [],
   "source": [
    "# descriptive stats (crosstab)"
   ]
  },
  {
   "cell_type": "code",
   "execution_count": 40,
   "metadata": {},
   "outputs": [],
   "source": [
    "# normalize by row ('index') - could also normalize by 'columns'"
   ]
  },
  {
   "cell_type": "code",
   "execution_count": 41,
   "metadata": {},
   "outputs": [],
   "source": [
    "# run chi-square test"
   ]
  },
  {
   "cell_type": "code",
   "execution_count": 42,
   "metadata": {},
   "outputs": [],
   "source": [
    "# view table"
   ]
  },
  {
   "cell_type": "code",
   "execution_count": 43,
   "metadata": {},
   "outputs": [],
   "source": [
    "# view results"
   ]
  },
  {
   "cell_type": "markdown",
   "metadata": {},
   "source": [
    "### Appendix A - Defining Functions"
   ]
  },
  {
   "cell_type": "code",
   "execution_count": 44,
   "metadata": {},
   "outputs": [
    {
     "data": {
      "text/plain": [
       "ses            4\n",
       "price_000      2\n",
       "area_m2        2\n",
       "yr_2002        2\n",
       "yr_2003        2\n",
       "yr_2004        2\n",
       "yr_2005        2\n",
       "yr_2006        2\n",
       "yr_2001        2\n",
       "pop_dens       2\n",
       "pcnt_insti     1\n",
       "pcnt_com       1\n",
       "pcnt_indu      1\n",
       "age_20_more    1\n",
       "num_garage     1\n",
       "num_bath       1\n",
       "num_room       1\n",
       "age_10_20      1\n",
       "age_0_10       1\n",
       "floor          1\n",
       "pcnt_vacant    1\n",
       "dtype: int64"
      ]
     },
     "execution_count": 44,
     "metadata": {},
     "output_type": "execute_result"
    }
   ],
   "source": [
    "# showing null values in order\n",
    "# will only show null counts for rows that have more than 0 null values\n",
    "\n",
    "### define the function\n",
    "def var_nulls (df):\n",
    "    null_counts = df.isnull().sum() #sum of null counts attributed to a variable\n",
    "    return null_counts[null_counts > 0].sort_values(ascending=False) #sort values greater than 0 largest to smallest\n",
    "\n",
    "### call the function\n",
    "var_nulls(raw)\n",
    "\n",
    "# output shows blank list because we have no null values here"
   ]
  },
  {
   "cell_type": "code",
   "execution_count": 45,
   "metadata": {},
   "outputs": [
    {
     "name": "stdout",
     "output_type": "stream",
     "text": [
      "Total Count 3976\n",
      "Total Pct 1.0\n"
     ]
    },
    {
     "data": {
      "text/html": [
       "<div>\n",
       "<style scoped>\n",
       "    .dataframe tbody tr th:only-of-type {\n",
       "        vertical-align: middle;\n",
       "    }\n",
       "\n",
       "    .dataframe tbody tr th {\n",
       "        vertical-align: top;\n",
       "    }\n",
       "\n",
       "    .dataframe thead th {\n",
       "        text-align: right;\n",
       "    }\n",
       "</style>\n",
       "<table border=\"1\" class=\"dataframe\">\n",
       "  <thead>\n",
       "    <tr style=\"text-align: right;\">\n",
       "      <th></th>\n",
       "      <th>counts</th>\n",
       "      <th>pct</th>\n",
       "    </tr>\n",
       "  </thead>\n",
       "  <tbody>\n",
       "    <tr>\n",
       "      <th>0</th>\n",
       "      <td>2690</td>\n",
       "      <td>0.68</td>\n",
       "    </tr>\n",
       "    <tr>\n",
       "      <th>1</th>\n",
       "      <td>1286</td>\n",
       "      <td>0.32</td>\n",
       "    </tr>\n",
       "  </tbody>\n",
       "</table>\n",
       "</div>"
      ],
      "text/plain": [
       "   counts  pct\n",
       "0    2690 0.68\n",
       "1    1286 0.32"
      ]
     },
     "execution_count": 45,
     "metadata": {},
     "output_type": "execute_result"
    }
   ],
   "source": [
    "# value counts - see counts and percentages together\n",
    "\n",
    "### define the function\n",
    "def tab(df, x):\n",
    "    print (\"Total Count\", df[x].count())\n",
    "    print (\"Total Pct\", sum(df[x].value_counts(normalize=True)))\n",
    "    return pd.concat([df[x].value_counts(), df[x].value_counts(normalize=True)], \n",
    "                     axis=1, keys=('counts','pct'))\n",
    "\n",
    "### call the function\n",
    "tab(sub_df, 'house') #specify the dataframe and the variable in the parentheses"
   ]
  },
  {
   "cell_type": "code",
   "execution_count": 46,
   "metadata": {
    "scrolled": true
   },
   "outputs": [
    {
     "data": {
      "text/html": [
       "<div>\n",
       "<style scoped>\n",
       "    .dataframe tbody tr th:only-of-type {\n",
       "        vertical-align: middle;\n",
       "    }\n",
       "\n",
       "    .dataframe tbody tr th {\n",
       "        vertical-align: top;\n",
       "    }\n",
       "\n",
       "    .dataframe thead th {\n",
       "        text-align: right;\n",
       "    }\n",
       "</style>\n",
       "<table border=\"1\" class=\"dataframe\">\n",
       "  <thead>\n",
       "    <tr style=\"text-align: right;\">\n",
       "      <th></th>\n",
       "      <th>count</th>\n",
       "      <th>mean</th>\n",
       "      <th>min</th>\n",
       "      <th>max</th>\n",
       "      <th>median</th>\n",
       "      <th>std</th>\n",
       "    </tr>\n",
       "    <tr>\n",
       "      <th>apt</th>\n",
       "      <th></th>\n",
       "      <th></th>\n",
       "      <th></th>\n",
       "      <th></th>\n",
       "      <th></th>\n",
       "      <th></th>\n",
       "    </tr>\n",
       "  </thead>\n",
       "  <tbody>\n",
       "    <tr>\n",
       "      <th>0</th>\n",
       "      <td>1286</td>\n",
       "      <td>123234.51</td>\n",
       "      <td>20000.00</td>\n",
       "      <td>740000.00</td>\n",
       "      <td>105000.00</td>\n",
       "      <td>76437.63</td>\n",
       "    </tr>\n",
       "    <tr>\n",
       "      <th>1</th>\n",
       "      <td>2690</td>\n",
       "      <td>79301.24</td>\n",
       "      <td>20000.00</td>\n",
       "      <td>800000.00</td>\n",
       "      <td>60000.00</td>\n",
       "      <td>70805.11</td>\n",
       "    </tr>\n",
       "  </tbody>\n",
       "</table>\n",
       "</div>"
      ],
      "text/plain": [
       "     count      mean      min       max    median      std\n",
       "apt                                                       \n",
       "0     1286 123234.51 20000.00 740000.00 105000.00 76437.63\n",
       "1     2690  79301.24 20000.00 800000.00  60000.00 70805.11"
      ]
     },
     "execution_count": 46,
     "metadata": {},
     "output_type": "execute_result"
    }
   ],
   "source": [
    "# we used the groupby function before each statistical test we used - we can also call this up with one function!\n",
    "\n",
    "### define the function\n",
    "def grpby_stats (df, var1, var2):\n",
    "    stat = ['count', 'mean', 'min', 'max', 'median', 'std'] #specify the statistics we want\n",
    "    return df[var1].groupby(df[var2]).agg(stat) #group the first variable by the second variable, and aggregate stats\n",
    "\n",
    "### call the function\n",
    "grpby_stats(sub_df, 'price', 'apt') #specify the dataframe, key variabe, and grouping variable in the parentheses\n",
    "\n",
    "# does this work for the test in 4.1.2, where we define apt_p = (sub_df[sub_df.apt == 1].price)? try it out!"
   ]
  },
  {
   "cell_type": "code",
   "execution_count": 47,
   "metadata": {},
   "outputs": [
    {
     "data": {
      "text/html": [
       "<div>\n",
       "<style scoped>\n",
       "    .dataframe tbody tr th:only-of-type {\n",
       "        vertical-align: middle;\n",
       "    }\n",
       "\n",
       "    .dataframe tbody tr th {\n",
       "        vertical-align: top;\n",
       "    }\n",
       "\n",
       "    .dataframe thead th {\n",
       "        text-align: right;\n",
       "    }\n",
       "</style>\n",
       "<table border=\"1\" class=\"dataframe\">\n",
       "  <thead>\n",
       "    <tr style=\"text-align: right;\">\n",
       "      <th></th>\n",
       "      <th>count</th>\n",
       "      <th>mean</th>\n",
       "      <th>std</th>\n",
       "      <th>min</th>\n",
       "      <th>25%</th>\n",
       "      <th>50%</th>\n",
       "      <th>75%</th>\n",
       "      <th>max</th>\n",
       "    </tr>\n",
       "  </thead>\n",
       "  <tbody>\n",
       "    <tr>\n",
       "      <th>house</th>\n",
       "      <td>3976.00</td>\n",
       "      <td>0.32</td>\n",
       "      <td>0.47</td>\n",
       "      <td>0.00</td>\n",
       "      <td>0.00</td>\n",
       "      <td>0.00</td>\n",
       "      <td>1.00</td>\n",
       "      <td>1.00</td>\n",
       "    </tr>\n",
       "    <tr>\n",
       "      <th>apt</th>\n",
       "      <td>3976.00</td>\n",
       "      <td>0.68</td>\n",
       "      <td>0.47</td>\n",
       "      <td>0.00</td>\n",
       "      <td>0.00</td>\n",
       "      <td>1.00</td>\n",
       "      <td>1.00</td>\n",
       "      <td>1.00</td>\n",
       "    </tr>\n",
       "    <tr>\n",
       "      <th>price</th>\n",
       "      <td>3976.00</td>\n",
       "      <td>93511.05</td>\n",
       "      <td>75516.07</td>\n",
       "      <td>20000.00</td>\n",
       "      <td>50000.00</td>\n",
       "      <td>72000.00</td>\n",
       "      <td>110000.00</td>\n",
       "      <td>800000.00</td>\n",
       "    </tr>\n",
       "    <tr>\n",
       "      <th>age_new</th>\n",
       "      <td>3976.00</td>\n",
       "      <td>0.17</td>\n",
       "      <td>0.37</td>\n",
       "      <td>0.00</td>\n",
       "      <td>0.00</td>\n",
       "      <td>0.00</td>\n",
       "      <td>0.00</td>\n",
       "      <td>1.00</td>\n",
       "    </tr>\n",
       "    <tr>\n",
       "      <th>age_old</th>\n",
       "      <td>3976.00</td>\n",
       "      <td>0.20</td>\n",
       "      <td>0.40</td>\n",
       "      <td>0.00</td>\n",
       "      <td>0.00</td>\n",
       "      <td>0.00</td>\n",
       "      <td>0.00</td>\n",
       "      <td>1.00</td>\n",
       "    </tr>\n",
       "    <tr>\n",
       "      <th>pcn_green</th>\n",
       "      <td>3976.00</td>\n",
       "      <td>3.37</td>\n",
       "      <td>7.87</td>\n",
       "      <td>0.00</td>\n",
       "      <td>0.32</td>\n",
       "      <td>0.98</td>\n",
       "      <td>3.37</td>\n",
       "      <td>57.00</td>\n",
       "    </tr>\n",
       "    <tr>\n",
       "      <th>rooms</th>\n",
       "      <td>3976.00</td>\n",
       "      <td>3.05</td>\n",
       "      <td>1.05</td>\n",
       "      <td>1.00</td>\n",
       "      <td>2.00</td>\n",
       "      <td>3.00</td>\n",
       "      <td>4.00</td>\n",
       "      <td>7.00</td>\n",
       "    </tr>\n",
       "    <tr>\n",
       "      <th>pp_rm</th>\n",
       "      <td>3976.00</td>\n",
       "      <td>31914.10</td>\n",
       "      <td>24523.78</td>\n",
       "      <td>5000.00</td>\n",
       "      <td>17666.67</td>\n",
       "      <td>26000.00</td>\n",
       "      <td>37500.00</td>\n",
       "      <td>543000.00</td>\n",
       "    </tr>\n",
       "  </tbody>\n",
       "</table>\n",
       "</div>"
      ],
      "text/plain": [
       "            count     mean      std      min      25%      50%       75%  \\\n",
       "house     3976.00     0.32     0.47     0.00     0.00     0.00      1.00   \n",
       "apt       3976.00     0.68     0.47     0.00     0.00     1.00      1.00   \n",
       "price     3976.00 93511.05 75516.07 20000.00 50000.00 72000.00 110000.00   \n",
       "age_new   3976.00     0.17     0.37     0.00     0.00     0.00      0.00   \n",
       "age_old   3976.00     0.20     0.40     0.00     0.00     0.00      0.00   \n",
       "pcn_green 3976.00     3.37     7.87     0.00     0.32     0.98      3.37   \n",
       "rooms     3976.00     3.05     1.05     1.00     2.00     3.00      4.00   \n",
       "pp_rm     3976.00 31914.10 24523.78  5000.00 17666.67 26000.00  37500.00   \n",
       "\n",
       "                max  \n",
       "house          1.00  \n",
       "apt            1.00  \n",
       "price     800000.00  \n",
       "age_new        1.00  \n",
       "age_old        1.00  \n",
       "pcn_green     57.00  \n",
       "rooms          7.00  \n",
       "pp_rm     543000.00  "
      ]
     },
     "execution_count": 47,
     "metadata": {},
     "output_type": "execute_result"
    }
   ],
   "source": [
    "# if you want to see this for ALL the variables in your dataframe, you use this code.\n",
    "# this asks Python to describe the entire dataframe, and transpose (T) the columns and rows\n",
    "# try deleting the .T to see what happens if you don't use it - either way is fine!\n",
    "\n",
    "sub_df.describe().T"
   ]
  },
  {
   "cell_type": "code",
   "execution_count": 48,
   "metadata": {},
   "outputs": [
    {
     "data": {
      "text/html": [
       "<div>\n",
       "<style scoped>\n",
       "    .dataframe tbody tr th:only-of-type {\n",
       "        vertical-align: middle;\n",
       "    }\n",
       "\n",
       "    .dataframe tbody tr th {\n",
       "        vertical-align: top;\n",
       "    }\n",
       "\n",
       "    .dataframe thead th {\n",
       "        text-align: right;\n",
       "    }\n",
       "</style>\n",
       "<table border=\"1\" class=\"dataframe\">\n",
       "  <thead>\n",
       "    <tr style=\"text-align: right;\">\n",
       "      <th></th>\n",
       "      <th>count</th>\n",
       "      <th>mean</th>\n",
       "      <th>std</th>\n",
       "      <th>min</th>\n",
       "      <th>25%</th>\n",
       "      <th>50%</th>\n",
       "      <th>75%</th>\n",
       "      <th>max</th>\n",
       "    </tr>\n",
       "  </thead>\n",
       "  <tbody>\n",
       "    <tr>\n",
       "      <th>apt</th>\n",
       "      <td>3976.00</td>\n",
       "      <td>0.68</td>\n",
       "      <td>0.47</td>\n",
       "      <td>0.00</td>\n",
       "      <td>0.00</td>\n",
       "      <td>1.00</td>\n",
       "      <td>1.00</td>\n",
       "      <td>1.00</td>\n",
       "    </tr>\n",
       "    <tr>\n",
       "      <th>price</th>\n",
       "      <td>3976.00</td>\n",
       "      <td>93511.05</td>\n",
       "      <td>75516.07</td>\n",
       "      <td>20000.00</td>\n",
       "      <td>50000.00</td>\n",
       "      <td>72000.00</td>\n",
       "      <td>110000.00</td>\n",
       "      <td>800000.00</td>\n",
       "    </tr>\n",
       "    <tr>\n",
       "      <th>rooms</th>\n",
       "      <td>3976.00</td>\n",
       "      <td>3.05</td>\n",
       "      <td>1.05</td>\n",
       "      <td>1.00</td>\n",
       "      <td>2.00</td>\n",
       "      <td>3.00</td>\n",
       "      <td>4.00</td>\n",
       "      <td>7.00</td>\n",
       "    </tr>\n",
       "  </tbody>\n",
       "</table>\n",
       "</div>"
      ],
      "text/plain": [
       "        count     mean      std      min      25%      50%       75%       max\n",
       "apt   3976.00     0.68     0.47     0.00     0.00     1.00      1.00      1.00\n",
       "price 3976.00 93511.05 75516.07 20000.00 50000.00 72000.00 110000.00 800000.00\n",
       "rooms 3976.00     3.05     1.05     1.00     2.00     3.00      4.00      7.00"
      ]
     },
     "execution_count": 48,
     "metadata": {},
     "output_type": "execute_result"
    }
   ],
   "source": [
    "# what if you just want to view a few of your key variables of interest?\n",
    "\n",
    "# list of key variables\n",
    "key_var = ['apt','price','rooms']\n",
    "\n",
    "# code calling a few variables \n",
    "sub_df[key_var].describe().T\n",
    "\n",
    "# you could also use this code below if you don't want to separately define a list of variables: \n",
    "sub_df[['apt','price','rooms']].describe().T"
   ]
  }
 ],
 "metadata": {
  "kernelspec": {
   "display_name": "Python 3",
   "language": "python",
   "name": "python3"
  },
  "language_info": {
   "codemirror_mode": {
    "name": "ipython",
    "version": 3
   },
   "file_extension": ".py",
   "mimetype": "text/x-python",
   "name": "python",
   "nbconvert_exporter": "python",
   "pygments_lexer": "ipython3",
   "version": "3.8.5"
  }
 },
 "nbformat": 4,
 "nbformat_minor": 2
}
